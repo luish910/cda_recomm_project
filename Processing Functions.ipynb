{
 "cells": [
  {
   "cell_type": "markdown",
   "id": "778fdbd1",
   "metadata": {},
   "source": [
    "# Functions to preprocess data\n",
    "### Should require a pandas dataframe as input\n",
    "### Should provide a pandas dataframe as output"
   ]
  },
  {
   "cell_type": "code",
   "execution_count": 167,
   "id": "2bf57759",
   "metadata": {},
   "outputs": [
    {
     "name": "stdout",
     "output_type": "stream",
     "text": [
      "artist_sp_df shape:  (28680, 16)\n",
      "artist_df shape:  (17632, 4)\n",
      "weights_df shape:  (92834, 3)\n"
     ]
    }
   ],
   "source": [
    "import numpy as np\n",
    "import pandas as pd\n",
    "import os\n",
    "from matplotlib import pyplot as plt\n",
    "import seaborn as sns\n",
    "\n",
    "directory = os.getcwd()\n",
    "data_path = os.path.join(directory, \"data\")\n",
    "\n",
    "artists_file = os.path.join(data_path, \"artists.dat\")\n",
    "artists_spotify_file = os.path.join(data_path, \"data_by_artist_o.csv\")\n",
    "users_artists_file = os.path.join(data_path, \"user_artists.dat\")\n",
    "\n",
    "#import data\n",
    "artist_sp_df = pd.read_csv(artists_spotify_file)\n",
    "print(\"artist_sp_df shape: \",artist_sp_df.shape)\n",
    "\n",
    "artist_df = pd.read_csv(artists_file,sep=\"\\t\")\n",
    "print(\"artist_df shape: \",artist_df.shape)\n",
    "\n",
    "weights_df = pd.read_csv(users_artists_file,sep=\"\\t\")\n",
    "print(\"weights_df shape: \",weights_df.shape)\n",
    "\n"
   ]
  },
  {
   "cell_type": "code",
   "execution_count": 195,
   "id": "e765855d",
   "metadata": {},
   "outputs": [],
   "source": [
    "#remove weights outside of thresholds \n",
    "#Avoids issues with uncommon listening habits. \n",
    "#i.e: users that have played artist over 100k times\n",
    "def remove_extreme_weights (df,min_weight,max_weight):\n",
    "    '''\n",
    "    Requires input dataframe with userID, artistID, weight columns\n",
    "    min_weight = min # times a user must have played an aritst to keep the record\n",
    "    max_weight = max # times a user must have played an aritst to keep the record\n",
    "    '''    \n",
    "    print('df original shape: ',df.shape)    \n",
    "    sns.boxplot(y=\"weight\", data=df)\n",
    "    plt.title('Boxplot - Original Data')\n",
    "    plt.show()\n",
    "    \n",
    "    bin_data = df.copy()\n",
    "    labels = ['a.<10','b.10-1K','c.1K-5K','d.5K-10K','e.10K-20K','f.20K-50K','g.50K-100K','h.+100K']\n",
    "    bins = [0, 10,1000,5000,10000,20000,50000,100000, np.inf]\n",
    "    bin_data['weight_bin'] = pd.cut(bin_data['weight'], bins,labels=labels)\n",
    "    print('original data binned:')\n",
    "    print(bin_data['weight_bin'].value_counts(sort=False))\n",
    "    print('\\n')\n",
    "\n",
    "    filtered_df = df[df['weight'].between(min_weight, max_weight)].reset_index(drop=True)\n",
    "    print('df new shape: ',filtered_df.shape)\n",
    "    sns.boxplot(y=\"weight\", data=filtered_df)\n",
    "    plt.title('Boxplot - Filtered Data')\n",
    "    plt.show()\n",
    "    print('filtered data - stats:')\n",
    "    print(filtered_df['weight'].describe())\n",
    "    print('\\n')\n",
    "    print(f\"% of removed records: {round(1-(filtered_df.shape[0]/df.shape[0]),4)}\")\n",
    "    \n",
    "    return filtered_df"
   ]
  },
  {
   "cell_type": "code",
   "execution_count": 201,
   "id": "a9cdd6aa",
   "metadata": {},
   "outputs": [
    {
     "name": "stdout",
     "output_type": "stream",
     "text": [
      "df original shape:  (92834, 3)\n"
     ]
    },
    {
     "data": {
      "image/png": "[encoded data removed]",
      "text/plain": [
       "<Figure size 432x288 with 1 Axes>"
      ]
     },
     "metadata": {
      "needs_background": "light"
     },
     "output_type": "display_data"
    },
    {
     "name": "stdout",
     "output_type": "stream",
     "text": [
      "original data binned:\n",
      "a.<10          3461\n",
      "b.10-1K       75313\n",
      "c.1K-5K       12509\n",
      "d.5K-10K        921\n",
      "e.10K-20K       380\n",
      "f.20K-50K       188\n",
      "g.50K-100K       37\n",
      "h.+100K          25\n",
      "Name: weight_bin, dtype: int64\n",
      "\n",
      "\n",
      "df new shape:  (88078, 3)\n"
     ]
    },
    {
     "data": {
      "image/png": "[encoded data removed]",
      "text/plain": [
       "<Figure size 432x288 with 1 Axes>"
      ]
     },
     "metadata": {
      "needs_background": "light"
     },
     "output_type": "display_data"
    },
    {
     "name": "stdout",
     "output_type": "stream",
     "text": [
      "filtered data - stats:\n",
      "count    88078.000000\n",
      "mean       517.838836\n",
      "std        699.040550\n",
      "min         10.000000\n",
      "25%        118.000000\n",
      "50%        267.000000\n",
      "75%        604.000000\n",
      "max       4991.000000\n",
      "Name: weight, dtype: float64\n",
      "\n",
      "\n",
      "% of removed records: 0.0512\n"
     ]
    }
   ],
   "source": [
    "weights_filtered = remove_extreme_weights(weights_df,10,5000)"
   ]
  },
  {
   "cell_type": "code",
   "execution_count": 207,
   "id": "82f85511",
   "metadata": {},
   "outputs": [],
   "source": [
    "#remove users with low artist count. \n",
    "#Avoid issues if user only listens to 1 artist\n",
    "def remove_users_lowcount (df,min_artists):\n",
    "    '''\n",
    "    Requires input dataframe with userID, artistID, weight columns\n",
    "    min_artists = minimum number of artists a user must have listened to\n",
    "    '''    \n",
    "    print('df original shape: ',df.shape)\n",
    "    print('unique users: ',df['userID'].nunique())\n",
    "\n",
    "    grouped_df = df.groupby('userID', dropna=False).agg({'artistID':['count']})\n",
    "    grouped_df = grouped_df.droplevel(axis=1, level=0)\n",
    "    users_drop = grouped_df[grouped_df['count'] < min_artists].index\n",
    "\n",
    "    print(f\"users with less than {min_artists} artists: {len(users_drop)}\")\n",
    "\n",
    "    new_df = df[~df['userID'].isin(users_drop)].reset_index(drop=True)\n",
    "\n",
    "    print('unique users after removal: ',new_df['userID'].nunique())\n",
    "    print('df new shape: ',new_df.shape)\n",
    "    print(f\"% of removed records: {round(1-(new_df.shape[0]/df.shape[0]),4)}\")\n",
    "    return new_df\n"
   ]
  },
  {
   "cell_type": "code",
   "execution_count": 208,
   "id": "7016e74a",
   "metadata": {},
   "outputs": [
    {
     "name": "stdout",
     "output_type": "stream",
     "text": [
      "df original shape:  (88078, 3)\n",
      "unique users:  1869\n",
      "users with less than 20 artists: 66\n",
      "unique users after removal:  1803\n",
      "df new shape:  (87441, 3)\n",
      "% of removed records: 0.0072\n"
     ]
    }
   ],
   "source": [
    "weights_for_model = remove_users_lowcount(weights_filtered,20)"
   ]
  },
  {
   "cell_type": "code",
   "execution_count": 204,
   "id": "4cf5ccb5",
   "metadata": {},
   "outputs": [],
   "source": [
    "def train_test_split(df,sample_size):\n",
    "    '''\n",
    "    Requires input dataframe with userID, artistID, weight columns\n",
    "    sample_size = number of artists per user to sample for test set\n",
    "    sample_size must be smaller than total artist count per user!!!\n",
    "    '''  \n",
    "    print(f\"input data shape: {df.shape}\")\n",
    "\n",
    "    sample = df.groupby('userID').apply(lambda x: x.sample(sample_size))\n",
    "    sample_index = list(sample.index.get_level_values(1))\n",
    " \n",
    "    train  = df[~df.index.isin(sample_index)]\n",
    "    train.reset_index(drop=True,inplace=True)\n",
    "    print(f\"train set shape: {train.shape}\")\n",
    "\n",
    "    test  = df[df.index.isin(sample_index)]\n",
    "    test.reset_index(drop=True,inplace=True)\n",
    "    print(f\"test set shape: {test.shape}\")\n",
    "\n",
    "    return train, test"
   ]
  },
  {
   "cell_type": "code",
   "execution_count": 210,
   "id": "d9fd3806",
   "metadata": {},
   "outputs": [
    {
     "name": "stdout",
     "output_type": "stream",
     "text": [
      "input data shape: (87441, 3)\n",
      "train set shape: (78426, 3)\n",
      "test set shape: (9015, 3)\n"
     ]
    }
   ],
   "source": [
    "train, test = train_test_split(weights_for_model,5)"
   ]
  },
  {
   "cell_type": "code",
   "execution_count": 78,
   "id": "abe21610",
   "metadata": {},
   "outputs": [
    {
     "data": {
      "text/html": [
       "<div>\n",
       "<style scoped>\n",
       "    .dataframe tbody tr th:only-of-type {\n",
       "        vertical-align: middle;\n",
       "    }\n",
       "\n",
       "    .dataframe tbody tr th {\n",
       "        vertical-align: top;\n",
       "    }\n",
       "\n",
       "    .dataframe thead th {\n",
       "        text-align: right;\n",
       "    }\n",
       "</style>\n",
       "<table border=\"1\" class=\"dataframe\">\n",
       "  <thead>\n",
       "    <tr style=\"text-align: right;\">\n",
       "      <th></th>\n",
       "      <th>userID</th>\n",
       "      <th>artistID</th>\n",
       "      <th>weight</th>\n",
       "    </tr>\n",
       "  </thead>\n",
       "  <tbody>\n",
       "    <tr>\n",
       "      <th>1600</th>\n",
       "      <td>35</td>\n",
       "      <td>186</td>\n",
       "      <td>1</td>\n",
       "    </tr>\n",
       "    <tr>\n",
       "      <th>1601</th>\n",
       "      <td>35</td>\n",
       "      <td>212</td>\n",
       "      <td>4</td>\n",
       "    </tr>\n",
       "    <tr>\n",
       "      <th>1602</th>\n",
       "      <td>35</td>\n",
       "      <td>444</td>\n",
       "      <td>1</td>\n",
       "    </tr>\n",
       "    <tr>\n",
       "      <th>1603</th>\n",
       "      <td>35</td>\n",
       "      <td>920</td>\n",
       "      <td>1</td>\n",
       "    </tr>\n",
       "    <tr>\n",
       "      <th>1604</th>\n",
       "      <td>35</td>\n",
       "      <td>964</td>\n",
       "      <td>1</td>\n",
       "    </tr>\n",
       "    <tr>\n",
       "      <th>1605</th>\n",
       "      <td>35</td>\n",
       "      <td>1169</td>\n",
       "      <td>3</td>\n",
       "    </tr>\n",
       "    <tr>\n",
       "      <th>1606</th>\n",
       "      <td>35</td>\n",
       "      <td>1170</td>\n",
       "      <td>2</td>\n",
       "    </tr>\n",
       "    <tr>\n",
       "      <th>1607</th>\n",
       "      <td>35</td>\n",
       "      <td>1171</td>\n",
       "      <td>1</td>\n",
       "    </tr>\n",
       "    <tr>\n",
       "      <th>1608</th>\n",
       "      <td>35</td>\n",
       "      <td>1172</td>\n",
       "      <td>1</td>\n",
       "    </tr>\n",
       "    <tr>\n",
       "      <th>1609</th>\n",
       "      <td>35</td>\n",
       "      <td>1173</td>\n",
       "      <td>1</td>\n",
       "    </tr>\n",
       "    <tr>\n",
       "      <th>1610</th>\n",
       "      <td>35</td>\n",
       "      <td>1174</td>\n",
       "      <td>1</td>\n",
       "    </tr>\n",
       "    <tr>\n",
       "      <th>1611</th>\n",
       "      <td>35</td>\n",
       "      <td>1175</td>\n",
       "      <td>1</td>\n",
       "    </tr>\n",
       "    <tr>\n",
       "      <th>1612</th>\n",
       "      <td>35</td>\n",
       "      <td>1176</td>\n",
       "      <td>1</td>\n",
       "    </tr>\n",
       "    <tr>\n",
       "      <th>1613</th>\n",
       "      <td>35</td>\n",
       "      <td>1177</td>\n",
       "      <td>1</td>\n",
       "    </tr>\n",
       "    <tr>\n",
       "      <th>1614</th>\n",
       "      <td>35</td>\n",
       "      <td>1178</td>\n",
       "      <td>1</td>\n",
       "    </tr>\n",
       "  </tbody>\n",
       "</table>\n",
       "</div>"
      ],
      "text/plain": [
       "      userID  artistID  weight\n",
       "1600      35       186       1\n",
       "1601      35       212       4\n",
       "1602      35       444       1\n",
       "1603      35       920       1\n",
       "1604      35       964       1\n",
       "1605      35      1169       3\n",
       "1606      35      1170       2\n",
       "1607      35      1171       1\n",
       "1608      35      1172       1\n",
       "1609      35      1173       1\n",
       "1610      35      1174       1\n",
       "1611      35      1175       1\n",
       "1612      35      1176       1\n",
       "1613      35      1177       1\n",
       "1614      35      1178       1"
      ]
     },
     "execution_count": 78,
     "metadata": {},
     "output_type": "execute_result"
    }
   ],
   "source": [
    "weights_df[weights_df['userID']==35]"
   ]
  },
  {
   "cell_type": "code",
   "execution_count": 6,
   "id": "aded159f",
   "metadata": {},
   "outputs": [
    {
     "name": "stdout",
     "output_type": "stream",
     "text": [
      "unique users:  1892\n"
     ]
    }
   ],
   "source": [
    "#train-test split\n",
    "#removes n ratings per user from the training set and place them in the test set.\n",
    "n = 10\n",
    "\n",
    "\n",
    "#randomly picks 10 artist \"weights\" from each user. To test the model.\n",
    "\n",
    "print('unique users: ',weights_df['userID'].nunique())\n"
   ]
  },
  {
   "cell_type": "code",
   "execution_count": null,
   "id": "e28eeeb5",
   "metadata": {},
   "outputs": [],
   "source": [
    "sampled_users = np.random.choice(user_df['userID'].unique(), 1892)\n",
    "df_sampled = user_df.query('userID in @sampled_users')\n",
    "df_sampled['userID'].nunique()"
   ]
  },
  {
   "cell_type": "code",
   "execution_count": null,
   "id": "486a4d43",
   "metadata": {},
   "outputs": [],
   "source": [
    "sampled_users.shape"
   ]
  },
  {
   "cell_type": "code",
   "execution_count": null,
   "id": "29b29366",
   "metadata": {},
   "outputs": [],
   "source": [
    "train, test = train_test_split(user_df,10)"
   ]
  },
  {
   "cell_type": "code",
   "execution_count": 120,
   "id": "87187f62",
   "metadata": {},
   "outputs": [
    {
     "data": {
      "text/plain": [
       "6"
      ]
     },
     "execution_count": 120,
     "metadata": {},
     "output_type": "execute_result"
    }
   ],
   "source": [
    "a['index'].values.min()"
   ]
  },
  {
   "cell_type": "code",
   "execution_count": 159,
   "id": "94475ff6",
   "metadata": {},
   "outputs": [],
   "source": [
    "sample = weights_for_model.groupby('userID').apply(lambda x: x.sample(5))\n",
    "sample_index = list(sample.index.get_level_values(1))\n",
    "\n",
    "test  = weights_for_model[weights_for_model.index.isin(sample_index)]\n",
    "test.reset_index(drop=True,inplace=True)\n",
    "train  = weights_for_model[~weights_for_model.index.isin(sample_index)]\n",
    "train.reset_index(drop=True,inplace=True)\n",
    "\n",
    "\n",
    "\n"
   ]
  },
  {
   "cell_type": "code",
   "execution_count": 160,
   "id": "fa06be55",
   "metadata": {},
   "outputs": [
    {
     "data": {
      "text/html": [
       "<div>\n",
       "<style scoped>\n",
       "    .dataframe tbody tr th:only-of-type {\n",
       "        vertical-align: middle;\n",
       "    }\n",
       "\n",
       "    .dataframe tbody tr th {\n",
       "        vertical-align: top;\n",
       "    }\n",
       "\n",
       "    .dataframe thead th {\n",
       "        text-align: right;\n",
       "    }\n",
       "</style>\n",
       "<table border=\"1\" class=\"dataframe\">\n",
       "  <thead>\n",
       "    <tr style=\"text-align: right;\">\n",
       "      <th></th>\n",
       "      <th>userID</th>\n",
       "      <th>artistID</th>\n",
       "      <th>weight</th>\n",
       "    </tr>\n",
       "  </thead>\n",
       "  <tbody>\n",
       "    <tr>\n",
       "      <th>0</th>\n",
       "      <td>2</td>\n",
       "      <td>61</td>\n",
       "      <td>3923</td>\n",
       "    </tr>\n",
       "    <tr>\n",
       "      <th>1</th>\n",
       "      <td>2</td>\n",
       "      <td>78</td>\n",
       "      <td>2119</td>\n",
       "    </tr>\n",
       "    <tr>\n",
       "      <th>2</th>\n",
       "      <td>2</td>\n",
       "      <td>86</td>\n",
       "      <td>1594</td>\n",
       "    </tr>\n",
       "    <tr>\n",
       "      <th>3</th>\n",
       "      <td>2</td>\n",
       "      <td>91</td>\n",
       "      <td>1438</td>\n",
       "    </tr>\n",
       "    <tr>\n",
       "      <th>4</th>\n",
       "      <td>2</td>\n",
       "      <td>93</td>\n",
       "      <td>1407</td>\n",
       "    </tr>\n",
       "    <tr>\n",
       "      <th>...</th>\n",
       "      <td>...</td>\n",
       "      <td>...</td>\n",
       "      <td>...</td>\n",
       "    </tr>\n",
       "    <tr>\n",
       "      <th>9295</th>\n",
       "      <td>2100</td>\n",
       "      <td>1134</td>\n",
       "      <td>1213</td>\n",
       "    </tr>\n",
       "    <tr>\n",
       "      <th>9296</th>\n",
       "      <td>2100</td>\n",
       "      <td>2749</td>\n",
       "      <td>532</td>\n",
       "    </tr>\n",
       "    <tr>\n",
       "      <th>9297</th>\n",
       "      <td>2100</td>\n",
       "      <td>8529</td>\n",
       "      <td>429</td>\n",
       "    </tr>\n",
       "    <tr>\n",
       "      <th>9298</th>\n",
       "      <td>2100</td>\n",
       "      <td>9783</td>\n",
       "      <td>793</td>\n",
       "    </tr>\n",
       "    <tr>\n",
       "      <th>9299</th>\n",
       "      <td>2100</td>\n",
       "      <td>18727</td>\n",
       "      <td>297</td>\n",
       "    </tr>\n",
       "  </tbody>\n",
       "</table>\n",
       "<p>9300 rows × 3 columns</p>\n",
       "</div>"
      ],
      "text/plain": [
       "      userID  artistID  weight\n",
       "0          2        61    3923\n",
       "1          2        78    2119\n",
       "2          2        86    1594\n",
       "3          2        91    1438\n",
       "4          2        93    1407\n",
       "...      ...       ...     ...\n",
       "9295    2100      1134    1213\n",
       "9296    2100      2749     532\n",
       "9297    2100      8529     429\n",
       "9298    2100      9783     793\n",
       "9299    2100     18727     297\n",
       "\n",
       "[9300 rows x 3 columns]"
      ]
     },
     "execution_count": 160,
     "metadata": {},
     "output_type": "execute_result"
    }
   ],
   "source": [
    "test"
   ]
  },
  {
   "cell_type": "code",
   "execution_count": 156,
   "id": "7b90e303",
   "metadata": {},
   "outputs": [
    {
     "data": {
      "text/html": [
       "<div>\n",
       "<style scoped>\n",
       "    .dataframe tbody tr th:only-of-type {\n",
       "        vertical-align: middle;\n",
       "    }\n",
       "\n",
       "    .dataframe tbody tr th {\n",
       "        vertical-align: top;\n",
       "    }\n",
       "\n",
       "    .dataframe thead th {\n",
       "        text-align: right;\n",
       "    }\n",
       "</style>\n",
       "<table border=\"1\" class=\"dataframe\">\n",
       "  <thead>\n",
       "    <tr style=\"text-align: right;\">\n",
       "      <th></th>\n",
       "      <th>userID</th>\n",
       "      <th>artistID</th>\n",
       "      <th>weight</th>\n",
       "    </tr>\n",
       "  </thead>\n",
       "  <tbody>\n",
       "    <tr>\n",
       "      <th>0</th>\n",
       "      <td>2</td>\n",
       "      <td>51</td>\n",
       "      <td>13883</td>\n",
       "    </tr>\n",
       "    <tr>\n",
       "      <th>1</th>\n",
       "      <td>2</td>\n",
       "      <td>52</td>\n",
       "      <td>11690</td>\n",
       "    </tr>\n",
       "    <tr>\n",
       "      <th>2</th>\n",
       "      <td>2</td>\n",
       "      <td>53</td>\n",
       "      <td>11351</td>\n",
       "    </tr>\n",
       "    <tr>\n",
       "      <th>3</th>\n",
       "      <td>2</td>\n",
       "      <td>54</td>\n",
       "      <td>10300</td>\n",
       "    </tr>\n",
       "    <tr>\n",
       "      <th>5</th>\n",
       "      <td>2</td>\n",
       "      <td>56</td>\n",
       "      <td>6152</td>\n",
       "    </tr>\n",
       "    <tr>\n",
       "      <th>...</th>\n",
       "      <td>...</td>\n",
       "      <td>...</td>\n",
       "      <td>...</td>\n",
       "    </tr>\n",
       "    <tr>\n",
       "      <th>92595</th>\n",
       "      <td>2100</td>\n",
       "      <td>18725</td>\n",
       "      <td>758</td>\n",
       "    </tr>\n",
       "    <tr>\n",
       "      <th>92597</th>\n",
       "      <td>2100</td>\n",
       "      <td>18727</td>\n",
       "      <td>297</td>\n",
       "    </tr>\n",
       "    <tr>\n",
       "      <th>92598</th>\n",
       "      <td>2100</td>\n",
       "      <td>18728</td>\n",
       "      <td>281</td>\n",
       "    </tr>\n",
       "    <tr>\n",
       "      <th>92599</th>\n",
       "      <td>2100</td>\n",
       "      <td>18729</td>\n",
       "      <td>280</td>\n",
       "    </tr>\n",
       "    <tr>\n",
       "      <th>92600</th>\n",
       "      <td>2100</td>\n",
       "      <td>18730</td>\n",
       "      <td>263</td>\n",
       "    </tr>\n",
       "  </tbody>\n",
       "</table>\n",
       "<p>83301 rows × 3 columns</p>\n",
       "</div>"
      ],
      "text/plain": [
       "       userID  artistID  weight\n",
       "0           2        51   13883\n",
       "1           2        52   11690\n",
       "2           2        53   11351\n",
       "3           2        54   10300\n",
       "5           2        56    6152\n",
       "...       ...       ...     ...\n",
       "92595    2100     18725     758\n",
       "92597    2100     18727     297\n",
       "92598    2100     18728     281\n",
       "92599    2100     18729     280\n",
       "92600    2100     18730     263\n",
       "\n",
       "[83301 rows x 3 columns]"
      ]
     },
     "execution_count": 156,
     "metadata": {},
     "output_type": "execute_result"
    }
   ],
   "source": [
    "train"
   ]
  },
  {
   "cell_type": "code",
   "execution_count": 130,
   "id": "acacc3e6",
   "metadata": {},
   "outputs": [
    {
     "data": {
      "text/html": [
       "<div>\n",
       "<style scoped>\n",
       "    .dataframe tbody tr th:only-of-type {\n",
       "        vertical-align: middle;\n",
       "    }\n",
       "\n",
       "    .dataframe tbody tr th {\n",
       "        vertical-align: top;\n",
       "    }\n",
       "\n",
       "    .dataframe thead th {\n",
       "        text-align: right;\n",
       "    }\n",
       "</style>\n",
       "<table border=\"1\" class=\"dataframe\">\n",
       "  <thead>\n",
       "    <tr style=\"text-align: right;\">\n",
       "      <th></th>\n",
       "      <th>userID</th>\n",
       "      <th>artistID</th>\n",
       "      <th>weight</th>\n",
       "    </tr>\n",
       "  </thead>\n",
       "  <tbody>\n",
       "    <tr>\n",
       "      <th>0</th>\n",
       "      <td>2</td>\n",
       "      <td>87</td>\n",
       "      <td>1559</td>\n",
       "    </tr>\n",
       "    <tr>\n",
       "      <th>1</th>\n",
       "      <td>2</td>\n",
       "      <td>95</td>\n",
       "      <td>1363</td>\n",
       "    </tr>\n",
       "    <tr>\n",
       "      <th>2</th>\n",
       "      <td>2</td>\n",
       "      <td>89</td>\n",
       "      <td>1519</td>\n",
       "    </tr>\n",
       "    <tr>\n",
       "      <th>3</th>\n",
       "      <td>2</td>\n",
       "      <td>65</td>\n",
       "      <td>3579</td>\n",
       "    </tr>\n",
       "    <tr>\n",
       "      <th>4</th>\n",
       "      <td>2</td>\n",
       "      <td>53</td>\n",
       "      <td>11351</td>\n",
       "    </tr>\n",
       "    <tr>\n",
       "      <th>...</th>\n",
       "      <td>...</td>\n",
       "      <td>...</td>\n",
       "      <td>...</td>\n",
       "    </tr>\n",
       "    <tr>\n",
       "      <th>18595</th>\n",
       "      <td>2100</td>\n",
       "      <td>1281</td>\n",
       "      <td>573</td>\n",
       "    </tr>\n",
       "    <tr>\n",
       "      <th>18596</th>\n",
       "      <td>2100</td>\n",
       "      <td>8326</td>\n",
       "      <td>626</td>\n",
       "    </tr>\n",
       "    <tr>\n",
       "      <th>18597</th>\n",
       "      <td>2100</td>\n",
       "      <td>8327</td>\n",
       "      <td>613</td>\n",
       "    </tr>\n",
       "    <tr>\n",
       "      <th>18598</th>\n",
       "      <td>2100</td>\n",
       "      <td>13679</td>\n",
       "      <td>346</td>\n",
       "    </tr>\n",
       "    <tr>\n",
       "      <th>18599</th>\n",
       "      <td>2100</td>\n",
       "      <td>8324</td>\n",
       "      <td>1068</td>\n",
       "    </tr>\n",
       "  </tbody>\n",
       "</table>\n",
       "<p>18600 rows × 3 columns</p>\n",
       "</div>"
      ],
      "text/plain": [
       "       userID  artistID  weight\n",
       "0           2        87    1559\n",
       "1           2        95    1363\n",
       "2           2        89    1519\n",
       "3           2        65    3579\n",
       "4           2        53   11351\n",
       "...       ...       ...     ...\n",
       "18595    2100      1281     573\n",
       "18596    2100      8326     626\n",
       "18597    2100      8327     613\n",
       "18598    2100     13679     346\n",
       "18599    2100      8324    1068\n",
       "\n",
       "[18600 rows x 3 columns]"
      ]
     },
     "execution_count": 130,
     "metadata": {},
     "output_type": "execute_result"
    }
   ],
   "source": [
    "a = weights_for_model.groupby('userID').apply(lambda x: x.sample(10)).reset_index(drop=True)\n",
    "a"
   ]
  },
  {
   "cell_type": "code",
   "execution_count": 138,
   "id": "4c90f392",
   "metadata": {},
   "outputs": [
    {
     "data": {
      "text/plain": [
       "userID         2\n",
       "artistID      74\n",
       "weight      2547\n",
       "Name: 23, dtype: int64"
      ]
     },
     "execution_count": 138,
     "metadata": {},
     "output_type": "execute_result"
    }
   ],
   "source": [
    "weights_for_model.iloc[23,:]"
   ]
  },
  {
   "cell_type": "code",
   "execution_count": 149,
   "id": "b6385176",
   "metadata": {},
   "outputs": [
    {
     "data": {
      "text/plain": [
       "Int64Index([   44,    11,    15,    24,    40,    79,    55,    57,    58,\n",
       "               89,\n",
       "            ...\n",
       "            92530, 92528, 92523, 92515, 92526, 92561, 92573, 92566, 92600,\n",
       "            92596],\n",
       "           dtype='int64', length=9300)"
      ]
     },
     "execution_count": 149,
     "metadata": {},
     "output_type": "execute_result"
    }
   ],
   "source": [
    "a.index.get_level_values(1)"
   ]
  },
  {
   "cell_type": "code",
   "execution_count": 140,
   "id": "8c56f89a",
   "metadata": {},
   "outputs": [
    {
     "ename": "ValueError",
     "evalue": "cannot insert userID, already exists",
     "output_type": "error",
     "traceback": [
      "\u001b[0;31m---------------------------------------------------------------------------\u001b[0m",
      "\u001b[0;31mValueError\u001b[0m                                Traceback (most recent call last)",
      "\u001b[0;32m<ipython-input-140-7810c5a71f29>\u001b[0m in \u001b[0;36m<module>\u001b[0;34m\u001b[0m\n\u001b[0;32m----> 1\u001b[0;31m \u001b[0ma\u001b[0m \u001b[0;34m=\u001b[0m \u001b[0mweights_for_model\u001b[0m\u001b[0;34m.\u001b[0m\u001b[0mgroupby\u001b[0m\u001b[0;34m(\u001b[0m\u001b[0;34m'userID'\u001b[0m\u001b[0;34m)\u001b[0m\u001b[0;34m.\u001b[0m\u001b[0mapply\u001b[0m\u001b[0;34m(\u001b[0m\u001b[0;32mlambda\u001b[0m \u001b[0mx\u001b[0m\u001b[0;34m:\u001b[0m \u001b[0mx\u001b[0m\u001b[0;34m.\u001b[0m\u001b[0msample\u001b[0m\u001b[0;34m(\u001b[0m\u001b[0;36m10\u001b[0m\u001b[0;34m)\u001b[0m\u001b[0;34m)\u001b[0m\u001b[0;34m.\u001b[0m\u001b[0mreset_index\u001b[0m\u001b[0;34m(\u001b[0m\u001b[0mdrop\u001b[0m\u001b[0;34m=\u001b[0m\u001b[0;32mFalse\u001b[0m\u001b[0;34m)\u001b[0m\u001b[0;34m\u001b[0m\u001b[0;34m\u001b[0m\u001b[0m\n\u001b[0m\u001b[1;32m      2\u001b[0m \u001b[0ma\u001b[0m\u001b[0;34m\u001b[0m\u001b[0;34m\u001b[0m\u001b[0m\n",
      "\u001b[0;32m~/opt/anaconda3/lib/python3.8/site-packages/pandas/core/frame.py\u001b[0m in \u001b[0;36mreset_index\u001b[0;34m(self, level, drop, inplace, col_level, col_fill)\u001b[0m\n\u001b[1;32m   5014\u001b[0m                 \u001b[0;31m# to ndarray and maybe infer different dtype\u001b[0m\u001b[0;34m\u001b[0m\u001b[0;34m\u001b[0m\u001b[0;34m\u001b[0m\u001b[0m\n\u001b[1;32m   5015\u001b[0m                 \u001b[0mlevel_values\u001b[0m \u001b[0;34m=\u001b[0m \u001b[0mmaybe_casted_values\u001b[0m\u001b[0;34m(\u001b[0m\u001b[0mlev\u001b[0m\u001b[0;34m,\u001b[0m \u001b[0mlab\u001b[0m\u001b[0;34m)\u001b[0m\u001b[0;34m\u001b[0m\u001b[0;34m\u001b[0m\u001b[0m\n\u001b[0;32m-> 5016\u001b[0;31m                 \u001b[0mnew_obj\u001b[0m\u001b[0;34m.\u001b[0m\u001b[0minsert\u001b[0m\u001b[0;34m(\u001b[0m\u001b[0;36m0\u001b[0m\u001b[0;34m,\u001b[0m \u001b[0mname\u001b[0m\u001b[0;34m,\u001b[0m \u001b[0mlevel_values\u001b[0m\u001b[0;34m)\u001b[0m\u001b[0;34m\u001b[0m\u001b[0;34m\u001b[0m\u001b[0m\n\u001b[0m\u001b[1;32m   5017\u001b[0m \u001b[0;34m\u001b[0m\u001b[0m\n\u001b[1;32m   5018\u001b[0m         \u001b[0mnew_obj\u001b[0m\u001b[0;34m.\u001b[0m\u001b[0mindex\u001b[0m \u001b[0;34m=\u001b[0m \u001b[0mnew_index\u001b[0m\u001b[0;34m\u001b[0m\u001b[0;34m\u001b[0m\u001b[0m\n",
      "\u001b[0;32m~/opt/anaconda3/lib/python3.8/site-packages/pandas/core/frame.py\u001b[0m in \u001b[0;36minsert\u001b[0;34m(self, loc, column, value, allow_duplicates)\u001b[0m\n\u001b[1;32m   3761\u001b[0m         \u001b[0mself\u001b[0m\u001b[0;34m.\u001b[0m\u001b[0m_ensure_valid_index\u001b[0m\u001b[0;34m(\u001b[0m\u001b[0mvalue\u001b[0m\u001b[0;34m)\u001b[0m\u001b[0;34m\u001b[0m\u001b[0;34m\u001b[0m\u001b[0m\n\u001b[1;32m   3762\u001b[0m         \u001b[0mvalue\u001b[0m \u001b[0;34m=\u001b[0m \u001b[0mself\u001b[0m\u001b[0;34m.\u001b[0m\u001b[0m_sanitize_column\u001b[0m\u001b[0;34m(\u001b[0m\u001b[0mcolumn\u001b[0m\u001b[0;34m,\u001b[0m \u001b[0mvalue\u001b[0m\u001b[0;34m,\u001b[0m \u001b[0mbroadcast\u001b[0m\u001b[0;34m=\u001b[0m\u001b[0;32mFalse\u001b[0m\u001b[0;34m)\u001b[0m\u001b[0;34m\u001b[0m\u001b[0;34m\u001b[0m\u001b[0m\n\u001b[0;32m-> 3763\u001b[0;31m         \u001b[0mself\u001b[0m\u001b[0;34m.\u001b[0m\u001b[0m_mgr\u001b[0m\u001b[0;34m.\u001b[0m\u001b[0minsert\u001b[0m\u001b[0;34m(\u001b[0m\u001b[0mloc\u001b[0m\u001b[0;34m,\u001b[0m \u001b[0mcolumn\u001b[0m\u001b[0;34m,\u001b[0m \u001b[0mvalue\u001b[0m\u001b[0;34m,\u001b[0m \u001b[0mallow_duplicates\u001b[0m\u001b[0;34m=\u001b[0m\u001b[0mallow_duplicates\u001b[0m\u001b[0;34m)\u001b[0m\u001b[0;34m\u001b[0m\u001b[0;34m\u001b[0m\u001b[0m\n\u001b[0m\u001b[1;32m   3764\u001b[0m \u001b[0;34m\u001b[0m\u001b[0m\n\u001b[1;32m   3765\u001b[0m     \u001b[0;32mdef\u001b[0m \u001b[0massign\u001b[0m\u001b[0;34m(\u001b[0m\u001b[0mself\u001b[0m\u001b[0;34m,\u001b[0m \u001b[0;34m**\u001b[0m\u001b[0mkwargs\u001b[0m\u001b[0;34m)\u001b[0m \u001b[0;34m->\u001b[0m \u001b[0mDataFrame\u001b[0m\u001b[0;34m:\u001b[0m\u001b[0;34m\u001b[0m\u001b[0;34m\u001b[0m\u001b[0m\n",
      "\u001b[0;32m~/opt/anaconda3/lib/python3.8/site-packages/pandas/core/internals/managers.py\u001b[0m in \u001b[0;36minsert\u001b[0;34m(self, loc, item, value, allow_duplicates)\u001b[0m\n\u001b[1;32m   1189\u001b[0m         \u001b[0;32mif\u001b[0m \u001b[0;32mnot\u001b[0m \u001b[0mallow_duplicates\u001b[0m \u001b[0;32mand\u001b[0m \u001b[0mitem\u001b[0m \u001b[0;32min\u001b[0m \u001b[0mself\u001b[0m\u001b[0;34m.\u001b[0m\u001b[0mitems\u001b[0m\u001b[0;34m:\u001b[0m\u001b[0;34m\u001b[0m\u001b[0;34m\u001b[0m\u001b[0m\n\u001b[1;32m   1190\u001b[0m             \u001b[0;31m# Should this be a different kind of error??\u001b[0m\u001b[0;34m\u001b[0m\u001b[0;34m\u001b[0m\u001b[0;34m\u001b[0m\u001b[0m\n\u001b[0;32m-> 1191\u001b[0;31m             \u001b[0;32mraise\u001b[0m \u001b[0mValueError\u001b[0m\u001b[0;34m(\u001b[0m\u001b[0;34mf\"cannot insert {item}, already exists\"\u001b[0m\u001b[0;34m)\u001b[0m\u001b[0;34m\u001b[0m\u001b[0;34m\u001b[0m\u001b[0m\n\u001b[0m\u001b[1;32m   1192\u001b[0m \u001b[0;34m\u001b[0m\u001b[0m\n\u001b[1;32m   1193\u001b[0m         \u001b[0;32mif\u001b[0m \u001b[0;32mnot\u001b[0m \u001b[0misinstance\u001b[0m\u001b[0;34m(\u001b[0m\u001b[0mloc\u001b[0m\u001b[0;34m,\u001b[0m \u001b[0mint\u001b[0m\u001b[0;34m)\u001b[0m\u001b[0;34m:\u001b[0m\u001b[0;34m\u001b[0m\u001b[0;34m\u001b[0m\u001b[0m\n",
      "\u001b[0;31mValueError\u001b[0m: cannot insert userID, already exists"
     ]
    }
   ],
   "source": [
    "a = weights_for_model.groupby('userID').apply(lambda x: x.sample(10)).reset_index(drop=True)\n",
    "a"
   ]
  },
  {
   "cell_type": "code",
   "execution_count": 98,
   "id": "80d130d9",
   "metadata": {},
   "outputs": [
    {
     "data": {
      "text/html": [
       "<div>\n",
       "<style scoped>\n",
       "    .dataframe tbody tr th:only-of-type {\n",
       "        vertical-align: middle;\n",
       "    }\n",
       "\n",
       "    .dataframe tbody tr th {\n",
       "        vertical-align: top;\n",
       "    }\n",
       "\n",
       "    .dataframe thead th {\n",
       "        text-align: right;\n",
       "    }\n",
       "</style>\n",
       "<table border=\"1\" class=\"dataframe\">\n",
       "  <thead>\n",
       "    <tr style=\"text-align: right;\">\n",
       "      <th></th>\n",
       "      <th>index</th>\n",
       "      <th>userID</th>\n",
       "      <th>artistID</th>\n",
       "      <th>weight</th>\n",
       "    </tr>\n",
       "  </thead>\n",
       "  <tbody>\n",
       "    <tr>\n",
       "      <th>0</th>\n",
       "      <td>0</td>\n",
       "      <td>2</td>\n",
       "      <td>51</td>\n",
       "      <td>13883</td>\n",
       "    </tr>\n",
       "    <tr>\n",
       "      <th>1</th>\n",
       "      <td>1</td>\n",
       "      <td>2</td>\n",
       "      <td>52</td>\n",
       "      <td>11690</td>\n",
       "    </tr>\n",
       "    <tr>\n",
       "      <th>2</th>\n",
       "      <td>2</td>\n",
       "      <td>2</td>\n",
       "      <td>53</td>\n",
       "      <td>11351</td>\n",
       "    </tr>\n",
       "    <tr>\n",
       "      <th>3</th>\n",
       "      <td>3</td>\n",
       "      <td>2</td>\n",
       "      <td>54</td>\n",
       "      <td>10300</td>\n",
       "    </tr>\n",
       "    <tr>\n",
       "      <th>4</th>\n",
       "      <td>4</td>\n",
       "      <td>2</td>\n",
       "      <td>55</td>\n",
       "      <td>8983</td>\n",
       "    </tr>\n",
       "    <tr>\n",
       "      <th>...</th>\n",
       "      <td>...</td>\n",
       "      <td>...</td>\n",
       "      <td>...</td>\n",
       "      <td>...</td>\n",
       "    </tr>\n",
       "    <tr>\n",
       "      <th>92596</th>\n",
       "      <td>92829</td>\n",
       "      <td>2100</td>\n",
       "      <td>18726</td>\n",
       "      <td>337</td>\n",
       "    </tr>\n",
       "    <tr>\n",
       "      <th>92597</th>\n",
       "      <td>92830</td>\n",
       "      <td>2100</td>\n",
       "      <td>18727</td>\n",
       "      <td>297</td>\n",
       "    </tr>\n",
       "    <tr>\n",
       "      <th>92598</th>\n",
       "      <td>92831</td>\n",
       "      <td>2100</td>\n",
       "      <td>18728</td>\n",
       "      <td>281</td>\n",
       "    </tr>\n",
       "    <tr>\n",
       "      <th>92599</th>\n",
       "      <td>92832</td>\n",
       "      <td>2100</td>\n",
       "      <td>18729</td>\n",
       "      <td>280</td>\n",
       "    </tr>\n",
       "    <tr>\n",
       "      <th>92600</th>\n",
       "      <td>92833</td>\n",
       "      <td>2100</td>\n",
       "      <td>18730</td>\n",
       "      <td>263</td>\n",
       "    </tr>\n",
       "  </tbody>\n",
       "</table>\n",
       "<p>92601 rows × 4 columns</p>\n",
       "</div>"
      ],
      "text/plain": [
       "       index  userID  artistID  weight\n",
       "0          0       2        51   13883\n",
       "1          1       2        52   11690\n",
       "2          2       2        53   11351\n",
       "3          3       2        54   10300\n",
       "4          4       2        55    8983\n",
       "...      ...     ...       ...     ...\n",
       "92596  92829    2100     18726     337\n",
       "92597  92830    2100     18727     297\n",
       "92598  92831    2100     18728     281\n",
       "92599  92832    2100     18729     280\n",
       "92600  92833    2100     18730     263\n",
       "\n",
       "[92601 rows x 4 columns]"
      ]
     },
     "execution_count": 98,
     "metadata": {},
     "output_type": "execute_result"
    }
   ],
   "source": [
    "weights_for_model"
   ]
  },
  {
   "cell_type": "code",
   "execution_count": 13,
   "id": "b32d98ba",
   "metadata": {},
   "outputs": [
    {
     "data": {
      "text/plain": [
       "userID          2\n",
       "artistID       51\n",
       "weight      13883\n",
       "Name: 0, dtype: int64"
      ]
     },
     "execution_count": 13,
     "metadata": {},
     "output_type": "execute_result"
    }
   ],
   "source": [
    "weights_df.iloc[0,:]"
   ]
  },
  {
   "cell_type": "code",
   "execution_count": 15,
   "id": "a75a89e6",
   "metadata": {},
   "outputs": [
    {
     "data": {
      "text/plain": [
       "array([   2,    3,    4, ..., 2097, 2099, 2100])"
      ]
     },
     "execution_count": 15,
     "metadata": {},
     "output_type": "execute_result"
    }
   ],
   "source": [
    "weights_df['userID'].unique()"
   ]
  },
  {
   "cell_type": "code",
   "execution_count": null,
   "id": "a9186bf1",
   "metadata": {},
   "outputs": [],
   "source": []
  }
 ],
 "metadata": {
  "kernelspec": {
   "display_name": "Python 3",
   "language": "python",
   "name": "python3"
  },
  "language_info": {
   "codemirror_mode": {
    "name": "ipython",
    "version": 3
   },
   "file_extension": ".py",
   "mimetype": "text/x-python",
   "name": "python",
   "nbconvert_exporter": "python",
   "pygments_lexer": "ipython3",
   "version": "3.8.8"
  }
 },
 "nbformat": 4,
 "nbformat_minor": 5
}
