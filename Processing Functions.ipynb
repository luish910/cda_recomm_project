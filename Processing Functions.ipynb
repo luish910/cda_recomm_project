{
 "cells": [
  {
   "cell_type": "markdown",
   "id": "4c9812de",
   "metadata": {},
   "source": [
    "# Functions to preprocess data\n",
    "Requires a pandas dataframe as input\n",
    "Provides a pandas dataframe as output"
   ]
  },
  {
   "cell_type": "code",
   "execution_count": 1,
   "id": "d40e6e3e",
   "metadata": {},
   "outputs": [
    {
     "name": "stdout",
     "output_type": "stream",
     "text": [
      "artist_sp_df shape:  (28680, 16)\n",
      "artist_df shape:  (17632, 4)\n",
      "weights_df shape:  (92834, 3)\n"
     ]
    }
   ],
   "source": [
    "import numpy as np\n",
    "import pandas as pd\n",
    "import os\n",
    "from matplotlib import pyplot as plt\n",
    "import seaborn as sns\n",
    "\n",
    "directory = os.getcwd()\n",
    "data_path = os.path.join(directory, \"data\")\n",
    "\n",
    "artists_file = os.path.join(data_path, \"artists.dat\")\n",
    "artists_spotify_file = os.path.join(data_path, \"data_by_artist_o.csv\")\n",
    "users_artists_file = os.path.join(data_path, \"user_artists.dat\")\n",
    "\n",
    "#import data\n",
    "artist_sp_df = pd.read_csv(artists_spotify_file)\n",
    "print(\"artist_sp_df shape: \",artist_sp_df.shape)\n",
    "\n",
    "artist_df = pd.read_csv(artists_file,sep=\"\\t\")\n",
    "print(\"artist_df shape: \",artist_df.shape)\n",
    "\n",
    "weights_df = pd.read_csv(users_artists_file,sep=\"\\t\")\n",
    "print(\"weights_df shape: \",weights_df.shape)\n",
    "\n"
   ]
  },
  {
   "cell_type": "code",
   "execution_count": 2,
   "id": "862f7034",
   "metadata": {},
   "outputs": [],
   "source": [
    "#remove weights outside of thresholds \n",
    "#Avoids issues with uncommon listening habits. \n",
    "#i.e: users that have played artist over 100k times\n",
    "def remove_extreme_weights (df,min_weight,max_weight):\n",
    "    '''\n",
    "    Requires input dataframe with userID, artistID, weight columns\n",
    "    min_weight = min # times a user must have played an aritst to keep the record\n",
    "    max_weight = max # times a user must have played an aritst to keep the record\n",
    "    '''    \n",
    "    print('df original shape: ',df.shape)    \n",
    "    sns.boxplot(y=\"weight\", data=df)\n",
    "    plt.title('Boxplot - Original Data')\n",
    "    plt.show()\n",
    "    \n",
    "    bin_data = df.copy()\n",
    "    labels = ['a.<10','b.10-1K','c.1K-5K','d.5K-10K','e.10K-20K','f.20K-50K','g.50K-100K','h.+100K']\n",
    "    bins = [0, 10,1000,5000,10000,20000,50000,100000, np.inf]\n",
    "    bin_data['weight_bin'] = pd.cut(bin_data['weight'], bins,labels=labels)\n",
    "    print('original data binned:')\n",
    "    print(bin_data['weight_bin'].value_counts(sort=False))\n",
    "    print('\\n')\n",
    "\n",
    "    filtered_df = df[df['weight'].between(min_weight, max_weight)].reset_index(drop=True)\n",
    "    print('df new shape: ',filtered_df.shape)\n",
    "    sns.boxplot(y=\"weight\", data=filtered_df)\n",
    "    plt.title('Boxplot - Filtered Data')\n",
    "    plt.show()\n",
    "    print('filtered data - stats:')\n",
    "    print(filtered_df['weight'].describe())\n",
    "    print('\\n')\n",
    "    print(f\"% of removed records: {round(1-(filtered_df.shape[0]/df.shape[0]),4)}\")\n",
    "    \n",
    "    return filtered_df"
   ]
  },
  {
   "cell_type": "code",
   "execution_count": 3,
   "id": "c79d3de6",
   "metadata": {},
   "outputs": [
    {
     "name": "stdout",
     "output_type": "stream",
     "text": [
      "df original shape:  (92834, 3)\n"
     ]
    },
    {
     "data": {
      "image/png": "[encoded data removed]",
      "text/plain": [
       "<Figure size 432x288 with 1 Axes>"
      ]
     },
     "metadata": {
      "needs_background": "light"
     },
     "output_type": "display_data"
    },
    {
     "name": "stdout",
     "output_type": "stream",
     "text": [
      "original data binned:\n",
      "a.<10          3461\n",
      "b.10-1K       75313\n",
      "c.1K-5K       12509\n",
      "d.5K-10K        921\n",
      "e.10K-20K       380\n",
      "f.20K-50K       188\n",
      "g.50K-100K       37\n",
      "h.+100K          25\n",
      "Name: weight_bin, dtype: int64\n",
      "\n",
      "\n",
      "df new shape:  (89545, 3)\n"
     ]
    },
    {
     "data": {
      "image/png": "[encoded data removed]",
      "text/plain": [
       "<Figure size 432x288 with 1 Axes>"
      ]
     },
     "metadata": {
      "needs_background": "light"
     },
     "output_type": "display_data"
    },
    {
     "name": "stdout",
     "output_type": "stream",
     "text": [
      "filtered data - stats:\n",
      "count    89545.000000\n",
      "mean       509.468792\n",
      "std        696.317684\n",
      "min          5.000000\n",
      "25%        112.000000\n",
      "50%        260.000000\n",
      "75%        594.000000\n",
      "max       4991.000000\n",
      "Name: weight, dtype: float64\n",
      "\n",
      "\n",
      "% of removed records: 0.0354\n"
     ]
    }
   ],
   "source": [
    "weights_filtered = remove_extreme_weights(weights_df,5,5000)"
   ]
  },
  {
   "cell_type": "code",
   "execution_count": 4,
   "id": "6bc284b5",
   "metadata": {},
   "outputs": [],
   "source": [
    "#remove users with low artist count. \n",
    "#Avoid issues if user only listens to 1 artist\n",
    "def remove_users_lowcount (df,min_artists):\n",
    "    '''\n",
    "    Requires input dataframe with userID, artistID, weight columns\n",
    "    min_artists = minimum number of artists a user must have listened to\n",
    "    '''    \n",
    "    print('df original shape: ',df.shape)\n",
    "    print('unique users: ',df['userID'].nunique())\n",
    "\n",
    "    grouped_df = df.groupby('userID', dropna=False).agg({'artistID':['count']})\n",
    "    grouped_df = grouped_df.droplevel(axis=1, level=0)\n",
    "    users_drop = grouped_df[grouped_df['count'] < min_artists].index\n",
    "\n",
    "    print(f\"users with less than {min_artists} artists: {len(users_drop)}\")\n",
    "\n",
    "    new_df = df[~df['userID'].isin(users_drop)].reset_index(drop=True)\n",
    "\n",
    "    print('unique users after removal: ',new_df['userID'].nunique())\n",
    "    print('df new shape: ',new_df.shape)\n",
    "    print(f\"% of removed records: {round(1-(new_df.shape[0]/df.shape[0]),4)}\")\n",
    "    return new_df\n"
   ]
  },
  {
   "cell_type": "code",
   "execution_count": 5,
   "id": "a81d5126",
   "metadata": {},
   "outputs": [
    {
     "name": "stdout",
     "output_type": "stream",
     "text": [
      "df original shape:  (89545, 3)\n",
      "unique users:  1875\n",
      "users with less than 20 artists: 41\n",
      "unique users after removal:  1834\n",
      "df new shape:  (89228, 3)\n",
      "% of removed records: 0.0035\n"
     ]
    }
   ],
   "source": [
    "weights_for_model = remove_users_lowcount(weights_filtered,20)"
   ]
  },
  {
   "cell_type": "code",
   "execution_count": 6,
   "id": "e6b75c24",
   "metadata": {},
   "outputs": [],
   "source": [
    "def remove_popular_artists(df,artist_df,pct_remove):\n",
    "    '''\n",
    "    Requires input dataframe with [userID, artistID, weight] columns\n",
    "    Requires lastfm artist input dataframe with [id, name] columns\n",
    "    pct_remove: pct of top artists to remove. Example: 0.01 removes the top 1% artists with\n",
    "    top sum of weight (popular)\n",
    "    Dont filter if your algorithm will already take care of this artist-level bias\n",
    "    '''  \n",
    "    #input dataset info\n",
    "    print(f\"input data shape: {df.shape}\")\n",
    "\n",
    "    artists_group = df.groupby('artistID').agg({'weight': ['sum']})\n",
    "    artists_group = artists_group.droplevel(axis=1, level=0)\n",
    "    \n",
    "    artists_group['sum'].plot()\n",
    "    plt.tick_params(labelbottom = False)\n",
    "    plt.title('Long tail distribution of Artist sum of weights')\n",
    "    plt.ylabel('sum of weights')\n",
    "    plt.show()\n",
    "    \n",
    "    artists_group = artists_group.sort_values(by='sum',ascending=False)\n",
    "    top_list = artists_group.head(10).index\n",
    "    print('top 10 artists: ')\n",
    "    print(artist_df[artist_df['id'].isin(top_list)]['name'])\n",
    "    print('\\n')\n",
    "\n",
    "    #filter dataset\n",
    "    threshold = artists_group['sum'].quantile(1-pct_remove) #percentile\n",
    "    removed_artists = artists_group[artists_group['sum'] > threshold].index\n",
    "    filtered_df = df[~df['artistID'].isin(removed_artists)].reset_index(drop=True)\n",
    "    num_removed = len(removed_artists)\n",
    "    print(f\"total removed artists: {num_removed}\") \n",
    "\n",
    "    #new dataset info\n",
    "    artists_group = filtered_df.groupby('artistID').agg({'weight': ['sum']})\n",
    "    artists_group = artists_group.droplevel(axis=1, level=0)\n",
    "    \n",
    "    artists_group['sum'].plot()\n",
    "    plt.tick_params(labelbottom = False)\n",
    "    plt.title('Distribution of Artist sum of weights - Filtered Dataset')\n",
    "    plt.ylabel('sum of weights')\n",
    "    plt.show()\n",
    "    \n",
    "    artists_group = artists_group.sort_values(by='sum',ascending=False)\n",
    "    top_list = artists_group.head(10).index\n",
    "    print('top 10 artists - filtered dataset: ')\n",
    "    print(artist_df[artist_df['id'].isin(top_list)]['name'])\n",
    "    \n",
    "    print('\\n')\n",
    "    print(f\"filtered dataset shape: {filtered_df.shape}\") \n",
    "    print(f\"% of removed records: {round(1-(filtered_df.shape[0]/df.shape[0]),4)}\")\n",
    "\n",
    "\n",
    "    return filtered_df"
   ]
  },
  {
   "cell_type": "code",
   "execution_count": 7,
   "id": "49e05d1d",
   "metadata": {},
   "outputs": [
    {
     "name": "stdout",
     "output_type": "stream",
     "text": [
      "input data shape: (89228, 3)\n"
     ]
    },
    {
     "data": {
      "image/png": "[encoded data removed]",
      "text/plain": [
       "<Figure size 432x288 with 1 Axes>"
      ]
     },
     "metadata": {
      "needs_background": "light"
     },
     "output_type": "display_data"
    },
    {
     "name": "stdout",
     "output_type": "stream",
     "text": [
      "top 10 artists: \n",
      "61                Madonna\n",
      "83              Lady Gaga\n",
      "148             Radiohead\n",
      "221           The Beatles\n",
      "282               Rihanna\n",
      "283        Britney Spears\n",
      "286    Christina Aguilera\n",
      "294            Katy Perry\n",
      "327         Avril Lavigne\n",
      "492              Paramore\n",
      "Name: name, dtype: object\n",
      "\n",
      "\n",
      "total removed artists: 171\n"
     ]
    },
    {
     "data": {
      "image/png": "[encoded data removed]",
      "text/plain": [
       "<Figure size 432x288 with 1 Axes>"
      ]
     },
     "metadata": {
      "needs_background": "light"
     },
     "output_type": "display_data"
    },
    {
     "name": "stdout",
     "output_type": "stream",
     "text": [
      "top 10 artists - filtered dataset: \n",
      "232       Massive Attack\n",
      "410         The National\n",
      "417       Bat for Lashes\n",
      "482     Three Days Grace\n",
      "491           Papa Roach\n",
      "697               The xx\n",
      "709               R.E.M.\n",
      "739     Boards of Canada\n",
      "942             Bon Jovi\n",
      "1234                Mika\n",
      "Name: name, dtype: object\n",
      "\n",
      "\n",
      "filtered dataset shape: (62252, 3)\n",
      "% of removed records: 0.3023\n"
     ]
    }
   ],
   "source": [
    "weights_filtered = remove_popular_artists(weights_for_model,artist_df,0.01)"
   ]
  },
  {
   "cell_type": "code",
   "execution_count": 8,
   "id": "7200d0f0",
   "metadata": {},
   "outputs": [],
   "source": [
    "#scale weights at user level\n",
    "#2 users might have a favorite artist, user 1 played such artist 100k times\n",
    "#user 2 played such artist 10k times. However those users are still neighbors\n",
    "#dont scale if your algorithm will already take care of this user-level bias\n",
    "\n",
    "def scale_weight_by_user(df):\n",
    "    '''\n",
    "    Requires input dataframe with userID, artistID, weight columns\n",
    "    Dont scale if your algorithm will already take care of this user-level bias\n",
    "    '''  \n",
    "    print('df original shape: ',df.shape)    \n",
    "    sns.boxplot(y=\"weight\", data=df)\n",
    "    plt.title('Boxplot - Original Data')\n",
    "    plt.show()\n",
    "    \n",
    "    scaled_df = df.copy()\n",
    "    scaled_df['weight'] = scaled_df.groupby('userID')['weight'].apply(lambda x: (x-x.min())/(x.max()-x.min()))\n",
    "    \n",
    "    print('df scaled shape: ',scaled_df.shape)    \n",
    "    sns.boxplot(y=\"weight\", data=scaled_df)\n",
    "    plt.title('Boxplot - Scaled Data')\n",
    "    plt.show()\n",
    "    \n",
    "    return scaled_df\n"
   ]
  },
  {
   "cell_type": "code",
   "execution_count": 9,
   "id": "7ef9d9e3",
   "metadata": {},
   "outputs": [
    {
     "name": "stdout",
     "output_type": "stream",
     "text": [
      "df original shape:  (62252, 3)\n"
     ]
    },
    {
     "data": {
      "image/png": "[encoded data removed]",
      "text/plain": [
       "<Figure size 432x288 with 1 Axes>"
      ]
     },
     "metadata": {
      "needs_background": "light"
     },
     "output_type": "display_data"
    },
    {
     "name": "stdout",
     "output_type": "stream",
     "text": [
      "df scaled shape:  (62252, 3)\n"
     ]
    },
    {
     "data": {
      "image/png": "[encoded data removed]",
      "text/plain": [
       "<Figure size 432x288 with 1 Axes>"
      ]
     },
     "metadata": {
      "needs_background": "light"
     },
     "output_type": "display_data"
    }
   ],
   "source": [
    "weights_scaled = scale_weight_by_user(weights_filtered)"
   ]
  },
  {
   "cell_type": "code",
   "execution_count": 10,
   "id": "7d2d965c",
   "metadata": {},
   "outputs": [],
   "source": [
    "def train_test_split(df,sample_size):\n",
    "    '''\n",
    "    Requires input dataframe with userID, artistID, weight columns\n",
    "    sample_size = number of artists per user to sample for test set\n",
    "    sample_size must be smaller than total artist count per user!!!\n",
    "    '''  \n",
    "    print(f\"input data shape: {df.shape}\")\n",
    "\n",
    "    sample = df.groupby('userID').apply(lambda x: x.sample(sample_size))\n",
    "    sample_index = list(sample.index.get_level_values(1))\n",
    " \n",
    "    train  = df[~df.index.isin(sample_index)]\n",
    "    train.reset_index(drop=True,inplace=True)\n",
    "    print(f\"train set shape: {train.shape}\")\n",
    "\n",
    "    test  = df[df.index.isin(sample_index)]\n",
    "    test.reset_index(drop=True,inplace=True)\n",
    "    print(f\"test set shape: {test.shape}\")\n",
    "\n",
    "    return train, test"
   ]
  },
  {
   "cell_type": "code",
   "execution_count": 11,
   "id": "6029177b",
   "metadata": {},
   "outputs": [
    {
     "name": "stdout",
     "output_type": "stream",
     "text": [
      "input data shape: (62252, 3)\n",
      "train set shape: (53082, 3)\n",
      "test set shape: (9170, 3)\n"
     ]
    }
   ],
   "source": [
    "train, test = train_test_split(weights_scaled,5)"
   ]
  },
  {
   "cell_type": "code",
   "execution_count": null,
   "id": "1497b1e2",
   "metadata": {},
   "outputs": [],
   "source": []
  }
 ],
 "metadata": {
  "kernelspec": {
   "display_name": "Python 3",
   "language": "python",
   "name": "python3"
  },
  "language_info": {
   "codemirror_mode": {
    "name": "ipython",
    "version": 3
   },
   "file_extension": ".py",
   "mimetype": "text/x-python",
   "name": "python",
   "nbconvert_exporter": "python",
   "pygments_lexer": "ipython3",
   "version": "3.8.8"
  }
 },
 "nbformat": 4,
 "nbformat_minor": 5
}
