{
 "cells": [
  {
   "cell_type": "markdown",
   "id": "5feb973f",
   "metadata": {},
   "source": [
    "# Functions to preprocess data\n",
    "Requires a pandas dataframe as input\n",
    "Provides a pandas dataframe as output"
   ]
  },
  {
   "cell_type": "code",
   "execution_count": 1,
   "id": "89864854",
   "metadata": {},
   "outputs": [
    {
     "name": "stdout",
     "output_type": "stream",
     "text": [
      "artist_sp_df shape:  (28680, 16)\n",
      "artist_df shape:  (17632, 4)\n",
      "weights_df shape:  (92834, 3)\n"
     ]
    }
   ],
   "source": [
    "import numpy as np\n",
    "import pandas as pd\n",
    "import os\n",
    "from matplotlib import pyplot as plt\n",
    "import seaborn as sns\n",
    "\n",
    "directory = os.getcwd()\n",
    "data_path = os.path.join(directory, \"data\")\n",
    "\n",
    "artists_file = os.path.join(data_path, \"artists.dat\")\n",
    "artists_spotify_file = os.path.join(data_path, \"data_by_artist_o.csv\")\n",
    "users_artists_file = os.path.join(data_path, \"user_artists.dat\")\n",
    "\n",
    "#import data\n",
    "artist_sp_df = pd.read_csv(artists_spotify_file)\n",
    "print(\"artist_sp_df shape: \",artist_sp_df.shape)\n",
    "\n",
    "artist_df = pd.read_csv(artists_file,sep=\"\\t\")\n",
    "print(\"artist_df shape: \",artist_df.shape)\n",
    "\n",
    "weights_df = pd.read_csv(users_artists_file,sep=\"\\t\")\n",
    "print(\"weights_df shape: \",weights_df.shape)\n",
    "\n"
   ]
  },
  {
   "cell_type": "code",
   "execution_count": 2,
   "id": "13f21e43",
   "metadata": {},
   "outputs": [],
   "source": [
    "#remove weights outside of thresholds \n",
    "#Avoids issues with uncommon listening habits. \n",
    "#i.e: users that have played artist over 100k times\n",
    "def remove_extreme_weights (df,min_weight,max_weight):\n",
    "    '''\n",
    "    Requires input dataframe with userID, artistID, weight columns\n",
    "    min_weight = min # times a user must have played an aritst to keep the record\n",
    "    max_weight = max # times a user must have played an aritst to keep the record\n",
    "    '''    \n",
    "    print('\\n')\n",
    "    print('**Remove Extreme (hig,low) Weights**')\n",
    "    print('df original shape: ',df.shape)    \n",
    "    sns.boxplot(y=\"weight\", data=df)\n",
    "    plt.title('Boxplot - Original Data')\n",
    "    plt.show()\n",
    "    \n",
    "    bin_data = df.copy()\n",
    "    labels = ['a.<10','b.10-1K','c.1K-5K','d.5K-10K','e.10K-20K','f.20K-50K','g.50K-100K','h.+100K']\n",
    "    bins = [0, 10,1000,5000,10000,20000,50000,100000, np.inf]\n",
    "    bin_data['weight_bin'] = pd.cut(bin_data['weight'], bins,labels=labels)\n",
    "    print('original data binned:')\n",
    "    print(bin_data['weight_bin'].value_counts(sort=False))\n",
    "    print('\\n')\n",
    "\n",
    "    filtered_df = df[df['weight'].between(min_weight, max_weight)].reset_index(drop=True)\n",
    "    print('df new shape: ',filtered_df.shape)\n",
    "    sns.boxplot(y=\"weight\", data=filtered_df)\n",
    "    plt.title('Boxplot - Filtered Data')\n",
    "    plt.show()\n",
    "    print('filtered data - stats:')\n",
    "    print(filtered_df['weight'].describe())\n",
    "    print('\\n')\n",
    "    print(f\"% of removed records: {round(1-(filtered_df.shape[0]/df.shape[0]),4)}\")\n",
    "    \n",
    "    return filtered_df"
   ]
  },
  {
   "cell_type": "code",
   "execution_count": 3,
   "id": "b9e87471",
   "metadata": {},
   "outputs": [
    {
     "name": "stdout",
     "output_type": "stream",
     "text": [
      "df original shape:  (92834, 3)\n"
     ]
    },
    {
     "data": {
      "image/png": "[encoded data removed]",
      "text/plain": [
       "<Figure size 432x288 with 1 Axes>"
      ]
     },
     "metadata": {
      "needs_background": "light"
     },
     "output_type": "display_data"
    },
    {
     "name": "stdout",
     "output_type": "stream",
     "text": [
      "original data binned:\n",
      "a.<10          3461\n",
      "b.10-1K       75313\n",
      "c.1K-5K       12509\n",
      "d.5K-10K        921\n",
      "e.10K-20K       380\n",
      "f.20K-50K       188\n",
      "g.50K-100K       37\n",
      "h.+100K          25\n",
      "Name: weight_bin, dtype: int64\n",
      "\n",
      "\n",
      "df new shape:  (89545, 3)\n"
     ]
    },
    {
     "data": {
      "image/png": "[encoded data removed]",
      "text/plain": [
       "<Figure size 432x288 with 1 Axes>"
      ]
     },
     "metadata": {
      "needs_background": "light"
     },
     "output_type": "display_data"
    },
    {
     "name": "stdout",
     "output_type": "stream",
     "text": [
      "filtered data - stats:\n",
      "count    89545.000000\n",
      "mean       509.468792\n",
      "std        696.317684\n",
      "min          5.000000\n",
      "25%        112.000000\n",
      "50%        260.000000\n",
      "75%        594.000000\n",
      "max       4991.000000\n",
      "Name: weight, dtype: float64\n",
      "\n",
      "\n",
      "% of removed records: 0.0354\n"
     ]
    }
   ],
   "source": [
    "weights_filtered = remove_extreme_weights(weights_df,5,5000)"
   ]
  },
  {
   "cell_type": "code",
   "execution_count": 151,
   "id": "657249cd",
   "metadata": {},
   "outputs": [],
   "source": [
    "#source: https://github.com/statisticianinstilettos/recmetrics/blob/master/recmetrics/plots.py \n",
    "\n",
    "from matplotlib.lines import Line2D\n",
    "def long_tail_plot(df, item_id_column, percentage=0.75):\n",
    "    \"\"\"\n",
    "    Plots the long tail for a user-item interaction dataset.\n",
    "    ----------\n",
    "    df: pandas dataframe\n",
    "        user-item interaction dataframe\n",
    "        example:\n",
    "    item_id_column: str\n",
    "        column name identifying the item ids in the dataframe\n",
    "    percentage: float, default=None\n",
    "        percent of volume to consider as the head (percent as a decimal)\n",
    "        (if default=None no line will be plotted)\n",
    "\n",
    "    Returns:\n",
    "    -------\n",
    "        A long tail plot\n",
    "    \"\"\"\n",
    "    volume_df = df[item_id_column].value_counts().reset_index()\n",
    "    volume_df.columns = [item_id_column, \"volume\"]\n",
    "    volume_df[item_id_column] = volume_df[item_id_column].astype(str)\n",
    "    volume_df['cumulative_volume'] = volume_df['volume'].cumsum()\n",
    "    volume_df['percent_of_total_volume'] = volume_df['cumulative_volume']/volume_df['volume'].sum()\n",
    "    \n",
    "    #line plot of cumulative volume\n",
    "    ax=sns.lineplot(x = 'index', y=\"volume\", data=volume_df.reset_index(), color=\"black\")\n",
    "    #set labels\n",
    "    ax.set_title('Long Tail Plot of User weights by Artist')\n",
    "    ax.set_ylabel('# of user weights')\n",
    "    ax.set_xlabel(item_id_column)\n",
    "    plt.tick_params(labelbottom = False)\n",
    "    \n",
    "    #plot vertical line at the tail location\n",
    "    head = volume_df[volume_df[\"percent_of_total_volume\"] <= percentage]\n",
    "    tail = volume_df[volume_df[\"percent_of_total_volume\"] > percentage]\n",
    "    items_in_head = len(head)\n",
    "    items_in_tail = len(tail)\n",
    "    plt.axvline(x=items_in_head, color=\"red\",  linestyle='--')\n",
    "\n",
    "    # fill area under plot\n",
    "    head = head.append(tail.head(1))\n",
    "    x1 = head.index.values\n",
    "    y1 = head['volume']\n",
    "    x2 = tail.index.values\n",
    "    y2 = tail['volume']\n",
    "    ax.fill_between(x1, y1, color=\"blue\", alpha=0.2)\n",
    "    ax.fill_between(x2, y2,  color=\"orange\", alpha=0.2)\n",
    "\n",
    "    #create legend\n",
    "    legend_elements = [Line2D([0], [0], marker='o', color='w', label=str(items_in_head)+': artists in the head', markerfacecolor='blue', markersize=5),\n",
    "                       Line2D([0], [0], marker='o', color='w', label=str(items_in_tail)+': artists in the tail', markerfacecolor='orange', markersize=5)]\n",
    "    ax.legend(handles=legend_elements, loc=1)\n",
    "\n",
    "    plt.show()"
   ]
  },
  {
   "cell_type": "code",
   "execution_count": 235,
   "id": "c0dac74b",
   "metadata": {},
   "outputs": [],
   "source": [
    "def remove_popular_artists(df,artist_df,pct_remove):\n",
    "    '''\n",
    "    Requires input dataframe with [userID, artistID, weight] columns\n",
    "    Requires lastfm artist input dataframe with [id, name] columns\n",
    "    pct_remove: pct of top artists to remove. Example: 0.01 removes the top 1% artists with\n",
    "    top count of users (popular)\n",
    "    Dont filter if your algorithm will already take care of this artist-level bias\n",
    "    '''  \n",
    "    print('\\n')\n",
    "    print('**Remove Highly Popular Artists**')\n",
    "    #input dataset info\n",
    "    print(f\"input data shape: {df.shape}\")\n",
    "    print('unique artists: ',df['artistID'].nunique())\n",
    "\n",
    "    artists_group = df.groupby('artistID').agg({'weight': ['count']})\n",
    "    artists_group = artists_group.droplevel(axis=1, level=0)\n",
    "    artists_group = artists_group.sort_values(by='count',ascending=False)\n",
    "\n",
    "    #artists_group['artist']=range(0,artists_group.shape[0])\n",
    "    #ax = sns.lineplot(x = 'artist', y='count', data=artists_group)\n",
    "    #plt.tick_params(labelbottom = False)\n",
    "    #plt.title('Long tail distribution of tot Users per Artist')\n",
    "    #plt.ylabel('count of users')\n",
    "    #plt.show()\n",
    "    pct_plot = 0.8\n",
    "    print(f\"line divides top: {pct_plot*100} % cumulative sum of users:\") \n",
    "    long_tail_plot(df,'artistID',0.8)\n",
    "    \n",
    "    top_list = artists_group.head(10).index\n",
    "    print('top 10 artists (most users): ')\n",
    "    print(artist_df[artist_df['id'].isin(top_list)]['name'])\n",
    "    print('\\n')\n",
    "\n",
    "    #filter dataset\n",
    "    threshold = artists_group['count'].quantile(1-pct_remove) #percentile\n",
    "    removed_artists = artists_group[artists_group['count'] > threshold].index\n",
    "    filtered_df = df[~df['artistID'].isin(removed_artists)].reset_index(drop=True)\n",
    "    num_removed = len(removed_artists)\n",
    "    print(f\"total removed artists: {num_removed}\") \n",
    "\n",
    "    #new dataset info\n",
    "    artists_group = filtered_df.groupby('artistID').agg({'weight': ['count']})\n",
    "    artists_group = artists_group.droplevel(axis=1, level=0)\n",
    "    artists_group = artists_group.sort_values(by='count',ascending=False)\n",
    "    \n",
    "    #artists_group['artist']=range(0,artists_group.shape[0])\n",
    "    #ax = sns.lineplot(x = 'artist', y='count', data=artists_group)\n",
    "    #plt.tick_params(labelbottom = False)\n",
    "    #plt.title('Distribution of tot Users per Artist - Filtered Dataset')\n",
    "    #plt.ylabel('count of users')\n",
    "    #plt.show()\n",
    "    print('\\n')\n",
    "    print(f\"line divides top: {pct_plot*100} % cumulative sum of users:\") \n",
    "    long_tail_plot(filtered_df,'artistID',pct_plot)\n",
    "    \n",
    "    top_list = artists_group.head(10).index\n",
    "    print('top 10 artists (most users) - filtered dataset: ')\n",
    "    print(artist_df[artist_df['id'].isin(top_list)]['name'])\n",
    "    \n",
    "    print('\\n')\n",
    "    print(f\"filtered dataset shape: {filtered_df.shape}\") \n",
    "    print('unique artists after removal: ',filtered_df['artistID'].nunique())\n",
    "    print(f\"% of removed records: {round(1-(filtered_df.shape[0]/df.shape[0]),4)}\")\n",
    "\n",
    "\n",
    "    return filtered_df"
   ]
  },
  {
   "cell_type": "code",
   "execution_count": 236,
   "id": "3dbdadca",
   "metadata": {},
   "outputs": [
    {
     "name": "stdout",
     "output_type": "stream",
     "text": [
      "input data shape: (36959, 3)\n",
      "unique artists:  1881\n",
      "line divides top: 80.0 % cumulative sum of users:\n"
     ]
    },
    {
     "data": {
      "image/png": "[encoded data removed]",
      "text/plain": [
       "<Figure size 432x288 with 1 Axes>"
      ]
     },
     "metadata": {
      "needs_background": "light"
     },
     "output_type": "display_data"
    },
    {
     "name": "stdout",
     "output_type": "stream",
     "text": [
      "top 10 artists (most users): \n",
      "52            Goldfrapp\n",
      "91                Duffy\n",
      "166             Garbage\n",
      "185         OneRepublic\n",
      "259         Céline Dion\n",
      "315      Jonas Brothers\n",
      "799        Rise Against\n",
      "1034    Boys Like Girls\n",
      "1177             Sum 41\n",
      "2328               KISS\n",
      "Name: name, dtype: object\n",
      "\n",
      "\n",
      "total removed artists: 15\n",
      "\n",
      "\n",
      "line divides top: 80.0 % cumulative sum of users:\n"
     ]
    },
    {
     "data": {
      "image/png": "[encoded data removed]",
      "text/plain": [
       "<Figure size 432x288 with 1 Axes>"
      ]
     },
     "metadata": {
      "needs_background": "light"
     },
     "output_type": "display_data"
    },
    {
     "name": "stdout",
     "output_type": "stream",
     "text": [
      "top 10 artists (most users) - filtered dataset: \n",
      "170             Scorpions\n",
      "426               Klaxons\n",
      "491            Papa Roach\n",
      "542        Ellie Goulding\n",
      "807     A Day to Remember\n",
      "904       Destiny's Child\n",
      "1122                 Tool\n",
      "1363          Deep Purple\n",
      "1368             The Fray\n",
      "1381      Vampire Weekend\n",
      "Name: name, dtype: object\n",
      "\n",
      "\n",
      "filtered dataset shape: (35787, 3)\n",
      "unique artists after removal:  1866\n",
      "% of removed records: 0.0317\n"
     ]
    }
   ],
   "source": [
    "weights_filtered = remove_popular_artists(weights_for_model,artist_df,0.01)"
   ]
  },
  {
   "cell_type": "code",
   "execution_count": 233,
   "id": "03332364",
   "metadata": {},
   "outputs": [],
   "source": [
    "def remove_rare_artists(df,artist_df,min_users):\n",
    "    '''\n",
    "    Requires input dataframe with [userID, artistID, weight] columns\n",
    "    Requires lastfm artist input dataframe with [id, name] columns\n",
    "    min_users: minimum number of users each artist must have \n",
    "    Dont filter if your algorithm will already take care of this artist-level bias\n",
    "    '''  \n",
    "    print('\\n')\n",
    "    print('**Remove Rare Artists**')\n",
    "    #input dataset info\n",
    "    print(f\"input data shape: {df.shape}\")\n",
    "    print('unique artists: ',df['artistID'].nunique())\n",
    "\n",
    "    artists_group = df.groupby('artistID').agg({'weight': ['count']})\n",
    "    artists_group = artists_group.droplevel(axis=1, level=0)\n",
    "    artists_group = artists_group.sort_values(by='count',ascending=False)\n",
    "    \n",
    "    pct_plot = 0.8\n",
    "    print(f\"line divides top: {pct_plot*100} % cumulative sum of users:\") \n",
    "    long_tail_plot(df,'artistID',0.8)\n",
    "    #artists_group['artist']=range(0,artists_group.shape[0])\n",
    "    #ax = sns.lineplot(x = 'artist', y='count', data=artists_group)\n",
    "    #plt.tick_params(labelbottom = False)\n",
    "    #plt.title('Long tail distribution of User count by Artist')\n",
    "    #plt.ylabel('count of users')\n",
    "    #plt.show()\n",
    "    \n",
    "    top_list = artists_group.tail(10).index\n",
    "    print('bottom 10 artists: ')\n",
    "    print(artist_df[artist_df['id'].isin(top_list)]['name'])\n",
    "    print('\\n')\n",
    "\n",
    "    #filter dataset\n",
    "    #threshold = artists_group['count'].quantile(pct_remove) #percentile\n",
    "    removed_artists = artists_group[artists_group['count'] < min_users].index\n",
    "    filtered_df = df[~df['artistID'].isin(removed_artists)].reset_index(drop=True)\n",
    "    num_removed = len(removed_artists)\n",
    "    print(f\"total removed artists: {num_removed}\") \n",
    "\n",
    "    #new dataset info\n",
    "    artists_group = filtered_df.groupby('artistID').agg({'weight': ['count']})\n",
    "    artists_group = artists_group.droplevel(axis=1, level=0)\n",
    "    artists_group = artists_group.sort_values(by='count',ascending=False)\n",
    "    \n",
    "    #artists_group['artist']=range(0,artists_group.shape[0])\n",
    "    #ax = sns.lineplot(x = 'artist', y='count', data=artists_group)\n",
    "    #plt.tick_params(labelbottom = False)\n",
    "    #plt.title('Long tail distribution of User count by Artist')\n",
    "    #plt.ylabel('count of users')\n",
    "    #plt.show()\n",
    "    print('\\n')\n",
    "    print(f\"line divides top: {pct_plot*100} % cumulative sum of users:\") \n",
    "    long_tail_plot(filtered_df,'artistID',0.8)\n",
    "    \n",
    "    top_list = artists_group.tail(10).index\n",
    "    print('bottom 10 artists - filtered dataset: ')\n",
    "    print(artist_df[artist_df['id'].isin(top_list)]['name'])\n",
    "    \n",
    "    print('\\n')\n",
    "    print(f\"filtered dataset shape: {filtered_df.shape}\") \n",
    "    print('unique artists after removal: ',filtered_df['artistID'].nunique())\n",
    "    print(f\"% of removed records: {round(1-(filtered_df.shape[0]/df.shape[0]),4)}\")\n",
    "\n",
    "\n",
    "    return filtered_df"
   ]
  },
  {
   "cell_type": "code",
   "execution_count": 234,
   "id": "d286f03b",
   "metadata": {},
   "outputs": [
    {
     "name": "stdout",
     "output_type": "stream",
     "text": [
      "input data shape: (62107, 3)\n",
      "unique artists:  16917\n",
      "line divides top: 80.0 % cumulative sum of users:\n"
     ]
    },
    {
     "data": {
      "image/png": "[encoded data removed]",
      "text/plain": [
       "<Figure size 432x288 with 1 Axes>"
      ]
     },
     "metadata": {
      "needs_background": "light"
     },
     "output_type": "display_data"
    },
    {
     "name": "stdout",
     "output_type": "stream",
     "text": [
      "bottom 10 artists: \n",
      "9082     Letters From a Tinman\n",
      "9083                    Fences\n",
      "9084             Holly Miranda\n",
      "9085               A.C. Newman\n",
      "9087                 The Muffs\n",
      "9089       Sigue Sigue Sputnik\n",
      "9090              T3CHN0PH0B1A\n",
      "9091             Ian McCulloch\n",
      "9092                  Michigan\n",
      "17631         Grzegorz Tomczak\n",
      "Name: name, dtype: object\n",
      "\n",
      "\n",
      "total removed artists: 15036\n",
      "\n",
      "\n",
      "line divides top: 80.0 % cumulative sum of users:\n"
     ]
    },
    {
     "data": {
      "image/png": "[encoded data removed]",
      "text/plain": [
       "<Figure size 432x288 with 1 Axes>"
      ]
     },
     "metadata": {
      "needs_background": "light"
     },
     "output_type": "display_data"
    },
    {
     "name": "stdout",
     "output_type": "stream",
     "text": [
      "bottom 10 artists - filtered dataset: \n",
      "2539          Kajagoogoo\n",
      "2549                Styx\n",
      "2564          Rogue Wave\n",
      "2573             Battles\n",
      "2578           will.i.am\n",
      "5353     Blue Foundation\n",
      "5358           Frou Frou\n",
      "5365      Kasia Kowalska\n",
      "5411       Alexis Jordan\n",
      "12802           Don Omar\n",
      "Name: name, dtype: object\n",
      "\n",
      "\n",
      "filtered dataset shape: (37500, 3)\n",
      "unique artists:  1881\n",
      "% of removed records: 0.3962\n"
     ]
    }
   ],
   "source": [
    "weights_filtered_rare = remove_rare_artists(weights_filtered,artist_df,7)"
   ]
  },
  {
   "cell_type": "code",
   "execution_count": 207,
   "id": "ee28bf53",
   "metadata": {},
   "outputs": [],
   "source": [
    "#remove users with low artist count. \n",
    "#Avoid issues if user only listens to 1 artist\n",
    "def remove_users_lowcount (df,min_artists):\n",
    "    '''\n",
    "    Requires input dataframe with userID, artistID, weight columns\n",
    "    min_artists = minimum number of artists a user must have listened to\n",
    "    '''    \n",
    "    print('\\n')\n",
    "    print('**Remove User with lowcount of samples (artists)**')\n",
    "    print('df original shape: ',df.shape)\n",
    "    print('unique users: ',df['userID'].nunique())\n",
    "\n",
    "    grouped_df = df.groupby('userID', dropna=False).agg({'artistID':['count']})\n",
    "    grouped_df = grouped_df.droplevel(axis=1, level=0)\n",
    "    users_drop = grouped_df[grouped_df['count'] < min_artists].index\n",
    "\n",
    "    print(f\"users with less than {min_artists} artists: {len(users_drop)}\")\n",
    "\n",
    "    new_df = df[~df['userID'].isin(users_drop)].reset_index(drop=True)\n",
    "\n",
    "    print('unique users after removal: ',new_df['userID'].nunique())\n",
    "    print('df new shape: ',new_df.shape)\n",
    "    print(f\"% of removed records: {round(1-(new_df.shape[0]/df.shape[0]),4)}\")\n",
    "    return new_df\n"
   ]
  },
  {
   "cell_type": "code",
   "execution_count": 208,
   "id": "e9556e44",
   "metadata": {},
   "outputs": [
    {
     "name": "stdout",
     "output_type": "stream",
     "text": [
      "df original shape:  (37500, 3)\n",
      "unique users:  1828\n",
      "users with less than 10 artists: 90\n",
      "unique users after removal:  1738\n",
      "df new shape:  (36959, 3)\n",
      "% of removed records: 0.0144\n"
     ]
    }
   ],
   "source": [
    "weights_for_model = remove_users_lowcount(weights_filtered_rare,10)"
   ]
  },
  {
   "cell_type": "code",
   "execution_count": 209,
   "id": "1b1dde4b",
   "metadata": {},
   "outputs": [],
   "source": [
    "#scale weights at user level\n",
    "#2 users might have a favorite artist, user 1 played such artist 100k times\n",
    "#user 2 played such artist 10k times. However those users are still neighbors\n",
    "#dont scale if your algorithm will already take care of this user-level bias\n",
    "\n",
    "def scale_weight_by_user(df):\n",
    "    '''\n",
    "    Requires input dataframe with userID, artistID, weight columns\n",
    "    Dont scale if your algorithm will already take care of this user-level bias\n",
    "    '''  \n",
    "    print('\\n')\n",
    "    print('**Scaling**')\n",
    "    print('df original shape: ',df.shape)    \n",
    "    sns.boxplot(y=\"weight\", data=df)\n",
    "    plt.title('Boxplot - Original Data')\n",
    "    plt.show()\n",
    "    \n",
    "    scaled_df = df.copy()\n",
    "    scaled_df['weight'] = scaled_df.groupby('userID')['weight'].apply(lambda x: (x-x.min())/(x.max()-x.min()))\n",
    "    \n",
    "    print('df scaled shape: ',scaled_df.shape)    \n",
    "    sns.boxplot(y=\"weight\", data=scaled_df)\n",
    "    plt.title('Boxplot - Scaled Data')\n",
    "    plt.show()\n",
    "    \n",
    "    return scaled_df\n"
   ]
  },
  {
   "cell_type": "code",
   "execution_count": 210,
   "id": "c9b54e2b",
   "metadata": {},
   "outputs": [
    {
     "name": "stdout",
     "output_type": "stream",
     "text": [
      "df original shape:  (36959, 3)\n"
     ]
    },
    {
     "data": {
      "image/png": "[encoded data removed]",
      "text/plain": [
       "<Figure size 432x288 with 1 Axes>"
      ]
     },
     "metadata": {
      "needs_background": "light"
     },
     "output_type": "display_data"
    },
    {
     "name": "stdout",
     "output_type": "stream",
     "text": [
      "df scaled shape:  (36959, 3)\n"
     ]
    },
    {
     "data": {
      "image/png": "[encoded data removed]",
      "text/plain": [
       "<Figure size 432x288 with 1 Axes>"
      ]
     },
     "metadata": {
      "needs_background": "light"
     },
     "output_type": "display_data"
    }
   ],
   "source": [
    "weights_scaled = scale_weight_by_user(weights_for_model)"
   ]
  },
  {
   "cell_type": "code",
   "execution_count": 229,
   "id": "b93e5587",
   "metadata": {},
   "outputs": [],
   "source": [
    "def train_test_split(df,sample_size,seed=1):\n",
    "    '''\n",
    "    Requires input dataframe with userID, artistID, weight columns\n",
    "    sample_size = number of artists per user to sample for test set\n",
    "    \n",
    "    sample_size must be smaller than total artist count per user!!!\n",
    "    \n",
    "    '''  \n",
    "    print('\\n')\n",
    "    print('**Train-Test Split**')\n",
    "    print(f\"input data shape: {df.shape}\")\n",
    "    \n",
    "    np.random.seed(seed)\n",
    "    sample = df.groupby('userID').apply(lambda x: x.sample(sample_size))\n",
    "    sample_index = list(sample.index.get_level_values(1))\n",
    " \n",
    "    train  = df[~df.index.isin(sample_index)]\n",
    "    train.reset_index(drop=True,inplace=True)\n",
    "    print(f\"train set shape: {train.shape}\")\n",
    "\n",
    "    test  = df[df.index.isin(sample_index)]\n",
    "    test.reset_index(drop=True,inplace=True)\n",
    "    print(f\"test set shape: {test.shape}\")\n",
    "    print('\\n')\n",
    "    #all test artists must be part of the training data\n",
    "    unique_train = train['artistID'].unique()\n",
    "    unique_test = test['artistID'].unique()\n",
    "    diff = np.setdiff1d(unique_test,unique_train)\n",
    "    if len(diff)>1:\n",
    "        print(f\"WARNING: {len(diff)} artists from the test set are not on the train set\")\n",
    "        print('1.consider increasing the min count of users per artist when pre-processing')\n",
    "        print('2.consider decreasing the number of samples per user for train-test split')\n",
    "        print('3.as al ast resource consider changing your seed')\n",
    "    else:\n",
    "        print('OK: all artists from the test set are part on the train set as well')\n",
    "    return train, test"
   ]
  },
  {
   "cell_type": "code",
   "execution_count": 230,
   "id": "06e4ed2b",
   "metadata": {},
   "outputs": [
    {
     "name": "stdout",
     "output_type": "stream",
     "text": [
      "input data shape: (36959, 3)\n",
      "train set shape: (28269, 3)\n",
      "test set shape: (8690, 3)\n",
      "\n",
      "\n",
      "OK: all artists from the test set are part on the train set as well\n"
     ]
    }
   ],
   "source": [
    "train, test = train_test_split(weights_scaled,5,2021)"
   ]
  }
 ],
 "metadata": {
  "kernelspec": {
   "display_name": "Python 3",
   "language": "python",
   "name": "python3"
  },
  "language_info": {
   "codemirror_mode": {
    "name": "ipython",
    "version": 3
   },
   "file_extension": ".py",
   "mimetype": "text/x-python",
   "name": "python",
   "nbconvert_exporter": "python",
   "pygments_lexer": "ipython3",
   "version": "3.8.8"
  }
 },
 "nbformat": 4,
 "nbformat_minor": 5
}
