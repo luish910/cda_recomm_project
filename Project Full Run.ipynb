{
 "cells": [
  {
   "cell_type": "markdown",
   "id": "3f18b134",
   "metadata": {},
   "source": [
    "imports and pre processing"
   ]
  },
  {
   "cell_type": "code",
   "execution_count": 1,
   "id": "89e59e02",
   "metadata": {},
   "outputs": [
    {
     "name": "stdout",
     "output_type": "stream",
     "text": [
      "artist_sp_df shape:  (28680, 16)\n",
      "artist_df shape:  (17632, 4)\n",
      "weights_df shape:  (92834, 3)\n"
     ]
    }
   ],
   "source": [
    "import numpy as np\n",
    "import pandas as pd\n",
    "import os\n",
    "from matplotlib import pyplot as plt\n",
    "import seaborn as sns\n",
    "pd.set_option('display.float_format', lambda x: '%.3f' % x)\n",
    "\n",
    "\n",
    "directory = os.getcwd()\n",
    "data_path = os.path.join(directory, \"data\")\n",
    "\n",
    "artists_file = os.path.join(data_path, \"artists.dat\")\n",
    "artists_spotify_file = os.path.join(data_path, \"data_by_artist_o.csv\")\n",
    "users_artists_file = os.path.join(data_path, \"user_artists.dat\")\n",
    "\n",
    "#import data\n",
    "artist_sp_df = pd.read_csv(artists_spotify_file)\n",
    "print(\"artist_sp_df shape: \",artist_sp_df.shape)\n",
    "\n",
    "artist_df = pd.read_csv(artists_file,sep=\"\\t\")\n",
    "print(\"artist_df shape: \",artist_df.shape)\n",
    "\n",
    "weights_df = pd.read_csv(users_artists_file,sep=\"\\t\")\n",
    "print(\"weights_df shape: \",weights_df.shape)\n",
    "\n"
   ]
  },
  {
   "cell_type": "code",
   "execution_count": 2,
   "id": "8165f724",
   "metadata": {},
   "outputs": [
    {
     "name": "stdout",
     "output_type": "stream",
     "text": [
      "(92834, 4)\n"
     ]
    }
   ],
   "source": [
    "#remove weights outside of thresholds \n",
    "#Avoids issues with uncommon listening habits. \n",
    "#i.e: users that have played artist over 100k times\n",
    "def remove_extreme_weights (df,min_weight,max_weight):\n",
    "    '''\n",
    "    Requires input dataframe with userID, artistID, weight columns\n",
    "    min_weight = min # times a user must have played an aritst to keep the record\n",
    "    max_weight = max # times a user must have played an aritst to keep the record\n",
    "    '''    \n",
    "    print('\\n')\n",
    "    print('**Remove Extreme (hig,low) Weights**')\n",
    "    print('df original shape: ',df.shape)    \n",
    "    sns.boxplot(y=\"weight\", data=df)\n",
    "    plt.title('Boxplot - Original Data')\n",
    "    plt.show()\n",
    "    \n",
    "    bin_data = df.copy()\n",
    "    labels = ['a.<10','b.10-1K','c.1K-5K','d.5K-10K','e.10K-20K','f.20K-50K','g.50K-100K','h.+100K']\n",
    "    bins = [0, 10,1000,5000,10000,20000,50000,100000, np.inf]\n",
    "    bin_data['weight_bin'] = pd.cut(bin_data['weight'], bins,labels=labels)\n",
    "    print('original data binned:')\n",
    "    print(bin_data['weight_bin'].value_counts(sort=False))\n",
    "    print('\\n')\n",
    "\n",
    "    filtered_df = df[df['weight'].between(min_weight, max_weight)].reset_index(drop=True)\n",
    "    print('df new shape: ',filtered_df.shape)\n",
    "    sns.boxplot(y=\"weight\", data=filtered_df)\n",
    "    plt.title('Boxplot - Filtered Data')\n",
    "    plt.show()\n",
    "    print('filtered data - stats:')\n",
    "    print(filtered_df['weight'].describe())\n",
    "    print('\\n')\n",
    "    print(f\"% of removed records: {round(1-(filtered_df.shape[0]/df.shape[0]),4)}\")\n",
    "    \n",
    "    return filtered_df\n",
    "\n",
    "#source: https://github.com/statisticianinstilettos/recmetrics/blob/master/recmetrics/plots.py \n",
    "\n",
    "from matplotlib.lines import Line2D\n",
    "def long_tail_plot(df, item_id_column, percentage=0.75):\n",
    "    \"\"\"\n",
    "    Plots the long tail for a user-item interaction dataset.\n",
    "    ----------\n",
    "    df: pandas dataframe\n",
    "        user-item interaction dataframe\n",
    "        example:\n",
    "    item_id_column: str\n",
    "        column name identifying the item ids in the dataframe\n",
    "    percentage: float, default=None\n",
    "        percent of volume to consider as the head (percent as a decimal)\n",
    "        (if default=None no line will be plotted)\n",
    "\n",
    "    Returns:\n",
    "    -------\n",
    "        A long tail plot\n",
    "    \"\"\"\n",
    "    volume_df = df[item_id_column].value_counts().reset_index()\n",
    "    volume_df.columns = [item_id_column, \"volume\"]\n",
    "    volume_df[item_id_column] = volume_df[item_id_column].astype(str)\n",
    "    volume_df['cumulative_volume'] = volume_df['volume'].cumsum()\n",
    "    volume_df['percent_of_total_volume'] = volume_df['cumulative_volume']/volume_df['volume'].sum()\n",
    "    \n",
    "    #line plot of cumulative volume\n",
    "    ax=sns.lineplot(x = 'index', y=\"volume\", data=volume_df.reset_index(), color=\"black\")\n",
    "    #set labels\n",
    "    ax.set_title('Long Tail Plot of User weights by Artist')\n",
    "    ax.set_ylabel('# of user weights')\n",
    "    ax.set_xlabel(item_id_column)\n",
    "    plt.tick_params(labelbottom = False)\n",
    "    \n",
    "    #plot vertical line at the tail location\n",
    "    head = volume_df[volume_df[\"percent_of_total_volume\"] <= percentage]\n",
    "    tail = volume_df[volume_df[\"percent_of_total_volume\"] > percentage]\n",
    "    items_in_head = len(head)\n",
    "    items_in_tail = len(tail)\n",
    "    plt.axvline(x=items_in_head, color=\"red\",  linestyle='--')\n",
    "\n",
    "    # fill area under plot\n",
    "    head = head.append(tail.head(1))\n",
    "    x1 = head.index.values\n",
    "    y1 = head['volume']\n",
    "    x2 = tail.index.values\n",
    "    y2 = tail['volume']\n",
    "    ax.fill_between(x1, y1, color=\"blue\", alpha=0.2)\n",
    "    ax.fill_between(x2, y2,  color=\"orange\", alpha=0.2)\n",
    "\n",
    "    #create legend\n",
    "    legend_elements = [Line2D([0], [0], marker='o', color='w', label=str(items_in_head)+': artists in the head', markerfacecolor='blue', markersize=5),\n",
    "                       Line2D([0], [0], marker='o', color='w', label=str(items_in_tail)+': artists in the tail', markerfacecolor='orange', markersize=5)]\n",
    "    ax.legend(handles=legend_elements, loc=1)\n",
    "\n",
    "    plt.show()\n",
    "    \n",
    "    \n",
    "def remove_popular_artists(df,artist_df,pct_remove):\n",
    "    '''\n",
    "    Requires input dataframe with [userID, artistID, weight] columns\n",
    "    Requires lastfm artist input dataframe with [id, name] columns\n",
    "    pct_remove: pct of top artists to remove. Example: 0.01 removes the top 1% artists with\n",
    "    top count of users (popular)\n",
    "    Dont filter if your algorithm will already take care of this artist-level bias\n",
    "    '''  \n",
    "    print('\\n')\n",
    "    print('**Remove Highly Popular Artists**')\n",
    "    #input dataset info\n",
    "    print(f\"input data shape: {df.shape}\")\n",
    "    print('unique artists: ',df['artistID'].nunique())\n",
    "\n",
    "    artists_group = df.groupby('artistID').agg({'weight': ['count']})\n",
    "    artists_group = artists_group.droplevel(axis=1, level=0)\n",
    "    artists_group = artists_group.sort_values(by='count',ascending=False)\n",
    "\n",
    "    #artists_group['artist']=range(0,artists_group.shape[0])\n",
    "    #ax = sns.lineplot(x = 'artist', y='count', data=artists_group)\n",
    "    #plt.tick_params(labelbottom = False)\n",
    "    #plt.title('Long tail distribution of tot Users per Artist')\n",
    "    #plt.ylabel('count of users')\n",
    "    #plt.show()\n",
    "    pct_plot = 0.8\n",
    "    print(f\"line divides top {pct_plot*100} % cumulative sum of users:\") \n",
    "    long_tail_plot(df,'artistID',0.8)\n",
    "    \n",
    "    top_list = artists_group.head(10).index\n",
    "    print('top 10 artists (most users): ')\n",
    "    print(artist_df[artist_df['id'].isin(top_list)]['name'])\n",
    "    print('\\n')\n",
    "\n",
    "    #filter dataset\n",
    "    threshold = artists_group['count'].quantile(1-pct_remove) #percentile\n",
    "    removed_artists = artists_group[artists_group['count'] > threshold].index\n",
    "    filtered_df = df[~df['artistID'].isin(removed_artists)].reset_index(drop=True)\n",
    "    num_removed = len(removed_artists)\n",
    "    print(f\"total removed artists: {num_removed}\") \n",
    "\n",
    "    #new dataset info\n",
    "    artists_group = filtered_df.groupby('artistID').agg({'weight': ['count']})\n",
    "    artists_group = artists_group.droplevel(axis=1, level=0)\n",
    "    artists_group = artists_group.sort_values(by='count',ascending=False)\n",
    "    \n",
    "    #artists_group['artist']=range(0,artists_group.shape[0])\n",
    "    #ax = sns.lineplot(x = 'artist', y='count', data=artists_group)\n",
    "    #plt.tick_params(labelbottom = False)\n",
    "    #plt.title('Distribution of tot Users per Artist - Filtered Dataset')\n",
    "    #plt.ylabel('count of users')\n",
    "    #plt.show()\n",
    "    print('\\n')\n",
    "    print(f\"line divides top {pct_plot*100} % cumulative sum of users:\") \n",
    "    long_tail_plot(filtered_df,'artistID',pct_plot)\n",
    "    \n",
    "    top_list = artists_group.head(10).index\n",
    "    print('top 10 artists (most users) - filtered dataset: ')\n",
    "    print(artist_df[artist_df['id'].isin(top_list)]['name'])\n",
    "    \n",
    "    print('\\n')\n",
    "    print(f\"filtered dataset shape: {filtered_df.shape}\") \n",
    "    print('unique artists after removal: ',filtered_df['artistID'].nunique())\n",
    "    print(f\"% of removed records: {round(1-(filtered_df.shape[0]/df.shape[0]),4)}\")\n",
    "\n",
    "\n",
    "    return filtered_df\n",
    "\n",
    "\n",
    "def remove_rare_artists(df,artist_df,min_users):\n",
    "    '''\n",
    "    Requires input dataframe with [userID, artistID, weight] columns\n",
    "    Requires lastfm artist input dataframe with [id, name] columns\n",
    "    min_users: minimum number of users each artist must have \n",
    "    Dont filter if your algorithm will already take care of this artist-level bias\n",
    "    '''  \n",
    "    print('\\n')\n",
    "    print('**Remove Rare Artists**')\n",
    "    #input dataset info\n",
    "    print(f\"input data shape: {df.shape}\")\n",
    "    print('unique artists: ',df['artistID'].nunique())\n",
    "\n",
    "    artists_group = df.groupby('artistID').agg({'weight': ['count']})\n",
    "    artists_group = artists_group.droplevel(axis=1, level=0)\n",
    "    artists_group = artists_group.sort_values(by='count',ascending=False)\n",
    "    \n",
    "    pct_plot = 0.8\n",
    "    print(f\"line divides top {pct_plot*100} % cumulative sum of users:\") \n",
    "    long_tail_plot(df,'artistID',0.8)\n",
    "    #artists_group['artist']=range(0,artists_group.shape[0])\n",
    "    #ax = sns.lineplot(x = 'artist', y='count', data=artists_group)\n",
    "    #plt.tick_params(labelbottom = False)\n",
    "    #plt.title('Long tail distribution of User count by Artist')\n",
    "    #plt.ylabel('count of users')\n",
    "    #plt.show()\n",
    "    \n",
    "    top_list = artists_group.tail(10).index\n",
    "    print('bottom 10 artists: ')\n",
    "    print(artist_df[artist_df['id'].isin(top_list)]['name'])\n",
    "    print('\\n')\n",
    "\n",
    "    #filter dataset\n",
    "    #threshold = artists_group['count'].quantile(pct_remove) #percentile\n",
    "    removed_artists = artists_group[artists_group['count'] < min_users].index\n",
    "    filtered_df = df[~df['artistID'].isin(removed_artists)].reset_index(drop=True)\n",
    "    num_removed = len(removed_artists)\n",
    "    print(f\"total removed artists: {num_removed}\") \n",
    "\n",
    "    #new dataset info\n",
    "    artists_group = filtered_df.groupby('artistID').agg({'weight': ['count']})\n",
    "    artists_group = artists_group.droplevel(axis=1, level=0)\n",
    "    artists_group = artists_group.sort_values(by='count',ascending=False)\n",
    "    \n",
    "    #artists_group['artist']=range(0,artists_group.shape[0])\n",
    "    #ax = sns.lineplot(x = 'artist', y='count', data=artists_group)\n",
    "    #plt.tick_params(labelbottom = False)\n",
    "    #plt.title('Long tail distribution of User count by Artist')\n",
    "    #plt.ylabel('count of users')\n",
    "    #plt.show()\n",
    "    print('\\n')\n",
    "    print(f\"line divides top {pct_plot*100} % cumulative sum of users:\") \n",
    "    long_tail_plot(filtered_df,'artistID',0.8)\n",
    "    \n",
    "    top_list = artists_group.tail(10).index\n",
    "    print('bottom 10 artists - filtered dataset: ')\n",
    "    print(artist_df[artist_df['id'].isin(top_list)]['name'])\n",
    "    \n",
    "    print('\\n')\n",
    "    print(f\"filtered dataset shape: {filtered_df.shape}\") \n",
    "    print('unique artists after removal: ',filtered_df['artistID'].nunique())\n",
    "    print(f\"% of removed records: {round(1-(filtered_df.shape[0]/df.shape[0]),4)}\")\n",
    "\n",
    "\n",
    "    return filtered_df\n",
    "\n",
    "\n",
    "#remove users with low artist count. \n",
    "#Avoid issues if user only listens to 1 artist\n",
    "def remove_users_lowcount (df,min_artists):\n",
    "    '''\n",
    "    Requires input dataframe with userID, artistID, weight columns\n",
    "    min_artists = minimum number of artists a user must have listened to\n",
    "    '''    \n",
    "    print('\\n')\n",
    "    print('**Remove User with lowcount of samples (artists)**')\n",
    "    print('df original shape: ',df.shape)\n",
    "    print('unique users: ',df['userID'].nunique())\n",
    "\n",
    "    grouped_df = df.groupby('userID', dropna=False).agg({'artistID':['count']})\n",
    "    grouped_df = grouped_df.droplevel(axis=1, level=0)\n",
    "    users_drop = grouped_df[grouped_df['count'] < min_artists].index\n",
    "\n",
    "    print(f\"users with less than {min_artists} artists: {len(users_drop)}\")\n",
    "\n",
    "    new_df = df[~df['userID'].isin(users_drop)].reset_index(drop=True)\n",
    "\n",
    "    print('unique users after removal: ',new_df['userID'].nunique())\n",
    "    print('df new shape: ',new_df.shape)\n",
    "    print(f\"% of removed records: {round(1-(new_df.shape[0]/df.shape[0]),4)}\")\n",
    "    return new_df\n",
    "\n",
    "#scale weights at user level\n",
    "#2 users might have a favorite artist, user 1 played such artist 100k times\n",
    "#user 2 played such artist 10k times. However those users are still neighbors\n",
    "#dont scale if your algorithm will already take care of this user-level bias\n",
    "\n",
    "def scale_weight_by_user(df):\n",
    "    '''\n",
    "    Requires input dataframe with userID, artistID, weight columns\n",
    "    Dont scale if your algorithm will already take care of this user-level bias\n",
    "    '''  \n",
    "    print('\\n')\n",
    "    print('**Scaling**')\n",
    "    print('df original shape: ',df.shape)    \n",
    "    sns.boxplot(y=\"weight\", data=df)\n",
    "    plt.title('Boxplot - Original Data')\n",
    "    plt.show()\n",
    "    \n",
    "    scaled_df = df.copy()\n",
    "    scaled_df['weight'] = scaled_df.groupby('userID')['weight'].apply(lambda x: (x-x.min())/(x.max()-x.min()))\n",
    "    \n",
    "    #adding 0.01 to provent 0 values\n",
    "    scaled_df['weight'] = scaled_df['weight'] + 0.01\n",
    "    #to handle 0 division\n",
    "    scaled_df['weight'] = scaled_df['weight'].fillna(0.5)\n",
    "    \n",
    "    print('df scaled shape: ',scaled_df.shape)    \n",
    "    sns.boxplot(y=\"weight\", data=scaled_df)\n",
    "    plt.title('Boxplot - Scaled Data')\n",
    "    plt.show()\n",
    "    \n",
    "    return scaled_df\n",
    "\n",
    "def train_test_split(df,sample_size,seed=1):\n",
    "    '''\n",
    "    Requires input dataframe with userID, artistID, weight columns\n",
    "    sample_size = number of artists per user to sample for test set\n",
    "    \n",
    "    sample_size must be smaller than total artist count per user!!!\n",
    "    \n",
    "    '''  \n",
    "    print('\\n')\n",
    "    print('**Train-Test Split**')\n",
    "    print(f\"input data shape: {df.shape}\")\n",
    "    \n",
    "    np.random.seed(seed)\n",
    "    sample = df.groupby('userID').apply(lambda x: x.sample(sample_size))\n",
    "    sample_index = list(sample.index.get_level_values(1))\n",
    " \n",
    "    train  = df[~df.index.isin(sample_index)]\n",
    "    train.reset_index(drop=True,inplace=True)\n",
    "    print(f\"train set shape: {train.shape}\")\n",
    "\n",
    "    test  = df[df.index.isin(sample_index)]\n",
    "    test.reset_index(drop=True,inplace=True)\n",
    "    print(f\"test set shape: {test.shape}\")\n",
    "    print('\\n')\n",
    "    #all test artists must be part of the training data\n",
    "    unique_train = train['artistID'].unique()\n",
    "    unique_test = test['artistID'].unique()\n",
    "    diff = np.setdiff1d(unique_test,unique_train)\n",
    "    if len(diff)>1:\n",
    "        print(f\"WARNING: {len(diff)} artists from the test set are not on the train set\")\n",
    "        print('1.consider increasing the min count of users per artist when pre-processing')\n",
    "        print('2.consider decreasing the number of samples per user for train-test split')\n",
    "        print('3.as al ast resource consider changing your seed')\n",
    "    else:\n",
    "        print('OK: all artists from the test set are part on the train set as well')\n",
    "    return train, test\n",
    "\n",
    "\n",
    "\n",
    "#show top n per user\n",
    "#Merging some tables \n",
    "df_scrobbles = weights_df.merge(artist_df[['id','name']],\n",
    "                                        how = 'inner',\n",
    "                                        left_on = 'artistID',\n",
    "                                        right_on = 'id')\n",
    "df_scrobbles = df_scrobbles.drop(columns=['id'])\n",
    "df_scrobbles.columns = ['userID','artistID','weight','name']\n",
    "print(df_scrobbles.shape)\n",
    "\n",
    "def get_top_artists(user_id,n=5):\n",
    "    top_list = df_scrobbles[df_scrobbles['userID']==user_id].sort_values(by='weight')['name'].head(n)      \n",
    "    return list(top_list)"
   ]
  },
  {
   "cell_type": "markdown",
   "id": "466a504a",
   "metadata": {},
   "source": [
    "### Data Preprocessing: \n"
   ]
  },
  {
   "cell_type": "code",
   "execution_count": 3,
   "id": "3b7b2be1",
   "metadata": {},
   "outputs": [
    {
     "name": "stdout",
     "output_type": "stream",
     "text": [
      "\n",
      "\n",
      "**Remove Extreme (hig,low) Weights**\n",
      "df original shape:  (92834, 3)\n"
     ]
    },
    {
     "data": {
      "image/png": "[encoded data removed]",
      "text/plain": [
       "<Figure size 432x288 with 1 Axes>"
      ]
     },
     "metadata": {
      "needs_background": "light"
     },
     "output_type": "display_data"
    },
    {
     "name": "stdout",
     "output_type": "stream",
     "text": [
      "original data binned:\n",
      "a.<10          3461\n",
      "b.10-1K       75313\n",
      "c.1K-5K       12509\n",
      "d.5K-10K        921\n",
      "e.10K-20K       380\n",
      "f.20K-50K       188\n",
      "g.50K-100K       37\n",
      "h.+100K          25\n",
      "Name: weight_bin, dtype: int64\n",
      "\n",
      "\n",
      "df new shape:  (92204, 3)\n"
     ]
    },
    {
     "data": {
      "image/png": "[encoded data removed]",
      "text/plain": [
       "<Figure size 432x288 with 1 Axes>"
      ]
     },
     "metadata": {
      "needs_background": "light"
     },
     "output_type": "display_data"
    },
    {
     "name": "stdout",
     "output_type": "stream",
     "text": [
      "filtered data - stats:\n",
      "count   92204.000\n",
      "mean      562.005\n",
      "std       936.382\n",
      "min         1.000\n",
      "25%       106.000\n",
      "50%       257.000\n",
      "75%       601.000\n",
      "max     10000.000\n",
      "Name: weight, dtype: float64\n",
      "\n",
      "\n",
      "% of removed records: 0.0068\n",
      "\n",
      "\n",
      "**Remove Highly Popular Artists**\n",
      "input data shape: (92204, 3)\n",
      "unique artists:  17623\n",
      "line divides top 80.0 % cumulative sum of users:\n"
     ]
    },
    {
     "data": {
      "image/png": "[encoded data removed]",
      "text/plain": [
       "<Figure size 432x288 with 1 Axes>"
      ]
     },
     "metadata": {
      "needs_background": "light"
     },
     "output_type": "display_data"
    },
    {
     "name": "stdout",
     "output_type": "stream",
     "text": [
      "top 10 artists (most users): \n",
      "61                Madonna\n",
      "83              Lady Gaga\n",
      "148             Radiohead\n",
      "184                  Muse\n",
      "221           The Beatles\n",
      "282               Rihanna\n",
      "283        Britney Spears\n",
      "286    Christina Aguilera\n",
      "294            Katy Perry\n",
      "327         Avril Lavigne\n",
      "Name: name, dtype: object\n",
      "\n",
      "\n",
      "total removed artists: 176\n",
      "\n",
      "\n",
      "line divides top 80.0 % cumulative sum of users:\n"
     ]
    },
    {
     "data": {
      "image/png": "[encoded data removed]",
      "text/plain": [
       "<Figure size 432x288 with 1 Axes>"
      ]
     },
     "metadata": {
      "needs_background": "light"
     },
     "output_type": "display_data"
    },
    {
     "name": "stdout",
     "output_type": "stream",
     "text": [
      "top 10 artists (most users) - filtered dataset: \n",
      "91                    Duffy\n",
      "259             Céline Dion\n",
      "424               Kate Nash\n",
      "540          The Ting Tings\n",
      "612     Belle and Sebastian\n",
      "799            Rise Against\n",
      "845         Alice in Chains\n",
      "1122                   Tool\n",
      "1368               The Fray\n",
      "2068                 M.I.A.\n",
      "Name: name, dtype: object\n",
      "\n",
      "\n",
      "filtered dataset shape: (63360, 3)\n",
      "unique artists after removal:  17447\n",
      "% of removed records: 0.3128\n",
      "\n",
      "\n",
      "**Remove Rare Artists**\n",
      "input data shape: (63360, 3)\n",
      "unique artists:  17447\n",
      "line divides top 80.0 % cumulative sum of users:\n"
     ]
    },
    {
     "data": {
      "image/png": "[encoded data removed]",
      "text/plain": [
       "<Figure size 432x288 with 1 Axes>"
      ]
     },
     "metadata": {
      "needs_background": "light"
     },
     "output_type": "display_data"
    },
    {
     "name": "stdout",
     "output_type": "stream",
     "text": [
      "bottom 10 artists: \n",
      "9159                  Dam\n",
      "9160               Donnis\n",
      "9161            Paul Wall\n",
      "9162           Ziad Borji\n",
      "9163           ئلبي وعمري\n",
      "9165        Carole Samaha\n",
      "9166     David Arkenstone\n",
      "9169          Alan Menken\n",
      "9170              Karmina\n",
      "17631    Grzegorz Tomczak\n",
      "Name: name, dtype: object\n",
      "\n",
      "\n",
      "total removed artists: 14799\n",
      "\n",
      "\n",
      "line divides top 80.0 % cumulative sum of users:\n"
     ]
    },
    {
     "data": {
      "image/png": "[encoded data removed]",
      "text/plain": [
       "<Figure size 432x288 with 1 Axes>"
      ]
     },
     "metadata": {
      "needs_background": "light"
     },
     "output_type": "display_data"
    },
    {
     "name": "stdout",
     "output_type": "stream",
     "text": [
      "bottom 10 artists - filtered dataset: \n",
      "33                    Dawn of Ashes\n",
      "705                   Mark Knopfler\n",
      "2887                         Redman\n",
      "4144    Everything Is Made in China\n",
      "4158                  QUEST PISTOLs\n",
      "4180                   Every Avenue\n",
      "6319                     I Am Ghost\n",
      "6330                         Djavan\n",
      "6392                           2ois\n",
      "6406                    I:Scintilla\n",
      "Name: name, dtype: object\n",
      "\n",
      "\n",
      "filtered dataset shape: (41966, 3)\n",
      "unique artists after removal:  2648\n",
      "% of removed records: 0.3377\n",
      "\n",
      "\n",
      "**Remove artists not present in Spotify Dataset**\n",
      "unique artists before join:  2648\n",
      "original df:  (41966, 3)\n",
      "new df:  (32129, 3)\n",
      "unique artists after join:  1726\n",
      "removed records %: 0.2344040413668208\n",
      "\n",
      "\n",
      "**Remove User with lowcount of samples (artists)**\n",
      "df original shape:  (41966, 3)\n",
      "unique users:  1879\n",
      "users with less than 10 artists: 82\n",
      "unique users after removal:  1797\n",
      "df new shape:  (41503, 3)\n",
      "% of removed records: 0.011\n"
     ]
    }
   ],
   "source": [
    "#remove extremely high play counts +20K\n",
    "df = remove_extreme_weights (weights_df,1,10000)\n",
    "\n",
    "#remove highly popular artists - Top 1%\n",
    "df = remove_popular_artists (df,artist_df,0.01)\n",
    "\n",
    "#remove rare artist less than 3 users\n",
    "df = remove_rare_artists (df,artist_df,min_users = 5)\n",
    "\n",
    "\n",
    "#inner join with spotify data - DO NOT REMOVE THEM\n",
    "print('\\n')\n",
    "print('**Remove artists not present in Spotify Dataset**')\n",
    "print('unique artists before join: ',df['artistID'].nunique())\n",
    "merge_df = artist_df.merge(artist_sp_df['artists'],\n",
    "                               how = 'inner',\n",
    "                               left_on = artist_df['name'].str.lower(),\n",
    "                               right_on = artist_sp_df['artists'].str.lower())\n",
    "artist_list = list(merge_df['id'])\n",
    "print('original df: ',df.shape)\n",
    "new_df = df[df['artistID'].isin(artist_list)]\n",
    "print('new df: ',new_df.shape)\n",
    "print('unique artists after join: ',new_df['artistID'].nunique())\n",
    "print(f'removed records %: {1-(new_df.shape[0]/df.shape[0])}')\n",
    "\n",
    "#remove users who have listened to less than 10 artists\n",
    "df = remove_users_lowcount (df,min_artists = 10) #not removing SPOTIFY missing artists\n"
   ]
  },
  {
   "cell_type": "code",
   "execution_count": 4,
   "id": "b9975794",
   "metadata": {},
   "outputs": [],
   "source": [
    "#scaling\n",
    "#df = scale_weight_by_user(df)"
   ]
  },
  {
   "cell_type": "markdown",
   "id": "2ed509cd",
   "metadata": {},
   "source": [
    "### train/test"
   ]
  },
  {
   "cell_type": "code",
   "execution_count": 5,
   "id": "80e3f4a5",
   "metadata": {},
   "outputs": [
    {
     "name": "stdout",
     "output_type": "stream",
     "text": [
      "\n",
      "\n",
      "**Train-Test Split**\n",
      "input data shape: (41503, 3)\n",
      "train set shape: (32518, 3)\n",
      "test set shape: (8985, 3)\n",
      "\n",
      "\n",
      "OK: all artists from the test set are part on the train set as well\n"
     ]
    }
   ],
   "source": [
    "#5 samples per user\n",
    "train, test = train_test_split(df,sample_size=5,seed=1990)"
   ]
  },
  {
   "cell_type": "markdown",
   "id": "0d9e755d",
   "metadata": {},
   "source": [
    "### Train Data Matrix"
   ]
  },
  {
   "cell_type": "code",
   "execution_count": 6,
   "id": "429b36aa",
   "metadata": {},
   "outputs": [],
   "source": [
    "#Sparse matrix, we need to pivot the data\n",
    "data_pivot = train.pivot(index='userID',\n",
    "                                       columns='artistID').fillna(0).astype(int)\n",
    "#data_pivot.head()\n",
    "\n",
    "#Trying to make it more memory efficient\n",
    "# create scipy sparse from pivot tables\n",
    "#from scipy import sparse\n",
    "#data_sparse = sparse.csr_matrix(data_pivot)\n",
    "#data_sparse.shape"
   ]
  },
  {
   "cell_type": "code",
   "execution_count": 7,
   "id": "1e74bb85",
   "metadata": {},
   "outputs": [
    {
     "name": "stdout",
     "output_type": "stream",
     "text": [
      "1797\n",
      "2647\n"
     ]
    }
   ],
   "source": [
    "#save IDS\n",
    "artist_ids = list(data_pivot.columns.get_level_values(1))\n",
    "user_ids = list(data_pivot.index)\n",
    "\n",
    "print(len(user_ids))\n",
    "print(len(artist_ids))\n",
    "\n"
   ]
  },
  {
   "cell_type": "markdown",
   "id": "e53ddc47",
   "metadata": {},
   "source": [
    "## Colaborative Filtering"
   ]
  },
  {
   "cell_type": "markdown",
   "id": "aa8354d3",
   "metadata": {},
   "source": [
    "Cosine Similarity"
   ]
  },
  {
   "cell_type": "code",
   "execution_count": 8,
   "id": "6774430f",
   "metadata": {},
   "outputs": [],
   "source": [
    "from sklearn.metrics import pairwise_distances\n",
    "#similarities are obtained by subtracting distances from 1\n",
    "cosine_sim = 1-pairwise_distances(data_pivot, metric=\"cosine\")"
   ]
  },
  {
   "cell_type": "markdown",
   "id": "09fb340f",
   "metadata": {},
   "source": [
    "Pearson Correlation"
   ]
  },
  {
   "cell_type": "code",
   "execution_count": 9,
   "id": "ebc665b2",
   "metadata": {},
   "outputs": [],
   "source": [
    "from sklearn.metrics import pairwise_distances\n",
    "#get pearson similarities for ratings matrix M\n",
    "pearson_sim = 1-pairwise_distances(data_pivot, metric=\"correlation\")"
   ]
  },
  {
   "cell_type": "code",
   "execution_count": 10,
   "id": "d5d932fb",
   "metadata": {},
   "outputs": [
    {
     "name": "stdout",
     "output_type": "stream",
     "text": [
      "User 1233\n",
      "current top 3: ['Mandalay', 'Calvin Harris', 'Booty Luv']\n",
      "\n",
      "Neighbors:\n",
      "1: User 24: \n",
      " similarity: 0.5514\n",
      " top artists: ['Crowded House', 'Alicia Keys', 'Rogue Traders']\n",
      "\n",
      "2: User 955: \n",
      " similarity: 0.5095\n",
      " top artists: ['B2ST', 'Percy Mayfield', 'Good Charlotte']\n",
      "\n",
      "3: User 1850: \n",
      " similarity: 0.4518\n",
      " top artists: ['Goldfrapp', 'Scissor Sisters', 'Hilary Duff']\n",
      "\n",
      "4: User 852: \n",
      " similarity: 0.4505\n",
      " top artists: ['Dido', 'Lily Allen', 'Avril Lavigne']\n",
      "\n",
      "5: User 675: \n",
      " similarity: 0.4499\n",
      " top artists: ['Utada', 'Jennifer Lopez', 'Reni Jusis']\n",
      "\n"
     ]
    }
   ],
   "source": [
    "#Subjective Testing using the matrix - SKLEARN - FOR RANDOM USER\n",
    "\n",
    "similarities = cosine_sim\n",
    "#similarities = pearson_sim\n",
    "\n",
    "k = 5\n",
    "user = np.random.choice(similarities.shape[0])#pick random user from train set\n",
    "user_row = similarities[user] #pick user row\n",
    "\n",
    "#find neighbors\n",
    "neighbors = (-user_row).argsort()[:k+1]\n",
    "\n",
    "#User info:\n",
    "top_artists = get_top_artists(user_ids[user],3)\n",
    "print(f\"User {user_ids[user]}\\ncurrent top 3: {top_artists}\\n\")\n",
    "\n",
    "#Neighbors info\n",
    "print('Neighbors:')\n",
    "for i in range(1,k+1):\n",
    "        neighbor = neighbors[i]\n",
    "        top_artists = get_top_artists(user_ids[neighbor],3)\n",
    "        similarity = round(similarities[user][neighbor],4)\n",
    "        print(f\"{i}: User {user_ids[neighbor]}: \\n similarity: {similarity}\\n top artists: {top_artists}\\n\")\n",
    "\n"
   ]
  },
  {
   "cell_type": "code",
   "execution_count": 11,
   "id": "9f34b6c4",
   "metadata": {},
   "outputs": [],
   "source": [
    "#AS A FUNCTION\n",
    "def get_top_neighbor(metric, k , user = None):\n",
    "    if (metric== 'cosine'):\n",
    "        similarity = cosine_sim\n",
    "    elif (metric== 'pearson'):  \n",
    "        similarity = pearson_sim\n",
    "\n",
    "    if user == None:\n",
    "        user = np.random.choice(similarity.shape[0])#pick random user from train set\n",
    "    else:\n",
    "        user = user_ids.index(user)\n",
    "    \n",
    "    user_row = similarity[user] #pick user row\n",
    "\n",
    "    #find neighbors\n",
    "    neighbors = (-user_row).argsort()[:k+1]\n",
    "\n",
    "    #User info:\n",
    "    top_artists = get_top_artists(user_ids[user],3)\n",
    "    print(f\"User {user_ids[user]}\\ncurrent top 3: {top_artists}\\n\")\n",
    "\n",
    "    #Neighbors info\n",
    "    print('Neighbors:')\n",
    "    for i in range(1,k+1):\n",
    "            neighbor = neighbors[i]\n",
    "            top_artists = get_top_artists(user_ids[neighbor],3)\n",
    "            sim = round(similarity[user][neighbor],4)\n",
    "            print(f\"{i}: User {user_ids[neighbor]}: \\n similarity: {sim}\\n top artists: {top_artists}\\n\")\n",
    "\n",
    "\n"
   ]
  },
  {
   "cell_type": "code",
   "execution_count": 12,
   "id": "02dd6dd0",
   "metadata": {},
   "outputs": [
    {
     "name": "stdout",
     "output_type": "stream",
     "text": [
      "User 1029\n",
      "current top 3: ['Pink Floyd', 'New Order', 'Heaven 17']\n",
      "\n",
      "Neighbors:\n",
      "1: User 103: \n",
      " similarity: 0.3387\n",
      " top artists: ['Linkin Park', 'Bilal Serbest', 'Keane']\n",
      "\n",
      "2: User 656: \n",
      " similarity: 0.2894\n",
      " top artists: ['A Flock of Seagulls', 'Kool & The Gang', 'Book of Love']\n",
      "\n",
      "3: User 994: \n",
      " similarity: 0.2756\n",
      " top artists: ['Premiata Forneria Marconi', 'Mazzy Star', 'Karunesh']\n",
      "\n",
      "4: User 1209: \n",
      " similarity: 0.2719\n",
      " top artists: ['Jamiroquai', 'Glass Tiger', 'Talk Talk']\n",
      "\n",
      "5: User 64: \n",
      " similarity: 0.2647\n",
      " top artists: ['Richard Wagner', 'Teena Marie', 'Radiohead']\n",
      "\n"
     ]
    }
   ],
   "source": [
    "get_top_neighbor('cosine',5,user=1029)"
   ]
  },
  {
   "cell_type": "code",
   "execution_count": 13,
   "id": "3ab1d1ed",
   "metadata": {},
   "outputs": [
    {
     "name": "stdout",
     "output_type": "stream",
     "text": [
      "User 1029\n",
      "current top 3: ['Pink Floyd', 'New Order', 'Heaven 17']\n",
      "\n",
      "Neighbors:\n",
      "1: User 103: \n",
      " similarity: 0.3352\n",
      " top artists: ['Linkin Park', 'Bilal Serbest', 'Keane']\n",
      "\n",
      "2: User 656: \n",
      " similarity: 0.2871\n",
      " top artists: ['A Flock of Seagulls', 'Kool & The Gang', 'Book of Love']\n",
      "\n",
      "3: User 994: \n",
      " similarity: 0.2725\n",
      " top artists: ['Premiata Forneria Marconi', 'Mazzy Star', 'Karunesh']\n",
      "\n",
      "4: User 1209: \n",
      " similarity: 0.2669\n",
      " top artists: ['Jamiroquai', 'Glass Tiger', 'Talk Talk']\n",
      "\n",
      "5: User 64: \n",
      " similarity: 0.2609\n",
      " top artists: ['Richard Wagner', 'Teena Marie', 'Radiohead']\n",
      "\n"
     ]
    }
   ],
   "source": [
    "get_top_neighbor('pearson',5,user=1029)"
   ]
  },
  {
   "cell_type": "code",
   "execution_count": 14,
   "id": "e2edf8fe",
   "metadata": {},
   "outputs": [
    {
     "name": "stdout",
     "output_type": "stream",
     "text": [
      "User 1950\n",
      "current top 3: ['Garbage', 'Belle and Sebastian', 'Suede']\n",
      "\n",
      "Neighbors:\n",
      "1: User 1656: \n",
      " similarity: 0.3845\n",
      " top artists: ['Alexisonfire', 'Avenged Sevenfold', 'Daft Punk']\n",
      "\n",
      "2: User 2081: \n",
      " similarity: 0.3802\n",
      " top artists: ['Lisa Hannigan', 'John Mayer', 'Solid Space']\n",
      "\n",
      "3: User 829: \n",
      " similarity: 0.3356\n",
      " top artists: ['Sufjan Stevens', 'CocoRosie', 'Rilo Kiley']\n",
      "\n",
      "4: User 969: \n",
      " similarity: 0.3211\n",
      " top artists: ['Raimundos', 'Howard Shore', 'Pink Floyd']\n",
      "\n",
      "5: User 840: \n",
      " similarity: 0.3079\n",
      " top artists: ['Thom Yorke', 'Garbage', 'Yann Tiersen']\n",
      "\n"
     ]
    }
   ],
   "source": [
    "get_top_neighbor('cosine',5) #random user"
   ]
  },
  {
   "cell_type": "code",
   "execution_count": 15,
   "id": "1434d34e",
   "metadata": {},
   "outputs": [
    {
     "data": {
      "text/plain": [
       "['Vibrasphere',\n",
       " 'Thom Yorke',\n",
       " 'Infected Mushroom',\n",
       " 'De La Soul',\n",
       " 'Zero 7',\n",
       " 'White Lies',\n",
       " 'Air',\n",
       " 'I Am Kloot',\n",
       " 'Mumford & Sons',\n",
       " 'Suede',\n",
       " 'Aphex Twin',\n",
       " 'Soulwax',\n",
       " 'PJ Harvey',\n",
       " 'Tricky',\n",
       " 'Bonobo',\n",
       " 'Cocteau Twins',\n",
       " 'Minus the Bear',\n",
       " 'Cranes',\n",
       " 'The Cranberries',\n",
       " 'DJ Krush']"
      ]
     },
     "execution_count": 15,
     "metadata": {},
     "output_type": "execute_result"
    }
   ],
   "source": [
    "#TOP N RECOMMENDATIONS FOR A GIVEN USER\n",
    "\n",
    "artist_name = artist_df[['id','name']].set_index('id')\n",
    "k = 5\n",
    "metric = 'cosine'\n",
    "user = 2\n",
    "ratings = data_pivot\n",
    "n=20\n",
    "\n",
    "if (metric== 'cosine'):\n",
    "    similarity = cosine_sim\n",
    "elif (metric== 'pearson'):  \n",
    "    similarity = pearson_sim\n",
    "\n",
    "#user info    \n",
    "user_position = user_ids.index(user)\n",
    "#print(user_position)\n",
    "user_row = similarity[user_position] #pick user row\n",
    "user_ratings = ratings.loc[user]\n",
    "user_mean = user_ratings.mean()\n",
    "\n",
    "#find neighbors\n",
    "neighbors = (-user_row).argsort()[:k+1]\n",
    "neighbors = neighbors[1:] #remove user\n",
    "similarities = similarity[user_position,neighbors]\n",
    "sum_wt = np.sum(similarities)\n",
    "neighbor_matrix = ratings.iloc[list(neighbors),:].values\n",
    "\n",
    "\n",
    "#predict\n",
    "product = similarities.T.dot(neighbor_matrix)\n",
    "pred = user_mean + (product/sum_wt)\n",
    "\n",
    "#known artists - set prediction to -np.inf\n",
    "pred[np.where(user_ratings!=0)] = -np.inf\n",
    "\n",
    "#select top\n",
    "top_artists = list((-pred).argsort()[:n])\n",
    "scores = pred[top_artists]\n",
    "top_artists_id = [artist_ids[x] for x in top_artists]\n",
    "top_artist_names = [artist_name.loc[x]['name'] for x in top_artists_id]\n",
    "\n",
    "top_artist_names\n",
    "\n"
   ]
  },
  {
   "cell_type": "code",
   "execution_count": 16,
   "id": "ae5e9957",
   "metadata": {},
   "outputs": [],
   "source": [
    "#TOPN RECOMENDATION AS A FUNCTION\n",
    "artist_name = artist_df[['id','name']].set_index('id')\n",
    "def topn_recommend(user, ratings ,metric, k , n):\n",
    "\n",
    "    if (metric== 'cosine'):\n",
    "        similarity = cosine_sim\n",
    "    elif (metric== 'pearson'):  \n",
    "        similarity = pearson_sim\n",
    "\n",
    "    #user info    \n",
    "    user_position = user_ids.index(user)\n",
    "    #print(user_position)\n",
    "    user_row = similarity[user_position] #pick user row\n",
    "    user_ratings = ratings.loc[user]\n",
    "    user_mean = user_ratings.mean()\n",
    "\n",
    "    #find neighbors\n",
    "    neighbors = (-user_row).argsort()[:k+1]\n",
    "    neighbors = neighbors[1:] #remove user\n",
    "    similarities = similarity[user_position,neighbors]\n",
    "    sum_wt = np.sum(similarities)\n",
    "    neighbor_matrix = ratings.iloc[list(neighbors),:].values\n",
    "\n",
    "\n",
    "    #predict\n",
    "    product = similarities.T.dot(neighbor_matrix)\n",
    "    pred = user_mean + (product/sum_wt)\n",
    "\n",
    "    #known artists - set prediction to -np.inf\n",
    "    pred[np.where(user_ratings!=0)] = -np.inf\n",
    "\n",
    "    #top artists\n",
    "    top_artists = list((-pred).argsort()[:n])\n",
    "    scores = pred[top_artists]\n",
    "    \n",
    "    \n",
    "    top_artists_id = [artist_ids[x] for x in top_artists]\n",
    "    top_artist_names = [artist_name.loc[x]['name'] for x in top_artists_id]\n",
    "    print('recommended artists: ',top_artist_names)\n",
    "    return top_artist_names,top_artists_id,scores"
   ]
  },
  {
   "cell_type": "code",
   "execution_count": 17,
   "id": "a35b0550",
   "metadata": {},
   "outputs": [
    {
     "name": "stdout",
     "output_type": "stream",
     "text": [
      "recommended artists:  ['Vibrasphere', 'Thom Yorke', 'Infected Mushroom', 'De La Soul', 'Zero 7', 'White Lies', 'Air', 'I Am Kloot', 'Mumford & Sons', 'Suede', 'Aphex Twin', 'Soulwax', 'PJ Harvey', 'Tricky', 'Bonobo', 'Cocteau Twins', 'Minus the Bear', 'Cranes', 'The Cranberries', 'DJ Krush']\n"
     ]
    },
    {
     "data": {
      "text/plain": [
       "(['Vibrasphere',\n",
       "  'Thom Yorke',\n",
       "  'Infected Mushroom',\n",
       "  'De La Soul',\n",
       "  'Zero 7',\n",
       "  'White Lies',\n",
       "  'Air',\n",
       "  'I Am Kloot',\n",
       "  'Mumford & Sons',\n",
       "  'Suede',\n",
       "  'Aphex Twin',\n",
       "  'Soulwax',\n",
       "  'PJ Harvey',\n",
       "  'Tricky',\n",
       "  'Bonobo',\n",
       "  'Cocteau Twins',\n",
       "  'Minus the Bear',\n",
       "  'Cranes',\n",
       "  'The Cranberries',\n",
       "  'DJ Krush'],\n",
       " [5358,\n",
       "  237,\n",
       "  174,\n",
       "  1622,\n",
       "  1824,\n",
       "  1376,\n",
       "  53,\n",
       "  11598,\n",
       "  1518,\n",
       "  1089,\n",
       "  603,\n",
       "  1738,\n",
       "  858,\n",
       "  4316,\n",
       "  2605,\n",
       "  3280,\n",
       "  2572,\n",
       "  3290,\n",
       "  166,\n",
       "  3132],\n",
       " array([965.49317578, 590.45503138, 488.30273611, 369.75229285,\n",
       "        337.19742643, 287.81301589, 263.40557169, 262.65840503,\n",
       "        237.25473862, 233.94896088, 231.5264609 , 225.79818318,\n",
       "         90.52340014,  59.86504641,  55.11193035,  47.3747683 ,\n",
       "         44.84913431,  40.30229615,  39.88626838,  39.67617802]))"
      ]
     },
     "execution_count": 17,
     "metadata": {},
     "output_type": "execute_result"
    }
   ],
   "source": [
    "topn_recommend(2,data_pivot,'cosine',5,20)"
   ]
  },
  {
   "cell_type": "code",
   "execution_count": 28,
   "id": "f0612e68",
   "metadata": {},
   "outputs": [
    {
     "name": "stdout",
     "output_type": "stream",
     "text": [
      "User 2056\n",
      "current top 3: ['Kylie Minogue', 'Britney Spears', 'Backstreet Boys']\n",
      "\n",
      "Neighbors:\n",
      "1: User 321: \n",
      " similarity: 0.3008\n",
      " top artists: ['Deadlock', 'Charon', 'White Zombie']\n",
      "\n",
      "2: User 1472: \n",
      " similarity: 0.2171\n",
      " top artists: ['The Faint', 'Virginia Jetzt!', 'Robert Miles']\n",
      "\n",
      "3: User 466: \n",
      " similarity: 0.2154\n",
      " top artists: ['Enya', 'Rita Ribeiro', 'David Guetta']\n",
      "\n",
      "4: User 1298: \n",
      " similarity: 0.1841\n",
      " top artists: ['Lustral', 'Ne-Yo', 'Mike Posner']\n",
      "\n",
      "5: User 2059: \n",
      " similarity: 0.1803\n",
      " top artists: ['Bruno Mars', \"Christina Aguilera, Lil' Kim, Mya & Pink\", 'Anastacia']\n",
      "\n",
      "recommended artists:  ['Delain', 'Pink', 'Sia', 'dredg', 'Alexandra Burke']\n"
     ]
    },
    {
     "data": {
      "text/plain": [
       "(['Delain', 'Pink', 'Sia', 'dredg', 'Alexandra Burke'],\n",
       " [5459, 1052, 697, 2775, 915],\n",
       " array([259.06045243, 176.81761367, 148.56093872, 147.029279  ,\n",
       "        130.74049348]))"
      ]
     },
     "execution_count": 28,
     "metadata": {},
     "output_type": "execute_result"
    }
   ],
   "source": [
    "#FULL RESULT\n",
    "user = 2056 #None #user ID or None for random\n",
    "k = 5 #num neighbors\n",
    "n = 5 #num recommendations\n",
    "metric = 'pearson' #'pearson' is another option\n",
    "\n",
    "if user==None:\n",
    "    user = np.random.choice(user_ids)#pick random user from train set\n",
    "\n",
    "get_top_neighbor(metric,k,user) #random user\n",
    "topn_recommend(user,data_pivot,metric,k,n)"
   ]
  },
  {
   "cell_type": "code",
   "execution_count": null,
   "id": "06635d7a",
   "metadata": {},
   "outputs": [],
   "source": []
  }
 ],
 "metadata": {
  "kernelspec": {
   "display_name": "Python 3",
   "language": "python",
   "name": "python3"
  },
  "language_info": {
   "codemirror_mode": {
    "name": "ipython",
    "version": 3
   },
   "file_extension": ".py",
   "mimetype": "text/x-python",
   "name": "python",
   "nbconvert_exporter": "python",
   "pygments_lexer": "ipython3",
   "version": "3.8.8"
  }
 },
 "nbformat": 4,
 "nbformat_minor": 5
}
