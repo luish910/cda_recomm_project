{
 "cells": [
  {
   "cell_type": "markdown",
   "id": "5feb973f",
   "metadata": {},
   "source": [
    "# Functions to preprocess data\n",
    "Requires a pandas dataframe as input\n",
    "Provides a pandas dataframe as output"
   ]
  },
  {
   "cell_type": "code",
   "execution_count": 1,
   "id": "89864854",
   "metadata": {},
   "outputs": [
    {
     "name": "stdout",
     "output_type": "stream",
     "text": [
      "artist_sp_df shape:  (28680, 16)\n",
      "artist_df shape:  (17632, 4)\n",
      "weights_df shape:  (92834, 3)\n"
     ]
    }
   ],
   "source": [
    "import numpy as np\n",
    "import pandas as pd\n",
    "import os\n",
    "from matplotlib import pyplot as plt\n",
    "import seaborn as sns\n",
    "\n",
    "directory = os.getcwd()\n",
    "data_path = os.path.join(directory, \"data\")\n",
    "\n",
    "artists_file = os.path.join(data_path, \"artists.dat\")\n",
    "artists_spotify_file = os.path.join(data_path, \"data_by_artist_o.csv\")\n",
    "users_artists_file = os.path.join(data_path, \"user_artists.dat\")\n",
    "\n",
    "#import data\n",
    "artist_sp_df = pd.read_csv(artists_spotify_file)\n",
    "print(\"artist_sp_df shape: \",artist_sp_df.shape)\n",
    "\n",
    "artist_df = pd.read_csv(artists_file,sep=\"\\t\")\n",
    "print(\"artist_df shape: \",artist_df.shape)\n",
    "\n",
    "weights_df = pd.read_csv(users_artists_file,sep=\"\\t\")\n",
    "print(\"weights_df shape: \",weights_df.shape)\n",
    "\n"
   ]
  },
  {
   "cell_type": "code",
   "execution_count": 2,
   "id": "13f21e43",
   "metadata": {},
   "outputs": [],
   "source": [
    "#remove weights outside of thresholds \n",
    "#Avoids issues with uncommon listening habits. \n",
    "#i.e: users that have played artist over 100k times\n",
    "def remove_extreme_weights (df,min_weight,max_weight):\n",
    "    '''\n",
    "    Requires input dataframe with userID, artistID, weight columns\n",
    "    min_weight = min # times a user must have played an aritst to keep the record\n",
    "    max_weight = max # times a user must have played an aritst to keep the record\n",
    "    '''    \n",
    "    print('\\n')\n",
    "    print('**Remove Extreme (hig,low) Weights**')\n",
    "    print('df original shape: ',df.shape)    \n",
    "    sns.boxplot(y=\"weight\", data=df)\n",
    "    plt.title('Boxplot - Original Data')\n",
    "    plt.show()\n",
    "    \n",
    "    bin_data = df.copy()\n",
    "    labels = ['a.<10','b.10-1K','c.1K-5K','d.5K-10K','e.10K-20K','f.20K-50K','g.50K-100K','h.+100K']\n",
    "    bins = [0, 10,1000,5000,10000,20000,50000,100000, np.inf]\n",
    "    bin_data['weight_bin'] = pd.cut(bin_data['weight'], bins,labels=labels)\n",
    "    print('original data binned:')\n",
    "    print(bin_data['weight_bin'].value_counts(sort=False))\n",
    "    print('\\n')\n",
    "\n",
    "    filtered_df = df[df['weight'].between(min_weight, max_weight)].reset_index(drop=True)\n",
    "    print('df new shape: ',filtered_df.shape)\n",
    "    sns.boxplot(y=\"weight\", data=filtered_df)\n",
    "    plt.title('Boxplot - Filtered Data')\n",
    "    plt.show()\n",
    "    print('filtered data - stats:')\n",
    "    print(filtered_df['weight'].describe())\n",
    "    print('\\n')\n",
    "    print(f\"% of removed records: {round(1-(filtered_df.shape[0]/df.shape[0]),4)}\")\n",
    "    \n",
    "    return filtered_df"
   ]
  },
  {
   "cell_type": "code",
   "execution_count": 3,
   "id": "b9e87471",
   "metadata": {},
   "outputs": [
    {
     "name": "stdout",
     "output_type": "stream",
     "text": [
      "\n",
      "\n",
      "**Remove Extreme (hig,low) Weights**\n",
      "df original shape:  (92834, 3)\n"
     ]
    },
    {
     "data": {
      "image/png": "[encoded data removed]",
      "text/plain": [
       "<Figure size 432x288 with 1 Axes>"
      ]
     },
     "metadata": {
      "needs_background": "light"
     },
     "output_type": "display_data"
    },
    {
     "name": "stdout",
     "output_type": "stream",
     "text": [
      "original data binned:\n",
      "a.<10          3461\n",
      "b.10-1K       75313\n",
      "c.1K-5K       12509\n",
      "d.5K-10K        921\n",
      "e.10K-20K       380\n",
      "f.20K-50K       188\n",
      "g.50K-100K       37\n",
      "h.+100K          25\n",
      "Name: weight_bin, dtype: int64\n",
      "\n",
      "\n",
      "df new shape:  (89545, 3)\n"
     ]
    },
    {
     "data": {
      "image/png": "[encoded data removed]",
      "text/plain": [
       "<Figure size 432x288 with 1 Axes>"
      ]
     },
     "metadata": {
      "needs_background": "light"
     },
     "output_type": "display_data"
    },
    {
     "name": "stdout",
     "output_type": "stream",
     "text": [
      "filtered data - stats:\n",
      "count    89545.000000\n",
      "mean       509.468792\n",
      "std        696.317684\n",
      "min          5.000000\n",
      "25%        112.000000\n",
      "50%        260.000000\n",
      "75%        594.000000\n",
      "max       4991.000000\n",
      "Name: weight, dtype: float64\n",
      "\n",
      "\n",
      "% of removed records: 0.0354\n"
     ]
    }
   ],
   "source": [
    "weights_filtered = remove_extreme_weights(weights_df,5,5000)"
   ]
  },
  {
   "cell_type": "code",
   "execution_count": 4,
   "id": "657249cd",
   "metadata": {},
   "outputs": [],
   "source": [
    "#source: https://github.com/statisticianinstilettos/recmetrics/blob/master/recmetrics/plots.py \n",
    "\n",
    "from matplotlib.lines import Line2D\n",
    "def long_tail_plot(df, item_id_column, percentage=0.75):\n",
    "    \"\"\"\n",
    "    Plots the long tail for a user-item interaction dataset.\n",
    "    ----------\n",
    "    df: pandas dataframe\n",
    "        user-item interaction dataframe\n",
    "        example:\n",
    "    item_id_column: str\n",
    "        column name identifying the item ids in the dataframe\n",
    "    percentage: float, default=None\n",
    "        percent of volume to consider as the head (percent as a decimal)\n",
    "        (if default=None no line will be plotted)\n",
    "\n",
    "    Returns:\n",
    "    -------\n",
    "        A long tail plot\n",
    "    \"\"\"\n",
    "    volume_df = df[item_id_column].value_counts().reset_index()\n",
    "    volume_df.columns = [item_id_column, \"volume\"]\n",
    "    volume_df[item_id_column] = volume_df[item_id_column].astype(str)\n",
    "    volume_df['cumulative_volume'] = volume_df['volume'].cumsum()\n",
    "    volume_df['percent_of_total_volume'] = volume_df['cumulative_volume']/volume_df['volume'].sum()\n",
    "    \n",
    "    #line plot of cumulative volume\n",
    "    ax=sns.lineplot(x = 'index', y=\"volume\", data=volume_df.reset_index(), color=\"black\")\n",
    "    #set labels\n",
    "    ax.set_title('Long Tail Plot of User weights by Artist')\n",
    "    ax.set_ylabel('# of user weights')\n",
    "    ax.set_xlabel(item_id_column)\n",
    "    plt.tick_params(labelbottom = False)\n",
    "    \n",
    "    #plot vertical line at the tail location\n",
    "    head = volume_df[volume_df[\"percent_of_total_volume\"] <= percentage]\n",
    "    tail = volume_df[volume_df[\"percent_of_total_volume\"] > percentage]\n",
    "    items_in_head = len(head)\n",
    "    items_in_tail = len(tail)\n",
    "    plt.axvline(x=items_in_head, color=\"red\",  linestyle='--')\n",
    "\n",
    "    # fill area under plot\n",
    "    head = head.append(tail.head(1))\n",
    "    x1 = head.index.values\n",
    "    y1 = head['volume']\n",
    "    x2 = tail.index.values\n",
    "    y2 = tail['volume']\n",
    "    ax.fill_between(x1, y1, color=\"blue\", alpha=0.2)\n",
    "    ax.fill_between(x2, y2,  color=\"orange\", alpha=0.2)\n",
    "\n",
    "    #create legend\n",
    "    legend_elements = [Line2D([0], [0], marker='o', color='w', label=str(items_in_head)+': artists in the head', markerfacecolor='blue', markersize=5),\n",
    "                       Line2D([0], [0], marker='o', color='w', label=str(items_in_tail)+': artists in the tail', markerfacecolor='orange', markersize=5)]\n",
    "    ax.legend(handles=legend_elements, loc=1)\n",
    "\n",
    "    plt.show()"
   ]
  },
  {
   "cell_type": "code",
   "execution_count": 5,
   "id": "c0dac74b",
   "metadata": {},
   "outputs": [],
   "source": [
    "def remove_popular_artists(df,artist_df,pct_remove):\n",
    "    '''\n",
    "    Requires input dataframe with [userID, artistID, weight] columns\n",
    "    Requires lastfm artist input dataframe with [id, name] columns\n",
    "    pct_remove: pct of top artists to remove. Example: 0.01 removes the top 1% artists with\n",
    "    top count of users (popular)\n",
    "    Dont filter if your algorithm will already take care of this artist-level bias\n",
    "    '''  \n",
    "    print('\\n')\n",
    "    print('**Remove Highly Popular Artists**')\n",
    "    #input dataset info\n",
    "    print(f\"input data shape: {df.shape}\")\n",
    "    print('unique artists: ',df['artistID'].nunique())\n",
    "\n",
    "    artists_group = df.groupby('artistID').agg({'weight': ['count']})\n",
    "    artists_group = artists_group.droplevel(axis=1, level=0)\n",
    "    artists_group = artists_group.sort_values(by='count',ascending=False)\n",
    "\n",
    "    #artists_group['artist']=range(0,artists_group.shape[0])\n",
    "    #ax = sns.lineplot(x = 'artist', y='count', data=artists_group)\n",
    "    #plt.tick_params(labelbottom = False)\n",
    "    #plt.title('Long tail distribution of tot Users per Artist')\n",
    "    #plt.ylabel('count of users')\n",
    "    #plt.show()\n",
    "    pct_plot = 0.8\n",
    "    print(f\"line divides top: {pct_plot*100} % cumulative sum of users:\") \n",
    "    long_tail_plot(df,'artistID',0.8)\n",
    "    \n",
    "    top_list = artists_group.head(10).index\n",
    "    print('top 10 artists (most users): ')\n",
    "    print(artist_df[artist_df['id'].isin(top_list)]['name'])\n",
    "    print('\\n')\n",
    "\n",
    "    #filter dataset\n",
    "    threshold = artists_group['count'].quantile(1-pct_remove) #percentile\n",
    "    removed_artists = artists_group[artists_group['count'] > threshold].index\n",
    "    filtered_df = df[~df['artistID'].isin(removed_artists)].reset_index(drop=True)\n",
    "    num_removed = len(removed_artists)\n",
    "    print(f\"total removed artists: {num_removed}\") \n",
    "\n",
    "    #new dataset info\n",
    "    artists_group = filtered_df.groupby('artistID').agg({'weight': ['count']})\n",
    "    artists_group = artists_group.droplevel(axis=1, level=0)\n",
    "    artists_group = artists_group.sort_values(by='count',ascending=False)\n",
    "    \n",
    "    #artists_group['artist']=range(0,artists_group.shape[0])\n",
    "    #ax = sns.lineplot(x = 'artist', y='count', data=artists_group)\n",
    "    #plt.tick_params(labelbottom = False)\n",
    "    #plt.title('Distribution of tot Users per Artist - Filtered Dataset')\n",
    "    #plt.ylabel('count of users')\n",
    "    #plt.show()\n",
    "    print('\\n')\n",
    "    print(f\"line divides top: {pct_plot*100} % cumulative sum of users:\") \n",
    "    long_tail_plot(filtered_df,'artistID',pct_plot)\n",
    "    \n",
    "    top_list = artists_group.head(10).index\n",
    "    print('top 10 artists (most users) - filtered dataset: ')\n",
    "    print(artist_df[artist_df['id'].isin(top_list)]['name'])\n",
    "    \n",
    "    print('\\n')\n",
    "    print(f\"filtered dataset shape: {filtered_df.shape}\") \n",
    "    print('unique artists after removal: ',filtered_df['artistID'].nunique())\n",
    "    print(f\"% of removed records: {round(1-(filtered_df.shape[0]/df.shape[0]),4)}\")\n",
    "\n",
    "\n",
    "    return filtered_df"
   ]
  },
  {
   "cell_type": "code",
   "execution_count": 6,
   "id": "3dbdadca",
   "metadata": {},
   "outputs": [
    {
     "name": "stdout",
     "output_type": "stream",
     "text": [
      "\n",
      "\n",
      "**Remove Highly Popular Artists**\n",
      "input data shape: (89545, 3)\n",
      "unique artists:  17151\n",
      "line divides top: 80.0 % cumulative sum of users:\n"
     ]
    },
    {
     "data": {
      "image/png": "[encoded data removed]",
      "text/plain": [
       "<Figure size 432x288 with 1 Axes>"
      ]
     },
     "metadata": {
      "needs_background": "light"
     },
     "output_type": "display_data"
    },
    {
     "name": "stdout",
     "output_type": "stream",
     "text": [
      "top 10 artists (most users): \n",
      "61            Madonna\n",
      "83          Lady Gaga\n",
      "148         Radiohead\n",
      "184              Muse\n",
      "221       The Beatles\n",
      "282           Rihanna\n",
      "283    Britney Spears\n",
      "294        Katy Perry\n",
      "327     Avril Lavigne\n",
      "492          Paramore\n",
      "Name: name, dtype: object\n",
      "\n",
      "\n",
      "total removed artists: 172\n",
      "\n",
      "\n",
      "line divides top: 80.0 % cumulative sum of users:\n"
     ]
    },
    {
     "data": {
      "image/png": "[encoded data removed]",
      "text/plain": [
       "<Figure size 432x288 with 1 Axes>"
      ]
     },
     "metadata": {
      "needs_background": "light"
     },
     "output_type": "display_data"
    },
    {
     "name": "stdout",
     "output_type": "stream",
     "text": [
      "top 10 artists (most users) - filtered dataset: \n",
      "185         OneRepublic\n",
      "259         Céline Dion\n",
      "290           Sugababes\n",
      "315      Jonas Brothers\n",
      "424           Kate Nash\n",
      "540      The Ting Tings\n",
      "832              Slayer\n",
      "845     Alice in Chains\n",
      "2068             M.I.A.\n",
      "2328               KISS\n",
      "Name: name, dtype: object\n",
      "\n",
      "\n",
      "filtered dataset shape: (61826, 3)\n",
      "unique artists after removal:  16979\n",
      "% of removed records: 0.3096\n"
     ]
    }
   ],
   "source": [
    "weights_filtered = remove_popular_artists(weights_filtered,artist_df,0.01) \n",
    "#changed input data from weights_for_model to weights_filtered here because weights_for_model has not been defined yet."
   ]
  },
  {
   "cell_type": "code",
   "execution_count": 7,
   "id": "03332364",
   "metadata": {},
   "outputs": [],
   "source": [
    "def remove_rare_artists(df,artist_df,min_users):\n",
    "    '''\n",
    "    Requires input dataframe with [userID, artistID, weight] columns\n",
    "    Requires lastfm artist input dataframe with [id, name] columns\n",
    "    min_users: minimum number of users each artist must have \n",
    "    Dont filter if your algorithm will already take care of this artist-level bias\n",
    "    '''  \n",
    "    print('\\n')\n",
    "    print('**Remove Rare Artists**')\n",
    "    #input dataset info\n",
    "    print(f\"input data shape: {df.shape}\")\n",
    "    print('unique artists: ',df['artistID'].nunique())\n",
    "\n",
    "    artists_group = df.groupby('artistID').agg({'weight': ['count']})\n",
    "    artists_group = artists_group.droplevel(axis=1, level=0)\n",
    "    artists_group = artists_group.sort_values(by='count',ascending=False)\n",
    "    \n",
    "    pct_plot = 0.8\n",
    "    print(f\"line divides top: {pct_plot*100} % cumulative sum of users:\") \n",
    "    long_tail_plot(df,'artistID',0.8)\n",
    "    #artists_group['artist']=range(0,artists_group.shape[0])\n",
    "    #ax = sns.lineplot(x = 'artist', y='count', data=artists_group)\n",
    "    #plt.tick_params(labelbottom = False)\n",
    "    #plt.title('Long tail distribution of User count by Artist')\n",
    "    #plt.ylabel('count of users')\n",
    "    #plt.show()\n",
    "    \n",
    "    top_list = artists_group.tail(10).index\n",
    "    print('bottom 10 artists: ')\n",
    "    print(artist_df[artist_df['id'].isin(top_list)]['name'])\n",
    "    print('\\n')\n",
    "\n",
    "    #filter dataset\n",
    "    #threshold = artists_group['count'].quantile(pct_remove) #percentile\n",
    "    removed_artists = artists_group[artists_group['count'] < min_users].index\n",
    "    filtered_df = df[~df['artistID'].isin(removed_artists)].reset_index(drop=True)\n",
    "    num_removed = len(removed_artists)\n",
    "    print(f\"total removed artists: {num_removed}\") \n",
    "\n",
    "    #new dataset info\n",
    "    artists_group = filtered_df.groupby('artistID').agg({'weight': ['count']})\n",
    "    artists_group = artists_group.droplevel(axis=1, level=0)\n",
    "    artists_group = artists_group.sort_values(by='count',ascending=False)\n",
    "    \n",
    "    #artists_group['artist']=range(0,artists_group.shape[0])\n",
    "    #ax = sns.lineplot(x = 'artist', y='count', data=artists_group)\n",
    "    #plt.tick_params(labelbottom = False)\n",
    "    #plt.title('Long tail distribution of User count by Artist')\n",
    "    #plt.ylabel('count of users')\n",
    "    #plt.show()\n",
    "    print('\\n')\n",
    "    print(f\"line divides top: {pct_plot*100} % cumulative sum of users:\") \n",
    "    long_tail_plot(filtered_df,'artistID',0.8)\n",
    "    \n",
    "    top_list = artists_group.tail(10).index\n",
    "    print('bottom 10 artists - filtered dataset: ')\n",
    "    print(artist_df[artist_df['id'].isin(top_list)]['name'])\n",
    "    \n",
    "    print('\\n')\n",
    "    print(f\"filtered dataset shape: {filtered_df.shape}\") \n",
    "    print('unique artists after removal: ',filtered_df['artistID'].nunique())\n",
    "    print(f\"% of removed records: {round(1-(filtered_df.shape[0]/df.shape[0]),4)}\")\n",
    "\n",
    "\n",
    "    return filtered_df"
   ]
  },
  {
   "cell_type": "code",
   "execution_count": 8,
   "id": "d286f03b",
   "metadata": {},
   "outputs": [
    {
     "name": "stdout",
     "output_type": "stream",
     "text": [
      "\n",
      "\n",
      "**Remove Rare Artists**\n",
      "input data shape: (61826, 3)\n",
      "unique artists:  16979\n",
      "line divides top: 80.0 % cumulative sum of users:\n"
     ]
    },
    {
     "data": {
      "image/png": "[encoded data removed]",
      "text/plain": [
       "<Figure size 432x288 with 1 Axes>"
      ]
     },
     "metadata": {
      "needs_background": "light"
     },
     "output_type": "display_data"
    },
    {
     "name": "stdout",
     "output_type": "stream",
     "text": [
      "bottom 10 artists: \n",
      "9094             Myrmidon Process\n",
      "9095                The Hannibals\n",
      "9096             The Pinker Tones\n",
      "9098     Great Lakes Myth Society\n",
      "9103                  Saxon Shore\n",
      "9107                    Lynch Mob\n",
      "9108                Marconi Union\n",
      "9116                 Paul Rodgers\n",
      "9122                        Alpha\n",
      "17631            Grzegorz Tomczak\n",
      "Name: name, dtype: object\n",
      "\n",
      "\n",
      "total removed artists: 15102\n",
      "\n",
      "\n",
      "line divides top: 80.0 % cumulative sum of users:\n"
     ]
    },
    {
     "data": {
      "image/png": "[encoded data removed]",
      "text/plain": [
       "<Figure size 432x288 with 1 Axes>"
      ]
     },
     "metadata": {
      "needs_background": "light"
     },
     "output_type": "display_data"
    },
    {
     "name": "stdout",
     "output_type": "stream",
     "text": [
      "bottom 10 artists - filtered dataset: \n",
      "1431          David Bisbal\n",
      "1494              Nadia Oh\n",
      "1588     The Cheetah Girls\n",
      "1651           Blind Melon\n",
      "3047          Bonnie Tyler\n",
      "4449         Willie Nelson\n",
      "4620               Vitalic\n",
      "4640           Jeremy Camp\n",
      "4657            Aura Dione\n",
      "12802             Don Omar\n",
      "Name: name, dtype: object\n",
      "\n",
      "\n",
      "filtered dataset shape: (37113, 3)\n",
      "unique artists after removal:  1877\n",
      "% of removed records: 0.3997\n"
     ]
    }
   ],
   "source": [
    "weights_filtered_rare = remove_rare_artists(weights_filtered,artist_df,7) #Removed the artists with fewer than 7 users."
   ]
  },
  {
   "cell_type": "code",
   "execution_count": 9,
   "id": "ee28bf53",
   "metadata": {},
   "outputs": [],
   "source": [
    "#remove users with low artist count. \n",
    "#Avoid issues if user only listens to 1 artist\n",
    "def remove_users_lowcount (df,min_artists):\n",
    "    '''\n",
    "    Requires input dataframe with userID, artistID, weight columns\n",
    "    min_artists = minimum number of artists a user must have listened to\n",
    "    '''    \n",
    "    print('\\n')\n",
    "    print('**Remove User with lowcount of samples (artists)**')\n",
    "    print('df original shape: ',df.shape)\n",
    "    print('unique users: ',df['userID'].nunique())\n",
    "\n",
    "    grouped_df = df.groupby('userID', dropna=False).agg({'artistID':['count']})\n",
    "    grouped_df = grouped_df.droplevel(axis=1, level=0)\n",
    "    users_drop = grouped_df[grouped_df['count'] < min_artists].index\n",
    "\n",
    "    print(f\"users with less than {min_artists} artists: {len(users_drop)}\")\n",
    "\n",
    "    new_df = df[~df['userID'].isin(users_drop)].reset_index(drop=True)\n",
    "\n",
    "    print('unique users after removal: ',new_df['userID'].nunique())\n",
    "    print('df new shape: ',new_df.shape)\n",
    "    print(f\"% of removed records: {round(1-(new_df.shape[0]/df.shape[0]),4)}\")\n",
    "    return new_df\n"
   ]
  },
  {
   "cell_type": "code",
   "execution_count": 10,
   "id": "e9556e44",
   "metadata": {},
   "outputs": [
    {
     "name": "stdout",
     "output_type": "stream",
     "text": [
      "\n",
      "\n",
      "**Remove User with lowcount of samples (artists)**\n",
      "df original shape:  (37113, 3)\n",
      "unique users:  1853\n",
      "users with less than 10 artists: 118\n",
      "unique users after removal:  1735\n",
      "df new shape:  (36470, 3)\n",
      "% of removed records: 0.0173\n"
     ]
    }
   ],
   "source": [
    "weights_for_model = remove_users_lowcount(weights_filtered_rare,10)"
   ]
  },
  {
   "cell_type": "code",
   "execution_count": 11,
   "id": "1b1dde4b",
   "metadata": {},
   "outputs": [],
   "source": [
    "#scale weights at user level\n",
    "#2 users might have a favorite artist, user 1 played such artist 100k times\n",
    "#user 2 played such artist 10k times. However those users are still neighbors\n",
    "#dont scale if your algorithm will already take care of this user-level bias\n",
    "\n",
    "def scale_weight_by_user(df):\n",
    "    '''\n",
    "    Requires input dataframe with userID, artistID, weight columns\n",
    "    Dont scale if your algorithm will already take care of this user-level bias\n",
    "    '''  \n",
    "    print('\\n')\n",
    "    print('**Scaling**')\n",
    "    print('df original shape: ',df.shape)    \n",
    "    sns.boxplot(y=\"weight\", data=df)\n",
    "    plt.title('Boxplot - Original Data')\n",
    "    plt.show()\n",
    "    \n",
    "    scaled_df = df.copy()\n",
    "    scaled_df['weight'] = scaled_df.groupby('userID')['weight'].apply(lambda x: (x-x.min())/(x.max()-x.min()))\n",
    "    \n",
    "    print('df scaled shape: ',scaled_df.shape)    \n",
    "    sns.boxplot(y=\"weight\", data=scaled_df)\n",
    "    plt.title('Boxplot - Scaled Data')\n",
    "    plt.show()\n",
    "    \n",
    "    return scaled_df\n"
   ]
  },
  {
   "cell_type": "code",
   "execution_count": 12,
   "id": "c9b54e2b",
   "metadata": {},
   "outputs": [
    {
     "name": "stdout",
     "output_type": "stream",
     "text": [
      "\n",
      "\n",
      "**Scaling**\n",
      "df original shape:  (36470, 3)\n"
     ]
    },
    {
     "data": {
      "image/png": "[encoded data removed]",
      "text/plain": [
       "<Figure size 432x288 with 1 Axes>"
      ]
     },
     "metadata": {
      "needs_background": "light"
     },
     "output_type": "display_data"
    },
    {
     "name": "stdout",
     "output_type": "stream",
     "text": [
      "df scaled shape:  (36470, 3)\n"
     ]
    },
    {
     "data": {
      "image/png": "[encoded data removed]",
      "text/plain": [
       "<Figure size 432x288 with 1 Axes>"
      ]
     },
     "metadata": {
      "needs_background": "light"
     },
     "output_type": "display_data"
    }
   ],
   "source": [
    "weights_scaled = scale_weight_by_user(weights_for_model)"
   ]
  },
  {
   "cell_type": "code",
   "execution_count": 13,
   "id": "b93e5587",
   "metadata": {},
   "outputs": [],
   "source": [
    "def train_test_split(df,sample_size,seed=1):\n",
    "    '''\n",
    "    Requires input dataframe with userID, artistID, weight columns\n",
    "    sample_size = number of artists per user to sample for test set\n",
    "    \n",
    "    sample_size must be smaller than total artist count per user!!!\n",
    "    \n",
    "    '''  \n",
    "    print('\\n')\n",
    "    print('**Train-Test Split**')\n",
    "    print(f\"input data shape: {df.shape}\")\n",
    "    \n",
    "    np.random.seed(seed)\n",
    "    sample = df.groupby('userID').apply(lambda x: x.sample(sample_size))\n",
    "    sample_index = list(sample.index.get_level_values(1))\n",
    " \n",
    "    train  = df[~df.index.isin(sample_index)]\n",
    "    train.reset_index(drop=True,inplace=True)\n",
    "    print(f\"train set shape: {train.shape}\")\n",
    "\n",
    "    test  = df[df.index.isin(sample_index)]\n",
    "    test.reset_index(drop=True,inplace=True)\n",
    "    print(f\"test set shape: {test.shape}\")\n",
    "    print('\\n')\n",
    "    #all test artists must be part of the training data\n",
    "    unique_train = train['artistID'].unique()\n",
    "    unique_test = test['artistID'].unique()\n",
    "    diff = np.setdiff1d(unique_test,unique_train)\n",
    "    if len(diff)>1:\n",
    "        print(f\"WARNING: {len(diff)} artists from the test set are not on the train set\")\n",
    "        print('1.consider increasing the min count of users per artist when pre-processing')\n",
    "        print('2.consider decreasing the number of samples per user for train-test split')\n",
    "        print('3.as al ast resource consider changing your seed')\n",
    "    else:\n",
    "        print('OK: all artists from the test set are part on the train set as well')\n",
    "    return train, test"
   ]
  },
  {
   "cell_type": "code",
   "execution_count": 14,
   "id": "06e4ed2b",
   "metadata": {},
   "outputs": [
    {
     "name": "stdout",
     "output_type": "stream",
     "text": [
      "\n",
      "\n",
      "**Train-Test Split**\n",
      "input data shape: (36470, 3)\n",
      "train set shape: (27795, 3)\n",
      "test set shape: (8675, 3)\n",
      "\n",
      "\n",
      "OK: all artists from the test set are part on the train set as well\n"
     ]
    }
   ],
   "source": [
    "train, test = train_test_split(weights_scaled,5,2021)"
   ]
  },
  {
   "cell_type": "code",
   "execution_count": 15,
   "id": "b5900d3b",
   "metadata": {},
   "outputs": [
    {
     "name": "stdout",
     "output_type": "stream",
     "text": [
      "(36470, 3)    userID  artistID    weight\n",
      "0       2        61  1.000000\n",
      "1       2        63  0.927914\n",
      "2       2        64  0.893021\n",
      "3       2        66  0.765721\n",
      "4       2        68  0.618098\n",
      "2100\n",
      "<class 'pandas.core.frame.DataFrame'>\n"
     ]
    }
   ],
   "source": [
    "print(weights_scaled.shape,weights_scaled.head())\n",
    "print(weights_scaled['userID'].max())\n",
    "print(type(weights_scaled))"
   ]
  },
  {
   "cell_type": "code",
   "execution_count": 16,
   "id": "5e866326",
   "metadata": {},
   "outputs": [
    {
     "name": "stdout",
     "output_type": "stream",
     "text": [
      "NearestNeighbors(algorithm='brute', metric='cosine')\n",
      "1132\n",
      "[[0. 0. 0. ... 0. 0. 0.]]\n",
      "1877\n"
     ]
    },
    {
     "data": {
      "text/plain": [
       "1363"
      ]
     },
     "execution_count": 16,
     "metadata": {},
     "output_type": "execute_result"
    }
   ],
   "source": [
    "# transform the weights of the matrix into scipy sparse matrix for more efficient calculations\n",
    "from scipy.sparse import csr_matrix\n",
    "train_pivot = train.pivot(index = 'userID', columns = 'artistID', values = 'weight').fillna(0)\n",
    "train_matrix = csr_matrix(train_pivot.values)\n",
    "test_pivot = test.pivot(index = 'userID', columns = 'artistID', values = 'weight').fillna(0)\n",
    "test_matrix = csr_matrix(test_pivot.values)\n",
    "\n",
    "from sklearn.neighbors import NearestNeighbors\n",
    "model_knn = NearestNeighbors(metric = 'cosine', algorithm = 'brute') #cosine is used to determine the similarity\n",
    "model_knn.fit(train_matrix)\n",
    "print(model_knn)\n",
    "\n",
    "query_index = np.random.choice(train_pivot.shape[0])\n",
    "print(query_index)\n",
    "print(train_pivot.iloc[query_index,:].values.reshape(1,-1))\n",
    "print(train_pivot.shape[1])\n",
    "\n",
    "distances, indices = model_knn.kneighbors(train_pivot.iloc[query_index,:].values.reshape(1, -1), n_neighbors = 6)\n",
    "train_pivot.index[query_index]\n"
   ]
  },
  {
   "cell_type": "code",
   "execution_count": 17,
   "id": "960c8d95",
   "metadata": {},
   "outputs": [
    {
     "name": "stdout",
     "output_type": "stream",
     "text": [
      "Recommendations for 1363:\n",
      "\n",
      "1: 29, with distance of 0.3542030597550868:\n",
      "2: 578, with distance of 0.4197975753585268:\n",
      "3: 899, with distance of 0.44488529376012864:\n",
      "4: 1461, with distance of 0.45489955903864576:\n",
      "5: 1476, with distance of 0.4589265652153134:\n"
     ]
    }
   ],
   "source": [
    "#User recommendation\n",
    "for i in range(0, len(distances.flatten())):\n",
    "    if i == 0:\n",
    "        print('Recommendations for {0}:\\n'.format(train_pivot.index[query_index]))\n",
    "    else:\n",
    "        print('{0}: {1}, with distance of {2}:'.format(i, train_pivot.index[indices.flatten()[i]], distances.flatten()[i]))"
   ]
  },
  {
   "cell_type": "code",
   "execution_count": 18,
   "id": "67f6ce46",
   "metadata": {},
   "outputs": [
    {
     "data": {
      "text/html": [
       "<div>\n",
       "<style scoped>\n",
       "    .dataframe tbody tr th:only-of-type {\n",
       "        vertical-align: middle;\n",
       "    }\n",
       "\n",
       "    .dataframe tbody tr th {\n",
       "        vertical-align: top;\n",
       "    }\n",
       "\n",
       "    .dataframe thead th {\n",
       "        text-align: right;\n",
       "    }\n",
       "</style>\n",
       "<table border=\"1\" class=\"dataframe\">\n",
       "  <thead>\n",
       "    <tr style=\"text-align: right;\">\n",
       "      <th></th>\n",
       "      <th>userID</th>\n",
       "      <th>artistID</th>\n",
       "      <th>weight</th>\n",
       "      <th>artists</th>\n",
       "      <th>feature</th>\n",
       "    </tr>\n",
       "  </thead>\n",
       "  <tbody>\n",
       "    <tr>\n",
       "      <th>0</th>\n",
       "      <td>2</td>\n",
       "      <td>61</td>\n",
       "      <td>1.000000</td>\n",
       "      <td>Talk Talk</td>\n",
       "      <td>0.008036</td>\n",
       "    </tr>\n",
       "    <tr>\n",
       "      <th>21</th>\n",
       "      <td>1585</td>\n",
       "      <td>61</td>\n",
       "      <td>1.000000</td>\n",
       "      <td>Talk Talk</td>\n",
       "      <td>0.008036</td>\n",
       "    </tr>\n",
       "    <tr>\n",
       "      <th>31</th>\n",
       "      <td>210</td>\n",
       "      <td>63</td>\n",
       "      <td>0.620359</td>\n",
       "      <td>Enigma</td>\n",
       "      <td>0.006585</td>\n",
       "    </tr>\n",
       "    <tr>\n",
       "      <th>37</th>\n",
       "      <td>463</td>\n",
       "      <td>63</td>\n",
       "      <td>1.000000</td>\n",
       "      <td>Enigma</td>\n",
       "      <td>0.006585</td>\n",
       "    </tr>\n",
       "    <tr>\n",
       "      <th>46</th>\n",
       "      <td>831</td>\n",
       "      <td>63</td>\n",
       "      <td>1.000000</td>\n",
       "      <td>Enigma</td>\n",
       "      <td>0.006585</td>\n",
       "    </tr>\n",
       "    <tr>\n",
       "      <th>...</th>\n",
       "      <td>...</td>\n",
       "      <td>...</td>\n",
       "      <td>...</td>\n",
       "      <td>...</td>\n",
       "      <td>...</td>\n",
       "    </tr>\n",
       "    <tr>\n",
       "      <th>29061</th>\n",
       "      <td>1364</td>\n",
       "      <td>2873</td>\n",
       "      <td>0.475504</td>\n",
       "      <td>Joe Bonamassa</td>\n",
       "      <td>0.010368</td>\n",
       "    </tr>\n",
       "    <tr>\n",
       "      <th>29069</th>\n",
       "      <td>1347</td>\n",
       "      <td>11885</td>\n",
       "      <td>0.521739</td>\n",
       "      <td>Johnny Winter</td>\n",
       "      <td>0.006049</td>\n",
       "    </tr>\n",
       "    <tr>\n",
       "      <th>29080</th>\n",
       "      <td>1627</td>\n",
       "      <td>2871</td>\n",
       "      <td>1.000000</td>\n",
       "      <td>Rory Gallagher</td>\n",
       "      <td>0.006916</td>\n",
       "    </tr>\n",
       "    <tr>\n",
       "      <th>29084</th>\n",
       "      <td>1148</td>\n",
       "      <td>6150</td>\n",
       "      <td>1.000000</td>\n",
       "      <td>Tangerine Dream</td>\n",
       "      <td>0.013529</td>\n",
       "    </tr>\n",
       "    <tr>\n",
       "      <th>29086</th>\n",
       "      <td>1164</td>\n",
       "      <td>6150</td>\n",
       "      <td>1.000000</td>\n",
       "      <td>Tangerine Dream</td>\n",
       "      <td>0.013529</td>\n",
       "    </tr>\n",
       "  </tbody>\n",
       "</table>\n",
       "<p>1735 rows × 5 columns</p>\n",
       "</div>"
      ],
      "text/plain": [
       "       userID  artistID    weight          artists   feature\n",
       "0           2        61  1.000000        Talk Talk  0.008036\n",
       "21       1585        61  1.000000        Talk Talk  0.008036\n",
       "31        210        63  0.620359           Enigma  0.006585\n",
       "37        463        63  1.000000           Enigma  0.006585\n",
       "46        831        63  1.000000           Enigma  0.006585\n",
       "...       ...       ...       ...              ...       ...\n",
       "29061    1364      2873  0.475504    Joe Bonamassa  0.010368\n",
       "29069    1347     11885  0.521739    Johnny Winter  0.006049\n",
       "29080    1627      2871  1.000000   Rory Gallagher  0.006916\n",
       "29084    1148      6150  1.000000  Tangerine Dream  0.013529\n",
       "29086    1164      6150  1.000000  Tangerine Dream  0.013529\n",
       "\n",
       "[1735 rows x 5 columns]"
      ]
     },
     "execution_count": 18,
     "metadata": {},
     "output_type": "execute_result"
    }
   ],
   "source": [
    "#Reduce the dimension of spotify dataset from 11 features to 2, keep the artist and the feature information\n",
    "from sklearn.decomposition import PCA\n",
    "artist_sp_df = pd.read_csv(artists_spotify_file)\n",
    "sp_pca = artist_sp_df.iloc[:,range(2,13)]\n",
    "pca = PCA(n_components=1)\n",
    "pca.fit(np.array(sp_pca).T)\n",
    "new_feature = pd.DataFrame(pca.components_.T, columns = ['feature'])\n",
    "sp_pca = pd.concat([artist_sp_df.iloc[:,1],new_feature],axis=1)\n",
    "\n",
    "# Connect the spotify artist name with lm id\n",
    "feature_df = artist_df.merge(sp_pca,\n",
    "                        how = 'inner',\n",
    "                        left_on = artist_df['name'].str.lower(),\n",
    "                        right_on = sp_pca['artists'].str.lower()).drop(columns = ['key_0','url','pictureURL','name'])\n",
    "#Merge features with the cleaned user data, merge on artist id\n",
    "\n",
    "weights_feature = weights_scaled.merge(feature_df,\n",
    "             how = 'inner',\n",
    "             left_on = weights_scaled['artistID'],\n",
    "             right_on = feature_df['id']).drop(columns = ['key_0','id']).drop_duplicates(subset = ['userID','artistID'])\n",
    "\n",
    "#For each user, find the feature that corresponds to its max weight as the user's favorite feature\n",
    "#This step can be improved by find the first several features instead of the first one feature.\n",
    "weights_feature = weights_feature[weights_feature.groupby(['userID'])['weight']\n",
    "                                  .transform(max) == weights_feature['weight']].drop_duplicates(subset = ['userID'])\n",
    "\n",
    "weights_feature[weights_feature['userID'] == 1023]\n",
    "\n",
    "weights_feature"
   ]
  },
  {
   "cell_type": "code",
   "execution_count": 19,
   "id": "1dacdb43",
   "metadata": {},
   "outputs": [
    {
     "data": {
      "text/plain": [
       "[0.006492758388774683,\n",
       " 0.006492758388774683,\n",
       " 0.007168669901198889,\n",
       " 0.006560985342133663,\n",
       " 0.0055294568627040006,\n",
       " 0.005463232233567679]"
      ]
     },
     "execution_count": 19,
     "metadata": {},
     "output_type": "execute_result"
    }
   ],
   "source": [
    "def usertofeature(userlist):\n",
    "    featurelist = []\n",
    "    for i in userlist:\n",
    "        feature = weights_feature.loc[weights_feature['userID'] == i, 'feature'].tolist()\n",
    "        featurelist+=feature\n",
    "    return featurelist\n",
    "usertofeature([324, 1839, 1868, 1858, 715, 1008])"
   ]
  },
  {
   "cell_type": "code",
   "execution_count": 20,
   "id": "5e6e8bf7",
   "metadata": {},
   "outputs": [],
   "source": [
    "# Find the favorite feature list of each neighbor user, average them to get the synthetic artist\n",
    "neighbor = 6\n",
    "SA = [] #The list of synthetic artist feature that cooresponds to the user list\n",
    "AA = [] #The actual artist feature that corresponds to the user list\n",
    "for query_index in range(0,train_pivot.shape[0]):\n",
    "    if train_pivot.index[query_index] in weights_feature['userID'].to_list():\n",
    "        distances, indices = model_knn.kneighbors(train_pivot.iloc[query_index,:].values.reshape(1, -1), \n",
    "                                              n_neighbors = neighbor)\n",
    "        userlist = train_pivot.index[indices.flatten()].tolist()\n",
    "        featurelist = usertofeature(userlist)\n",
    "        synartist = sum(featurelist)/len(featurelist)\n",
    "        SA.append(synartist)\n",
    "        AA.append((weights_feature.loc[weights_feature['userID'] == train_pivot.index[query_index], 'feature']).tolist())\n",
    "    else:\n",
    "        print(\"No enough data to make recommendation\")\n",
    "\n",
    "AA = np.array(AA).flatten()\n",
    "SA = np.array(SA)"
   ]
  },
  {
   "cell_type": "code",
   "execution_count": 34,
   "id": "bbc09548",
   "metadata": {},
   "outputs": [
    {
     "name": "stdout",
     "output_type": "stream",
     "text": [
      "The percentage that synthetic artist different than the actual artist features is:  [ 0.25135888 -0.29546373 -0.18562282 ...  0.11687463 -0.05535125\n",
      "  0.17026336]\n"
     ]
    },
    {
     "data": {
      "text/plain": [
       "[<matplotlib.lines.Line2D at 0x7fd8985d4a60>]"
      ]
     },
     "execution_count": 34,
     "metadata": {},
     "output_type": "execute_result"
    },
    {
     "data": {
      "image/png": "[encoded data removed]",
      "text/plain": [
       "<Figure size 432x288 with 1 Axes>"
      ]
     },
     "metadata": {
      "needs_background": "light"
     },
     "output_type": "display_data"
    }
   ],
   "source": [
    "#Compare the feature of the synthetic artist feature\n",
    "compare = AA/SA-1\n",
    "print(\"The percentage that synthetic artist different than the actual artist features is: \", compare)\n",
    "plt.plot(compare)"
   ]
  },
  {
   "cell_type": "code",
   "execution_count": 35,
   "id": "17332f12",
   "metadata": {},
   "outputs": [
    {
     "data": {
      "text/plain": [
       "[<matplotlib.lines.Line2D at 0x7fd899aec640>]"
      ]
     },
     "execution_count": 35,
     "metadata": {},
     "output_type": "execute_result"
    },
    {
     "data": {
      "image/png": "[encoded data removed]",
      "text/plain": [
       "<Figure size 432x288 with 1 Axes>"
      ]
     },
     "metadata": {
      "needs_background": "light"
     },
     "output_type": "display_data"
    }
   ],
   "source": [
    "#If we only use AA mean to assume all the features, the range is bigger.\n",
    "AAmean = np.average(AA)\n",
    "original = AA/AAmean-1\n",
    "plt.plot(original)"
   ]
  },
  {
   "cell_type": "code",
   "execution_count": null,
   "id": "c45fb37d",
   "metadata": {},
   "outputs": [],
   "source": []
  }
 ],
 "metadata": {
  "kernelspec": {
   "display_name": "Python 3",
   "language": "python",
   "name": "python3"
  },
  "language_info": {
   "codemirror_mode": {
    "name": "ipython",
    "version": 3
   },
   "file_extension": ".py",
   "mimetype": "text/x-python",
   "name": "python",
   "nbconvert_exporter": "python",
   "pygments_lexer": "ipython3",
   "version": "3.8.10"
  }
 },
 "nbformat": 4,
 "nbformat_minor": 5
}
