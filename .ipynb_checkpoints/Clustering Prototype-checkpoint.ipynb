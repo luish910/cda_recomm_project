{
 "cells": [
  {
   "cell_type": "markdown",
   "id": "2e666c75",
   "metadata": {},
   "source": [
    "Test"
   ]
  },
  {
   "cell_type": "code",
   "execution_count": 1,
   "id": "4fb3d8d0",
   "metadata": {},
   "outputs": [
    {
     "name": "stdout",
     "output_type": "stream",
     "text": [
      "/Users/luis/Documents/21_ISYE6740_CDA/Project/cda_recomm_project/data\n"
     ]
    }
   ],
   "source": [
    "import numpy as np\n",
    "import pandas as pd\n",
    "from matplotlib import pyplot as plt\n",
    "import seaborn as sns\n",
    "import os\n",
    "\n",
    "from sklearn.model_selection import train_test_split\n",
    "from sklearn.preprocessing import StandardScaler\n",
    "#from sklearn.linear_model import LogisticRegression\n",
    "#from sklearn.neighbors import KNeighborsClassifier\n",
    "#from sklearn.naive_bayes import GaussianNB\n",
    "#from sklearn.metrics import confusion_matrix\n",
    "#from sklearn.decomposition import PCA\n",
    "#from matplotlib.colors import ListedColormap\n",
    "#from sklearn.metrics import accuracy_score\n",
    "\n",
    "from scipy import sparse\n",
    "\n",
    "directory = os.getcwd()\n",
    "#set path for input DATA\n",
    "data_path = os.path.join(directory, \"data\")\n",
    "print(data_path)\n",
    "\n",
    "\n",
    "artists_file = os.path.join(data_path, \"artists.dat\")\n",
    "artists_spotify_file = os.path.join(data_path, \"data_by_artist_o.csv\")\n",
    "tag_file = os.path.join(data_path, \"tags.dat\")\n",
    "users_artists_file = os.path.join(data_path, \"user_artists.dat\")\n",
    "users_tags_file = os.path.join(data_path, \"user_taggedartists.dat\")\n"
   ]
  },
  {
   "cell_type": "code",
   "execution_count": 2,
   "id": "3fa4bbbc",
   "metadata": {},
   "outputs": [
    {
     "name": "stdout",
     "output_type": "stream",
     "text": [
      "artists_spotify_data shape:  (28680, 16)\n",
      "artists_data shape:  (17632, 4)\n",
      "tag_data shape:  (11946, 2)\n",
      "users_artists_data shape:  (92834, 3)\n",
      "users_tags_data shape:  (186479, 6)\n"
     ]
    }
   ],
   "source": [
    "#import data\n",
    "artists_spotify_data = pd.read_csv(artists_spotify_file)\n",
    "print(\"artists_spotify_data shape: \",artists_spotify_data.shape)\n",
    "\n",
    "artists_data = pd.read_csv(artists_file,sep=\"\\t\")\n",
    "print(\"artists_data shape: \",artists_data.shape)\n",
    "\n",
    "tag_data = pd.read_csv(tag_file,sep=\"\\t\",encoding='latin-1')\n",
    "print(\"tag_data shape: \",tag_data.shape)\n",
    "\n",
    "\n",
    "users_artists_data = pd.read_csv(users_artists_file,sep=\"\\t\")\n",
    "print(\"users_artists_data shape: \",users_artists_data.shape)\n",
    "\n",
    "\n",
    "users_tags_data = pd.read_csv(users_tags_file,sep=\"\\t\")\n",
    "print(\"users_tags_data shape: \",users_tags_data.shape)\n"
   ]
  },
  {
   "cell_type": "code",
   "execution_count": 4,
   "id": "192cd024",
   "metadata": {},
   "outputs": [
    {
     "data": {
      "text/html": [
       "<div>\n",
       "<style scoped>\n",
       "    .dataframe tbody tr th:only-of-type {\n",
       "        vertical-align: middle;\n",
       "    }\n",
       "\n",
       "    .dataframe tbody tr th {\n",
       "        vertical-align: top;\n",
       "    }\n",
       "\n",
       "    .dataframe thead th {\n",
       "        text-align: right;\n",
       "    }\n",
       "</style>\n",
       "<table border=\"1\" class=\"dataframe\">\n",
       "  <thead>\n",
       "    <tr style=\"text-align: right;\">\n",
       "      <th></th>\n",
       "      <th>id</th>\n",
       "      <th>name</th>\n",
       "      <th>url</th>\n",
       "      <th>pictureURL</th>\n",
       "    </tr>\n",
       "  </thead>\n",
       "  <tbody>\n",
       "    <tr>\n",
       "      <th>0</th>\n",
       "      <td>1</td>\n",
       "      <td>MALICE MIZER</td>\n",
       "      <td>http://www.last.fm/music/MALICE+MIZER</td>\n",
       "      <td>http://userserve-ak.last.fm/serve/252/10808.jpg</td>\n",
       "    </tr>\n",
       "    <tr>\n",
       "      <th>1</th>\n",
       "      <td>2</td>\n",
       "      <td>Diary of Dreams</td>\n",
       "      <td>http://www.last.fm/music/Diary+of+Dreams</td>\n",
       "      <td>http://userserve-ak.last.fm/serve/252/3052066.jpg</td>\n",
       "    </tr>\n",
       "    <tr>\n",
       "      <th>2</th>\n",
       "      <td>3</td>\n",
       "      <td>Carpathian Forest</td>\n",
       "      <td>http://www.last.fm/music/Carpathian+Forest</td>\n",
       "      <td>http://userserve-ak.last.fm/serve/252/40222717...</td>\n",
       "    </tr>\n",
       "    <tr>\n",
       "      <th>3</th>\n",
       "      <td>4</td>\n",
       "      <td>Moi dix Mois</td>\n",
       "      <td>http://www.last.fm/music/Moi+dix+Mois</td>\n",
       "      <td>http://userserve-ak.last.fm/serve/252/54697835...</td>\n",
       "    </tr>\n",
       "    <tr>\n",
       "      <th>4</th>\n",
       "      <td>5</td>\n",
       "      <td>Bella Morte</td>\n",
       "      <td>http://www.last.fm/music/Bella+Morte</td>\n",
       "      <td>http://userserve-ak.last.fm/serve/252/14789013...</td>\n",
       "    </tr>\n",
       "  </tbody>\n",
       "</table>\n",
       "</div>"
      ],
      "text/plain": [
       "   id               name                                         url  \\\n",
       "0   1       MALICE MIZER       http://www.last.fm/music/MALICE+MIZER   \n",
       "1   2    Diary of Dreams    http://www.last.fm/music/Diary+of+Dreams   \n",
       "2   3  Carpathian Forest  http://www.last.fm/music/Carpathian+Forest   \n",
       "3   4       Moi dix Mois       http://www.last.fm/music/Moi+dix+Mois   \n",
       "4   5        Bella Morte        http://www.last.fm/music/Bella+Morte   \n",
       "\n",
       "                                          pictureURL  \n",
       "0    http://userserve-ak.last.fm/serve/252/10808.jpg  \n",
       "1  http://userserve-ak.last.fm/serve/252/3052066.jpg  \n",
       "2  http://userserve-ak.last.fm/serve/252/40222717...  \n",
       "3  http://userserve-ak.last.fm/serve/252/54697835...  \n",
       "4  http://userserve-ak.last.fm/serve/252/14789013...  "
      ]
     },
     "execution_count": 4,
     "metadata": {},
     "output_type": "execute_result"
    }
   ],
   "source": [
    "artists_data.head()"
   ]
  },
  {
   "cell_type": "code",
   "execution_count": 3,
   "id": "9481f214",
   "metadata": {},
   "outputs": [
    {
     "data": {
      "text/html": [
       "<div>\n",
       "<style scoped>\n",
       "    .dataframe tbody tr th:only-of-type {\n",
       "        vertical-align: middle;\n",
       "    }\n",
       "\n",
       "    .dataframe tbody tr th {\n",
       "        vertical-align: top;\n",
       "    }\n",
       "\n",
       "    .dataframe thead th {\n",
       "        text-align: right;\n",
       "    }\n",
       "</style>\n",
       "<table border=\"1\" class=\"dataframe\">\n",
       "  <thead>\n",
       "    <tr style=\"text-align: right;\">\n",
       "      <th></th>\n",
       "      <th>userID</th>\n",
       "      <th>artistID</th>\n",
       "      <th>weight</th>\n",
       "    </tr>\n",
       "  </thead>\n",
       "  <tbody>\n",
       "    <tr>\n",
       "      <th>0</th>\n",
       "      <td>2</td>\n",
       "      <td>51</td>\n",
       "      <td>13883</td>\n",
       "    </tr>\n",
       "    <tr>\n",
       "      <th>1</th>\n",
       "      <td>2</td>\n",
       "      <td>52</td>\n",
       "      <td>11690</td>\n",
       "    </tr>\n",
       "    <tr>\n",
       "      <th>2</th>\n",
       "      <td>2</td>\n",
       "      <td>53</td>\n",
       "      <td>11351</td>\n",
       "    </tr>\n",
       "    <tr>\n",
       "      <th>3</th>\n",
       "      <td>2</td>\n",
       "      <td>54</td>\n",
       "      <td>10300</td>\n",
       "    </tr>\n",
       "    <tr>\n",
       "      <th>4</th>\n",
       "      <td>2</td>\n",
       "      <td>55</td>\n",
       "      <td>8983</td>\n",
       "    </tr>\n",
       "  </tbody>\n",
       "</table>\n",
       "</div>"
      ],
      "text/plain": [
       "   userID  artistID  weight\n",
       "0       2        51   13883\n",
       "1       2        52   11690\n",
       "2       2        53   11351\n",
       "3       2        54   10300\n",
       "4       2        55    8983"
      ]
     },
     "execution_count": 3,
     "metadata": {},
     "output_type": "execute_result"
    }
   ],
   "source": [
    "#listening habits of artists. Weight = scrobbles = plays\n",
    "users_artists_data.head()"
   ]
  },
  {
   "cell_type": "code",
   "execution_count": 5,
   "id": "ff55a627",
   "metadata": {},
   "outputs": [
    {
     "data": {
      "text/plain": [
       "1892"
      ]
     },
     "execution_count": 5,
     "metadata": {},
     "output_type": "execute_result"
    }
   ],
   "source": [
    "#How many unique users?\n",
    "len(pd.unique(users_artists_data['userID']))"
   ]
  },
  {
   "cell_type": "code",
   "execution_count": 6,
   "id": "dc07a0cb",
   "metadata": {},
   "outputs": [
    {
     "data": {
      "text/plain": [
       "17632"
      ]
     },
     "execution_count": 6,
     "metadata": {},
     "output_type": "execute_result"
    }
   ],
   "source": [
    "#How many unique artists?\n",
    "len(pd.unique(users_artists_data['artistID']))"
   ]
  },
  {
   "cell_type": "code",
   "execution_count": 11,
   "id": "62022277",
   "metadata": {},
   "outputs": [
    {
     "data": {
      "image/png": "[encoded data removed]",
      "text/plain": [
       "<Figure size 432x288 with 1 Axes>"
      ]
     },
     "metadata": {
      "needs_background": "light"
     },
     "output_type": "display_data"
    },
    {
     "data": {
      "image/png": "[encoded data removed]",
      "text/plain": [
       "<Figure size 432x288 with 1 Axes>"
      ]
     },
     "metadata": {
      "needs_background": "light"
     },
     "output_type": "display_data"
    }
   ],
   "source": [
    "#Whats the distribution of scrobbles (weight)?\n",
    "hist = plt.hist(users_artists_data['weight'], bins=10, density=\"normed\")\n",
    "plt.show()\n"
   ]
  },
  {
   "cell_type": "code",
   "execution_count": 74,
   "id": "1e9109ea",
   "metadata": {},
   "outputs": [
    {
     "data": {
      "text/plain": [
       "a.<10          3461\n",
       "b.10-1K       75313\n",
       "c.1K-5K       12509\n",
       "d.5K-10K        921\n",
       "e.10K-20K       380\n",
       "f.20K-50K       188\n",
       "g.50K-100K       37\n",
       "h.+100K          25\n",
       "Name: weight_bin, dtype: int64"
      ]
     },
     "execution_count": 74,
     "metadata": {},
     "output_type": "execute_result"
    }
   ],
   "source": [
    "labels = ['a.<10','b.10-1K','c.1K-5K','d.5K-10K','e.10K-20K','f.20K-50K','g.50K-100K','h.+100K']\n",
    "bins = [0, 10,1000,5000,10000,20000,50000,100000, np.inf]\n",
    "users_artists_data['weight_bin'] = pd.cut(users_artists_data['weight'], bins,labels=labels)\n",
    "users_artists_data['weight_bin'].value_counts(sort=False)"
   ]
  },
  {
   "cell_type": "code",
   "execution_count": 75,
   "id": "cdd1e323",
   "metadata": {},
   "outputs": [
    {
     "data": {
      "text/plain": [
       "<function matplotlib.pyplot.show(close=None, block=None)>"
      ]
     },
     "execution_count": 75,
     "metadata": {},
     "output_type": "execute_result"
    },
    {
     "data": {
      "image/png": "[encoded data removed]",
      "text/plain": [
       "<Figure size 432x288 with 1 Axes>"
      ]
     },
     "metadata": {
      "needs_background": "light"
     },
     "output_type": "display_data"
    }
   ],
   "source": [
    "sns.boxplot(y=\"weight\", data=users_artists_data)\n",
    "plt.show"
   ]
  },
  {
   "cell_type": "code",
   "execution_count": 80,
   "id": "847427ee",
   "metadata": {},
   "outputs": [
    {
     "name": "stdout",
     "output_type": "stream",
     "text": [
      "(87822, 4)\n",
      "pct of data kept:  0.9460111597044186\n"
     ]
    }
   ],
   "source": [
    "ua_data_new = users_artists_data[(users_artists_data['weight']<5000)\n",
    "                                 &(users_artists_data['weight']>10)]\n",
    "print(ua_data_new.shape)\n",
    "print('pct of data kept: ' ,ua_data_new.shape[0]/users_artists_data.shape[0])"
   ]
  },
  {
   "cell_type": "code",
   "execution_count": 77,
   "id": "f0dd0959",
   "metadata": {},
   "outputs": [
    {
     "data": {
      "image/png": "[encoded data removed]",
      "text/plain": [
       "<Figure size 432x288 with 1 Axes>"
      ]
     },
     "metadata": {
      "needs_background": "light"
     },
     "output_type": "display_data"
    }
   ],
   "source": [
    "sns.boxplot(y=\"weight\", data=ua_data_new)\n",
    "plt.show()"
   ]
  },
  {
   "cell_type": "code",
   "execution_count": 82,
   "id": "992e1094",
   "metadata": {},
   "outputs": [
    {
     "data": {
      "text/plain": [
       "48.611111111111114"
      ]
     },
     "execution_count": 82,
     "metadata": {},
     "output_type": "execute_result"
    }
   ],
   "source": [
    "#what are the chances a human being played a 4 min song 350K times?\n",
    "#suppose the person played the artist 20 times a day\n",
    "#How many years did they play the artist at that rate:\n",
    "350000/20/360\n",
    "\n",
    "#not reasonable unless you're a rigged radio station. "
   ]
  },
  {
   "cell_type": "code",
   "execution_count": 89,
   "id": "a0bf6389",
   "metadata": {},
   "outputs": [
    {
     "data": {
      "text/plain": [
       "0.6944444444444444"
      ]
     },
     "execution_count": 89,
     "metadata": {},
     "output_type": "execute_result"
    }
   ],
   "source": [
    "#is 5K beliveable\n",
    "5000/20/360"
   ]
  },
  {
   "cell_type": "code",
   "execution_count": 95,
   "id": "37a25d10",
   "metadata": {},
   "outputs": [
    {
     "ename": "KeyError",
     "evalue": "\"['weight_bin'] not found in axis\"",
     "output_type": "error",
     "traceback": [
      "\u001b[0;31m---------------------------------------------------------------------------\u001b[0m",
      "\u001b[0;31mKeyError\u001b[0m                                  Traceback (most recent call last)",
      "\u001b[0;32m<ipython-input-95-63d77985f257>\u001b[0m in \u001b[0;36m<module>\u001b[0;34m\u001b[0m\n\u001b[0;32m----> 1\u001b[0;31m \u001b[0mua_data_new\u001b[0m\u001b[0;34m.\u001b[0m\u001b[0mdrop\u001b[0m\u001b[0;34m(\u001b[0m\u001b[0mcolumns\u001b[0m\u001b[0;34m=\u001b[0m\u001b[0;34m'weight_bin'\u001b[0m\u001b[0;34m,\u001b[0m\u001b[0maxis\u001b[0m\u001b[0;34m=\u001b[0m\u001b[0;36m1\u001b[0m\u001b[0;34m)\u001b[0m\u001b[0;34m\u001b[0m\u001b[0;34m\u001b[0m\u001b[0m\n\u001b[0m",
      "\u001b[0;32m~/opt/anaconda3/lib/python3.8/site-packages/pandas/core/frame.py\u001b[0m in \u001b[0;36mdrop\u001b[0;34m(self, labels, axis, index, columns, level, inplace, errors)\u001b[0m\n\u001b[1;32m   4306\u001b[0m                 \u001b[0mweight\u001b[0m  \u001b[0;36m1.0\u001b[0m     \u001b[0;36m0.8\u001b[0m\u001b[0;34m\u001b[0m\u001b[0;34m\u001b[0m\u001b[0m\n\u001b[1;32m   4307\u001b[0m         \"\"\"\n\u001b[0;32m-> 4308\u001b[0;31m         return super().drop(\n\u001b[0m\u001b[1;32m   4309\u001b[0m             \u001b[0mlabels\u001b[0m\u001b[0;34m=\u001b[0m\u001b[0mlabels\u001b[0m\u001b[0;34m,\u001b[0m\u001b[0;34m\u001b[0m\u001b[0;34m\u001b[0m\u001b[0m\n\u001b[1;32m   4310\u001b[0m             \u001b[0maxis\u001b[0m\u001b[0;34m=\u001b[0m\u001b[0maxis\u001b[0m\u001b[0;34m,\u001b[0m\u001b[0;34m\u001b[0m\u001b[0;34m\u001b[0m\u001b[0m\n",
      "\u001b[0;32m~/opt/anaconda3/lib/python3.8/site-packages/pandas/core/generic.py\u001b[0m in \u001b[0;36mdrop\u001b[0;34m(self, labels, axis, index, columns, level, inplace, errors)\u001b[0m\n\u001b[1;32m   4151\u001b[0m         \u001b[0;32mfor\u001b[0m \u001b[0maxis\u001b[0m\u001b[0;34m,\u001b[0m \u001b[0mlabels\u001b[0m \u001b[0;32min\u001b[0m \u001b[0maxes\u001b[0m\u001b[0;34m.\u001b[0m\u001b[0mitems\u001b[0m\u001b[0;34m(\u001b[0m\u001b[0;34m)\u001b[0m\u001b[0;34m:\u001b[0m\u001b[0;34m\u001b[0m\u001b[0;34m\u001b[0m\u001b[0m\n\u001b[1;32m   4152\u001b[0m             \u001b[0;32mif\u001b[0m \u001b[0mlabels\u001b[0m \u001b[0;32mis\u001b[0m \u001b[0;32mnot\u001b[0m \u001b[0;32mNone\u001b[0m\u001b[0;34m:\u001b[0m\u001b[0;34m\u001b[0m\u001b[0;34m\u001b[0m\u001b[0m\n\u001b[0;32m-> 4153\u001b[0;31m                 \u001b[0mobj\u001b[0m \u001b[0;34m=\u001b[0m \u001b[0mobj\u001b[0m\u001b[0;34m.\u001b[0m\u001b[0m_drop_axis\u001b[0m\u001b[0;34m(\u001b[0m\u001b[0mlabels\u001b[0m\u001b[0;34m,\u001b[0m \u001b[0maxis\u001b[0m\u001b[0;34m,\u001b[0m \u001b[0mlevel\u001b[0m\u001b[0;34m=\u001b[0m\u001b[0mlevel\u001b[0m\u001b[0;34m,\u001b[0m \u001b[0merrors\u001b[0m\u001b[0;34m=\u001b[0m\u001b[0merrors\u001b[0m\u001b[0;34m)\u001b[0m\u001b[0;34m\u001b[0m\u001b[0;34m\u001b[0m\u001b[0m\n\u001b[0m\u001b[1;32m   4154\u001b[0m \u001b[0;34m\u001b[0m\u001b[0m\n\u001b[1;32m   4155\u001b[0m         \u001b[0;32mif\u001b[0m \u001b[0minplace\u001b[0m\u001b[0;34m:\u001b[0m\u001b[0;34m\u001b[0m\u001b[0;34m\u001b[0m\u001b[0m\n",
      "\u001b[0;32m~/opt/anaconda3/lib/python3.8/site-packages/pandas/core/generic.py\u001b[0m in \u001b[0;36m_drop_axis\u001b[0;34m(self, labels, axis, level, errors)\u001b[0m\n\u001b[1;32m   4186\u001b[0m                 \u001b[0mnew_axis\u001b[0m \u001b[0;34m=\u001b[0m \u001b[0maxis\u001b[0m\u001b[0;34m.\u001b[0m\u001b[0mdrop\u001b[0m\u001b[0;34m(\u001b[0m\u001b[0mlabels\u001b[0m\u001b[0;34m,\u001b[0m \u001b[0mlevel\u001b[0m\u001b[0;34m=\u001b[0m\u001b[0mlevel\u001b[0m\u001b[0;34m,\u001b[0m \u001b[0merrors\u001b[0m\u001b[0;34m=\u001b[0m\u001b[0merrors\u001b[0m\u001b[0;34m)\u001b[0m\u001b[0;34m\u001b[0m\u001b[0;34m\u001b[0m\u001b[0m\n\u001b[1;32m   4187\u001b[0m             \u001b[0;32melse\u001b[0m\u001b[0;34m:\u001b[0m\u001b[0;34m\u001b[0m\u001b[0;34m\u001b[0m\u001b[0m\n\u001b[0;32m-> 4188\u001b[0;31m                 \u001b[0mnew_axis\u001b[0m \u001b[0;34m=\u001b[0m \u001b[0maxis\u001b[0m\u001b[0;34m.\u001b[0m\u001b[0mdrop\u001b[0m\u001b[0;34m(\u001b[0m\u001b[0mlabels\u001b[0m\u001b[0;34m,\u001b[0m \u001b[0merrors\u001b[0m\u001b[0;34m=\u001b[0m\u001b[0merrors\u001b[0m\u001b[0;34m)\u001b[0m\u001b[0;34m\u001b[0m\u001b[0;34m\u001b[0m\u001b[0m\n\u001b[0m\u001b[1;32m   4189\u001b[0m             \u001b[0mresult\u001b[0m \u001b[0;34m=\u001b[0m \u001b[0mself\u001b[0m\u001b[0;34m.\u001b[0m\u001b[0mreindex\u001b[0m\u001b[0;34m(\u001b[0m\u001b[0;34m**\u001b[0m\u001b[0;34m{\u001b[0m\u001b[0maxis_name\u001b[0m\u001b[0;34m:\u001b[0m \u001b[0mnew_axis\u001b[0m\u001b[0;34m}\u001b[0m\u001b[0;34m)\u001b[0m\u001b[0;34m\u001b[0m\u001b[0;34m\u001b[0m\u001b[0m\n\u001b[1;32m   4190\u001b[0m \u001b[0;34m\u001b[0m\u001b[0m\n",
      "\u001b[0;32m~/opt/anaconda3/lib/python3.8/site-packages/pandas/core/indexes/base.py\u001b[0m in \u001b[0;36mdrop\u001b[0;34m(self, labels, errors)\u001b[0m\n\u001b[1;32m   5589\u001b[0m         \u001b[0;32mif\u001b[0m \u001b[0mmask\u001b[0m\u001b[0;34m.\u001b[0m\u001b[0many\u001b[0m\u001b[0;34m(\u001b[0m\u001b[0;34m)\u001b[0m\u001b[0;34m:\u001b[0m\u001b[0;34m\u001b[0m\u001b[0;34m\u001b[0m\u001b[0m\n\u001b[1;32m   5590\u001b[0m             \u001b[0;32mif\u001b[0m \u001b[0merrors\u001b[0m \u001b[0;34m!=\u001b[0m \u001b[0;34m\"ignore\"\u001b[0m\u001b[0;34m:\u001b[0m\u001b[0;34m\u001b[0m\u001b[0;34m\u001b[0m\u001b[0m\n\u001b[0;32m-> 5591\u001b[0;31m                 \u001b[0;32mraise\u001b[0m \u001b[0mKeyError\u001b[0m\u001b[0;34m(\u001b[0m\u001b[0;34mf\"{labels[mask]} not found in axis\"\u001b[0m\u001b[0;34m)\u001b[0m\u001b[0;34m\u001b[0m\u001b[0;34m\u001b[0m\u001b[0m\n\u001b[0m\u001b[1;32m   5592\u001b[0m             \u001b[0mindexer\u001b[0m \u001b[0;34m=\u001b[0m \u001b[0mindexer\u001b[0m\u001b[0;34m[\u001b[0m\u001b[0;34m~\u001b[0m\u001b[0mmask\u001b[0m\u001b[0;34m]\u001b[0m\u001b[0;34m\u001b[0m\u001b[0;34m\u001b[0m\u001b[0m\n\u001b[1;32m   5593\u001b[0m         \u001b[0;32mreturn\u001b[0m \u001b[0mself\u001b[0m\u001b[0;34m.\u001b[0m\u001b[0mdelete\u001b[0m\u001b[0;34m(\u001b[0m\u001b[0mindexer\u001b[0m\u001b[0;34m)\u001b[0m\u001b[0;34m\u001b[0m\u001b[0;34m\u001b[0m\u001b[0m\n",
      "\u001b[0;31mKeyError\u001b[0m: \"['weight_bin'] not found in axis\""
     ]
    }
   ],
   "source": [
    "ua_data_new.drop(columns='weight_bin',axis=1)"
   ]
  },
  {
   "cell_type": "code",
   "execution_count": 96,
   "id": "fc2322cb",
   "metadata": {},
   "outputs": [
    {
     "data": {
      "text/plain": [
       "(87822, 3)"
      ]
     },
     "execution_count": 96,
     "metadata": {},
     "output_type": "execute_result"
    }
   ],
   "source": [
    "ua_data_new.shape"
   ]
  },
  {
   "cell_type": "code",
   "execution_count": 97,
   "id": "f5803b23",
   "metadata": {},
   "outputs": [
    {
     "data": {
      "text/html": [
       "<div>\n",
       "<style scoped>\n",
       "    .dataframe tbody tr th:only-of-type {\n",
       "        vertical-align: middle;\n",
       "    }\n",
       "\n",
       "    .dataframe tbody tr th {\n",
       "        vertical-align: top;\n",
       "    }\n",
       "\n",
       "    .dataframe thead tr th {\n",
       "        text-align: left;\n",
       "    }\n",
       "\n",
       "    .dataframe thead tr:last-of-type th {\n",
       "        text-align: right;\n",
       "    }\n",
       "</style>\n",
       "<table border=\"1\" class=\"dataframe\">\n",
       "  <thead>\n",
       "    <tr>\n",
       "      <th></th>\n",
       "      <th colspan=\"21\" halign=\"left\">weight</th>\n",
       "    </tr>\n",
       "    <tr>\n",
       "      <th>artistID</th>\n",
       "      <th>1</th>\n",
       "      <th>2</th>\n",
       "      <th>3</th>\n",
       "      <th>4</th>\n",
       "      <th>5</th>\n",
       "      <th>6</th>\n",
       "      <th>7</th>\n",
       "      <th>8</th>\n",
       "      <th>9</th>\n",
       "      <th>10</th>\n",
       "      <th>...</th>\n",
       "      <th>18736</th>\n",
       "      <th>18737</th>\n",
       "      <th>18738</th>\n",
       "      <th>18739</th>\n",
       "      <th>18740</th>\n",
       "      <th>18741</th>\n",
       "      <th>18742</th>\n",
       "      <th>18743</th>\n",
       "      <th>18744</th>\n",
       "      <th>18745</th>\n",
       "    </tr>\n",
       "    <tr>\n",
       "      <th>userID</th>\n",
       "      <th></th>\n",
       "      <th></th>\n",
       "      <th></th>\n",
       "      <th></th>\n",
       "      <th></th>\n",
       "      <th></th>\n",
       "      <th></th>\n",
       "      <th></th>\n",
       "      <th></th>\n",
       "      <th></th>\n",
       "      <th></th>\n",
       "      <th></th>\n",
       "      <th></th>\n",
       "      <th></th>\n",
       "      <th></th>\n",
       "      <th></th>\n",
       "      <th></th>\n",
       "      <th></th>\n",
       "      <th></th>\n",
       "      <th></th>\n",
       "      <th></th>\n",
       "    </tr>\n",
       "  </thead>\n",
       "  <tbody>\n",
       "    <tr>\n",
       "      <th>2</th>\n",
       "      <td>0</td>\n",
       "      <td>0</td>\n",
       "      <td>0</td>\n",
       "      <td>0</td>\n",
       "      <td>0</td>\n",
       "      <td>0</td>\n",
       "      <td>0</td>\n",
       "      <td>0</td>\n",
       "      <td>0</td>\n",
       "      <td>0</td>\n",
       "      <td>...</td>\n",
       "      <td>0</td>\n",
       "      <td>0</td>\n",
       "      <td>0</td>\n",
       "      <td>0</td>\n",
       "      <td>0</td>\n",
       "      <td>0</td>\n",
       "      <td>0</td>\n",
       "      <td>0</td>\n",
       "      <td>0</td>\n",
       "      <td>0</td>\n",
       "    </tr>\n",
       "    <tr>\n",
       "      <th>3</th>\n",
       "      <td>0</td>\n",
       "      <td>0</td>\n",
       "      <td>0</td>\n",
       "      <td>0</td>\n",
       "      <td>0</td>\n",
       "      <td>0</td>\n",
       "      <td>0</td>\n",
       "      <td>0</td>\n",
       "      <td>0</td>\n",
       "      <td>0</td>\n",
       "      <td>...</td>\n",
       "      <td>0</td>\n",
       "      <td>0</td>\n",
       "      <td>0</td>\n",
       "      <td>0</td>\n",
       "      <td>0</td>\n",
       "      <td>0</td>\n",
       "      <td>0</td>\n",
       "      <td>0</td>\n",
       "      <td>0</td>\n",
       "      <td>0</td>\n",
       "    </tr>\n",
       "    <tr>\n",
       "      <th>4</th>\n",
       "      <td>0</td>\n",
       "      <td>0</td>\n",
       "      <td>0</td>\n",
       "      <td>0</td>\n",
       "      <td>0</td>\n",
       "      <td>0</td>\n",
       "      <td>0</td>\n",
       "      <td>0</td>\n",
       "      <td>0</td>\n",
       "      <td>0</td>\n",
       "      <td>...</td>\n",
       "      <td>0</td>\n",
       "      <td>0</td>\n",
       "      <td>0</td>\n",
       "      <td>0</td>\n",
       "      <td>0</td>\n",
       "      <td>0</td>\n",
       "      <td>0</td>\n",
       "      <td>0</td>\n",
       "      <td>0</td>\n",
       "      <td>0</td>\n",
       "    </tr>\n",
       "    <tr>\n",
       "      <th>5</th>\n",
       "      <td>0</td>\n",
       "      <td>0</td>\n",
       "      <td>0</td>\n",
       "      <td>0</td>\n",
       "      <td>0</td>\n",
       "      <td>0</td>\n",
       "      <td>0</td>\n",
       "      <td>0</td>\n",
       "      <td>0</td>\n",
       "      <td>0</td>\n",
       "      <td>...</td>\n",
       "      <td>0</td>\n",
       "      <td>0</td>\n",
       "      <td>0</td>\n",
       "      <td>0</td>\n",
       "      <td>0</td>\n",
       "      <td>0</td>\n",
       "      <td>0</td>\n",
       "      <td>0</td>\n",
       "      <td>0</td>\n",
       "      <td>0</td>\n",
       "    </tr>\n",
       "    <tr>\n",
       "      <th>6</th>\n",
       "      <td>0</td>\n",
       "      <td>0</td>\n",
       "      <td>0</td>\n",
       "      <td>0</td>\n",
       "      <td>0</td>\n",
       "      <td>0</td>\n",
       "      <td>0</td>\n",
       "      <td>0</td>\n",
       "      <td>0</td>\n",
       "      <td>0</td>\n",
       "      <td>...</td>\n",
       "      <td>0</td>\n",
       "      <td>0</td>\n",
       "      <td>0</td>\n",
       "      <td>0</td>\n",
       "      <td>0</td>\n",
       "      <td>0</td>\n",
       "      <td>0</td>\n",
       "      <td>0</td>\n",
       "      <td>0</td>\n",
       "      <td>0</td>\n",
       "    </tr>\n",
       "  </tbody>\n",
       "</table>\n",
       "<p>5 rows × 16683 columns</p>\n",
       "</div>"
      ],
      "text/plain": [
       "         weight                                                        ...  \\\n",
       "artistID  1     2     3     4     5     6     7     8     9     10     ...   \n",
       "userID                                                                 ...   \n",
       "2             0     0     0     0     0     0     0     0     0     0  ...   \n",
       "3             0     0     0     0     0     0     0     0     0     0  ...   \n",
       "4             0     0     0     0     0     0     0     0     0     0  ...   \n",
       "5             0     0     0     0     0     0     0     0     0     0  ...   \n",
       "6             0     0     0     0     0     0     0     0     0     0  ...   \n",
       "\n",
       "                                                                      \n",
       "artistID 18736 18737 18738 18739 18740 18741 18742 18743 18744 18745  \n",
       "userID                                                                \n",
       "2            0     0     0     0     0     0     0     0     0     0  \n",
       "3            0     0     0     0     0     0     0     0     0     0  \n",
       "4            0     0     0     0     0     0     0     0     0     0  \n",
       "5            0     0     0     0     0     0     0     0     0     0  \n",
       "6            0     0     0     0     0     0     0     0     0     0  \n",
       "\n",
       "[5 rows x 16683 columns]"
      ]
     },
     "execution_count": 97,
     "metadata": {},
     "output_type": "execute_result"
    }
   ],
   "source": [
    "#Sparse matrix, we need to pivot the data\n",
    "data_pivot = ua_data_new.pivot(index='userID',\n",
    "                                       columns='artistID').fillna(0).astype(int)\n",
    "data_pivot.head()"
   ]
  },
  {
   "cell_type": "code",
   "execution_count": 100,
   "id": "25984b7e",
   "metadata": {},
   "outputs": [
    {
     "data": {
      "text/plain": [
       "(1867, 16683)"
      ]
     },
     "execution_count": 100,
     "metadata": {},
     "output_type": "execute_result"
    }
   ],
   "source": [
    "#Trying to make it more memory efficient\n",
    "# create scipy sparse from pivot tables\n",
    "data_sparse = sparse.csr_matrix(data_pivot)\n",
    "data_sparse.shape"
   ]
  },
  {
   "cell_type": "code",
   "execution_count": 11,
   "id": "2937b29b",
   "metadata": {},
   "outputs": [
    {
     "name": "stdout",
     "output_type": "stream",
     "text": [
      "(92834, 4)\n"
     ]
    },
    {
     "data": {
      "text/html": [
       "<div>\n",
       "<style scoped>\n",
       "    .dataframe tbody tr th:only-of-type {\n",
       "        vertical-align: middle;\n",
       "    }\n",
       "\n",
       "    .dataframe tbody tr th {\n",
       "        vertical-align: top;\n",
       "    }\n",
       "\n",
       "    .dataframe thead th {\n",
       "        text-align: right;\n",
       "    }\n",
       "</style>\n",
       "<table border=\"1\" class=\"dataframe\">\n",
       "  <thead>\n",
       "    <tr style=\"text-align: right;\">\n",
       "      <th></th>\n",
       "      <th>userID</th>\n",
       "      <th>artistID</th>\n",
       "      <th>scrobbles</th>\n",
       "      <th>name</th>\n",
       "    </tr>\n",
       "  </thead>\n",
       "  <tbody>\n",
       "    <tr>\n",
       "      <th>0</th>\n",
       "      <td>2</td>\n",
       "      <td>51</td>\n",
       "      <td>13883</td>\n",
       "      <td>Duran Duran</td>\n",
       "    </tr>\n",
       "    <tr>\n",
       "      <th>1</th>\n",
       "      <td>4</td>\n",
       "      <td>51</td>\n",
       "      <td>228</td>\n",
       "      <td>Duran Duran</td>\n",
       "    </tr>\n",
       "    <tr>\n",
       "      <th>2</th>\n",
       "      <td>27</td>\n",
       "      <td>51</td>\n",
       "      <td>85</td>\n",
       "      <td>Duran Duran</td>\n",
       "    </tr>\n",
       "    <tr>\n",
       "      <th>3</th>\n",
       "      <td>28</td>\n",
       "      <td>51</td>\n",
       "      <td>10</td>\n",
       "      <td>Duran Duran</td>\n",
       "    </tr>\n",
       "    <tr>\n",
       "      <th>4</th>\n",
       "      <td>62</td>\n",
       "      <td>51</td>\n",
       "      <td>528</td>\n",
       "      <td>Duran Duran</td>\n",
       "    </tr>\n",
       "  </tbody>\n",
       "</table>\n",
       "</div>"
      ],
      "text/plain": [
       "   userID  artistID  scrobbles         name\n",
       "0       2        51      13883  Duran Duran\n",
       "1       4        51        228  Duran Duran\n",
       "2      27        51         85  Duran Duran\n",
       "3      28        51         10  Duran Duran\n",
       "4      62        51        528  Duran Duran"
      ]
     },
     "execution_count": 11,
     "metadata": {},
     "output_type": "execute_result"
    }
   ],
   "source": [
    "#Merging some tables \n",
    "df_scrobbles = users_artists_data.merge(artists_data[['id','name']],\n",
    "                               how = 'inner',\n",
    "                               left_on = 'artistID',\n",
    "                               right_on = 'id')\n",
    "\n",
    "\n",
    "df_scrobbles = df_scrobbles.drop(columns=['id'])\n",
    "df_scrobbles.columns = ['userID','artistID','scrobbles','name']\n",
    "\n",
    "print(df_scrobbles.shape)\n",
    "df_scrobbles.head()"
   ]
  },
  {
   "cell_type": "code",
   "execution_count": 12,
   "id": "20e70375",
   "metadata": {},
   "outputs": [
    {
     "data": {
      "image/png": "[encoded data removed]",
      "text/plain": [
       "<Figure size 432x288 with 1 Axes>"
      ]
     },
     "metadata": {
      "needs_background": "light"
     },
     "output_type": "display_data"
    }
   ],
   "source": [
    "#Scrobble Distribution by artists:\n",
    "artists_group = df_scrobbles.groupby('artistID').agg({'scrobbles': ['sum']})\n",
    "\n",
    "artists_group.unstack().plot()\n",
    "plt.show()\n",
    "\n",
    "#Recommending popular artaists may not offer a personalized experience\n",
    "#but models might learn a lot about that data because they show up in so many samples\n",
    "\n"
   ]
  },
  {
   "cell_type": "code",
   "execution_count": 13,
   "id": "d625dac7",
   "metadata": {},
   "outputs": [
    {
     "data": {
      "text/html": [
       "<div>\n",
       "<style scoped>\n",
       "    .dataframe tbody tr th:only-of-type {\n",
       "        vertical-align: middle;\n",
       "    }\n",
       "\n",
       "    .dataframe tbody tr th {\n",
       "        vertical-align: top;\n",
       "    }\n",
       "\n",
       "    .dataframe thead tr th {\n",
       "        text-align: left;\n",
       "    }\n",
       "\n",
       "    .dataframe thead tr:last-of-type th {\n",
       "        text-align: right;\n",
       "    }\n",
       "</style>\n",
       "<table border=\"1\" class=\"dataframe\">\n",
       "  <thead>\n",
       "    <tr>\n",
       "      <th></th>\n",
       "      <th colspan=\"4\" halign=\"left\">scrobbles</th>\n",
       "    </tr>\n",
       "    <tr>\n",
       "      <th></th>\n",
       "      <th>min</th>\n",
       "      <th>max</th>\n",
       "      <th>sum</th>\n",
       "      <th>count</th>\n",
       "    </tr>\n",
       "    <tr>\n",
       "      <th>userID</th>\n",
       "      <th></th>\n",
       "      <th></th>\n",
       "      <th></th>\n",
       "      <th></th>\n",
       "    </tr>\n",
       "  </thead>\n",
       "  <tbody>\n",
       "    <tr>\n",
       "      <th>2</th>\n",
       "      <td>1315</td>\n",
       "      <td>13883</td>\n",
       "      <td>168737</td>\n",
       "      <td>50</td>\n",
       "    </tr>\n",
       "    <tr>\n",
       "      <th>3</th>\n",
       "      <td>65</td>\n",
       "      <td>13176</td>\n",
       "      <td>20501</td>\n",
       "      <td>50</td>\n",
       "    </tr>\n",
       "    <tr>\n",
       "      <th>4</th>\n",
       "      <td>193</td>\n",
       "      <td>4983</td>\n",
       "      <td>26930</td>\n",
       "      <td>50</td>\n",
       "    </tr>\n",
       "    <tr>\n",
       "      <th>5</th>\n",
       "      <td>115</td>\n",
       "      <td>884</td>\n",
       "      <td>13159</td>\n",
       "      <td>50</td>\n",
       "    </tr>\n",
       "    <tr>\n",
       "      <th>6</th>\n",
       "      <td>13</td>\n",
       "      <td>41</td>\n",
       "      <td>1011</td>\n",
       "      <td>50</td>\n",
       "    </tr>\n",
       "    <tr>\n",
       "      <th>...</th>\n",
       "      <td>...</td>\n",
       "      <td>...</td>\n",
       "      <td>...</td>\n",
       "      <td>...</td>\n",
       "    </tr>\n",
       "    <tr>\n",
       "      <th>2095</th>\n",
       "      <td>31</td>\n",
       "      <td>548</td>\n",
       "      <td>4885</td>\n",
       "      <td>50</td>\n",
       "    </tr>\n",
       "    <tr>\n",
       "      <th>2096</th>\n",
       "      <td>336</td>\n",
       "      <td>14690</td>\n",
       "      <td>62714</td>\n",
       "      <td>50</td>\n",
       "    </tr>\n",
       "    <tr>\n",
       "      <th>2097</th>\n",
       "      <td>107</td>\n",
       "      <td>2628</td>\n",
       "      <td>13830</td>\n",
       "      <td>50</td>\n",
       "    </tr>\n",
       "    <tr>\n",
       "      <th>2099</th>\n",
       "      <td>72</td>\n",
       "      <td>770</td>\n",
       "      <td>10179</td>\n",
       "      <td>50</td>\n",
       "    </tr>\n",
       "    <tr>\n",
       "      <th>2100</th>\n",
       "      <td>228</td>\n",
       "      <td>2026</td>\n",
       "      <td>30877</td>\n",
       "      <td>50</td>\n",
       "    </tr>\n",
       "  </tbody>\n",
       "</table>\n",
       "<p>1892 rows × 4 columns</p>\n",
       "</div>"
      ],
      "text/plain": [
       "       scrobbles                     \n",
       "             min    max     sum count\n",
       "userID                               \n",
       "2           1315  13883  168737    50\n",
       "3             65  13176   20501    50\n",
       "4            193   4983   26930    50\n",
       "5            115    884   13159    50\n",
       "6             13     41    1011    50\n",
       "...          ...    ...     ...   ...\n",
       "2095          31    548    4885    50\n",
       "2096         336  14690   62714    50\n",
       "2097         107   2628   13830    50\n",
       "2099          72    770   10179    50\n",
       "2100         228   2026   30877    50\n",
       "\n",
       "[1892 rows x 4 columns]"
      ]
     },
     "execution_count": 13,
     "metadata": {},
     "output_type": "execute_result"
    }
   ],
   "source": [
    "#Potential Risk\n",
    "#some users play lots of music. suppose their top artist was playe 10,000 times. \n",
    "#other users might be similar in preferences, with the same top artist, but with only 100 plays\n",
    "#CAN WE NORMALIZE AT USER LEVEL? \n",
    "scrobbles_sorted = df_scrobbles.groupby('userID').agg({'scrobbles': ['min', \n",
    "                                                                  'max',\n",
    "                                                                  'sum',\n",
    "                                                                  'count']})\n",
    "\n",
    "scrobbles_sorted\n",
    "#for example. For userID 2: 13,383 represents their top artist\n",
    "#for userID 6: 1,011 represet their top artist. If both top artists are Duran Duran\n",
    "#then the data points wont be as close to each other when maybe they should???\n",
    "#but if we scale the whole dataset the problem will remain suppose 13,383 gets converted\n",
    "#to 1.383 and 1,011 gets converted to 0.101. \n",
    "\n",
    "\n",
    "\n",
    "\n"
   ]
  },
  {
   "cell_type": "markdown",
   "id": "e527b28f",
   "metadata": {},
   "source": [
    "## Clustering"
   ]
  },
  {
   "cell_type": "code",
   "execution_count": null,
   "id": "3607fa0b",
   "metadata": {},
   "outputs": [],
   "source": [
    "#problem #1 the rating(weight) has different scales depending on heavy and light users\n",
    "#2 Distance metric\n",
    "''' \n",
    "Selection of similarity metric\n",
    "Some helpful cues while selecting similarity metric are-\n",
    "·Use Pearson when your data is subject to user-bias/ different ratings scales of users\n",
    "· Use Cosine, if data is sparse (many ratings are undefined)\n",
    "· Use Euclidean, if your data is not sparse and the magnitude of the attribute values is significant\n",
    "· Use adjusted cosine for Item-based approach to adjust for user-bias\n",
    "'''"
   ]
  },
  {
   "cell_type": "code",
   "execution_count": 14,
   "id": "4ed663f0",
   "metadata": {},
   "outputs": [
    {
     "name": "stdout",
     "output_type": "stream",
     "text": [
      "total artists:  17632\n"
     ]
    },
    {
     "data": {
      "text/html": [
       "<div>\n",
       "<style scoped>\n",
       "    .dataframe tbody tr th:only-of-type {\n",
       "        vertical-align: middle;\n",
       "    }\n",
       "\n",
       "    .dataframe tbody tr th {\n",
       "        vertical-align: top;\n",
       "    }\n",
       "\n",
       "    .dataframe thead th {\n",
       "        text-align: right;\n",
       "    }\n",
       "</style>\n",
       "<table border=\"1\" class=\"dataframe\">\n",
       "  <thead>\n",
       "    <tr style=\"text-align: right;\">\n",
       "      <th></th>\n",
       "      <th>artistID</th>\n",
       "      <th>scrobbles_sum</th>\n",
       "    </tr>\n",
       "  </thead>\n",
       "  <tbody>\n",
       "    <tr>\n",
       "      <th>0</th>\n",
       "      <td>1</td>\n",
       "      <td>771</td>\n",
       "    </tr>\n",
       "    <tr>\n",
       "      <th>1</th>\n",
       "      <td>2</td>\n",
       "      <td>8012</td>\n",
       "    </tr>\n",
       "    <tr>\n",
       "      <th>2</th>\n",
       "      <td>3</td>\n",
       "      <td>775</td>\n",
       "    </tr>\n",
       "    <tr>\n",
       "      <th>3</th>\n",
       "      <td>4</td>\n",
       "      <td>563</td>\n",
       "    </tr>\n",
       "    <tr>\n",
       "      <th>4</th>\n",
       "      <td>5</td>\n",
       "      <td>913</td>\n",
       "    </tr>\n",
       "  </tbody>\n",
       "</table>\n",
       "</div>"
      ],
      "text/plain": [
       "   artistID  scrobbles_sum\n",
       "0         1            771\n",
       "1         2           8012\n",
       "2         3            775\n",
       "3         4            563\n",
       "4         5            913"
      ]
     },
     "execution_count": 14,
     "metadata": {},
     "output_type": "execute_result"
    }
   ],
   "source": [
    "print('total artists: ',len(artists_group))\n",
    "threshold = 10\n",
    "# flatten the hierarchical index in columns\n",
    "artists_group.columns = ['_'.join(col).strip() for col in artists_group.columns.values]\n",
    "artists_group.reset_index(level=0, inplace=True)\n",
    "artists_group.head()\n"
   ]
  },
  {
   "cell_type": "code",
   "execution_count": 15,
   "id": "4e5d4ec1",
   "metadata": {},
   "outputs": [
    {
     "name": "stdout",
     "output_type": "stream",
     "text": [
      "original shape:  (92834, 3)\n",
      "new shape:  (92013, 3)\n",
      "pivot shape:  (1888, 16817)\n"
     ]
    }
   ],
   "source": [
    "artists_model = artists_group[artists_group['scrobbles_sum']>=threshold]\n",
    "#modify matrix\n",
    "print('original shape: ',users_artists_data.shape)\n",
    "filtered_artists = users_artists_data.merge(artists_model['artistID'],\n",
    "                                               how = 'inner',\n",
    "                                               left_on = 'artistID',\n",
    "                                               right_on = 'artistID')\n",
    "\n",
    "print('new shape: ',filtered_artists.shape)\n",
    "\n",
    "#Sparse matrix, we need to pivot the data\n",
    "data_pivot = filtered_artists.pivot(index='userID',\n",
    "                                       columns='artistID').fillna(0).astype(int)\n",
    "\n",
    "print('pivot shape: ',data_pivot.shape)\n",
    "\n",
    "\n",
    "#Trying to make it more memory efficient\n",
    "# create scipy sparse from pivot tables\n",
    "data_sparse = sparse.csr_matrix(data_pivot)"
   ]
  },
  {
   "cell_type": "code",
   "execution_count": 16,
   "id": "c193e4fc",
   "metadata": {},
   "outputs": [],
   "source": [
    "#to Numpy\n",
    "#data_pivot.to_numpy()\n",
    "#data_pivot.shape"
   ]
  },
  {
   "cell_type": "code",
   "execution_count": 17,
   "id": "580c48a2",
   "metadata": {},
   "outputs": [
    {
     "name": "stdout",
     "output_type": "stream",
     "text": [
      "NearestNeighbors(algorithm='brute', metric='cosine')\n"
     ]
    }
   ],
   "source": [
    "# Collaborative Filtering Using Nearest Neighbors\n",
    "\n",
    "''' \n",
    "NearestNeighbors implements unsupervised nearest neighbors learning. \n",
    "It acts as a uniform interface to three different nearest neighbors algorithms: BallTree,\n",
    "KDTree, and a brute-force algorithm based on routines in sklearn.metrics.pairwise. \n",
    "The choice of neighbors search algorithm is controlled through the keyword 'algorithm',\n",
    "which must be one of ['auto', 'ball_tree', 'kd_tree', 'brute']. When the default value 'auto' \n",
    "is passed, the algorithm attempts to determine the best approach from the training data. \n",
    "\n",
    "If there are some significant overlap between the two sets, we'd like the function to return a real number \n",
    "that is closer one (ex: 0.95) and vice versa the most dissimilar two sets of items are we want the items \n",
    "to approximate zero (ex: 0.05). Fortunately the positive values of cosine exhibit this behavior:\n",
    "Cosine(0)   = 1.0   # 0 degrees angle\n",
    "Cosine(π/4) ≈ 0.7   # 45 degrees angle\n",
    "Cosine(π/2) = 0.0   # 90 degrees angle\n",
    "https://www.linkedin.com/pulse/cosine-similarity-classification-michael-lin/\n",
    "''' \n",
    "\n",
    "\n",
    "from sklearn.neighbors import NearestNeighbors\n",
    "\n",
    "model_knn = NearestNeighbors(metric = 'cosine', algorithm = 'brute')\n",
    "model_knn.fit(data_sparse)\n",
    "print(model_knn)"
   ]
  },
  {
   "cell_type": "code",
   "execution_count": 115,
   "id": "4648a7f8",
   "metadata": {},
   "outputs": [
    {
     "name": "stdout",
     "output_type": "stream",
     "text": [
      "Neighbors for user 1505:\n",
      "\n",
      "1: User 767, with distance of 0.12235570583477862:\n",
      "2: User 2080, with distance of 0.1239312565202142:\n",
      "3: User 446, with distance of 0.12448113316308762:\n",
      "4: User 124, with distance of 0.12731665840070994:\n"
     ]
    }
   ],
   "source": [
    "#this data was not scaled, highly popular artists were included\n",
    "\n",
    "query_index = np.random.choice(data_pivot.shape[0])#pick a row from matrix\n",
    "user_vector = data_pivot.iloc[query_index,:].values.reshape(1,-1) #take artist lists \n",
    "user = data_pivot.index[query_index]\n",
    "\n",
    "n_neighbors = 5\n",
    "\n",
    "distances, indices = model_knn.kneighbors(user_vector, n_neighbors = n_neighbors)\n",
    "#print(indices)\n",
    "\n",
    "for i in range(0, n_neighbors):\n",
    "    if i == 0:\n",
    "        print('Neighbors for user {0}:\\n'.format(user))\n",
    "    else:\n",
    "        #print('{0}: {1}, with distance of {2}:'.format(i, data_pivot.index[indices.flatten()[i]], distances.flatten()[i]))\n",
    "         print('{0}: User {1}, with distance of {2}:'.format(i\n",
    "                                                        #,artists_data[artists_data['id']==indices.flatten()[i]]['name'].values[0]\n",
    "                                                        ,data_pivot.index[indices.flatten()[i]]\n",
    "                                                        ,distances.flatten()[i]))\n"
   ]
  },
  {
   "cell_type": "code",
   "execution_count": 116,
   "id": "bc38b911",
   "metadata": {},
   "outputs": [
    {
     "data": {
      "text/html": [
       "<div>\n",
       "<style scoped>\n",
       "    .dataframe tbody tr th:only-of-type {\n",
       "        vertical-align: middle;\n",
       "    }\n",
       "\n",
       "    .dataframe tbody tr th {\n",
       "        vertical-align: top;\n",
       "    }\n",
       "\n",
       "    .dataframe thead th {\n",
       "        text-align: right;\n",
       "    }\n",
       "</style>\n",
       "<table border=\"1\" class=\"dataframe\">\n",
       "  <thead>\n",
       "    <tr style=\"text-align: right;\">\n",
       "      <th></th>\n",
       "      <th>userID</th>\n",
       "      <th>artistID</th>\n",
       "      <th>scrobbles</th>\n",
       "      <th>name</th>\n",
       "    </tr>\n",
       "  </thead>\n",
       "  <tbody>\n",
       "    <tr>\n",
       "      <th>2242</th>\n",
       "      <td>1505</td>\n",
       "      <td>72</td>\n",
       "      <td>13790</td>\n",
       "      <td>Depeche Mode</td>\n",
       "    </tr>\n",
       "    <tr>\n",
       "      <th>3844</th>\n",
       "      <td>1505</td>\n",
       "      <td>153</td>\n",
       "      <td>4964</td>\n",
       "      <td>De/Vision</td>\n",
       "    </tr>\n",
       "    <tr>\n",
       "      <th>27148</th>\n",
       "      <td>1505</td>\n",
       "      <td>518</td>\n",
       "      <td>2603</td>\n",
       "      <td>Within Temptation</td>\n",
       "    </tr>\n",
       "    <tr>\n",
       "      <th>53301</th>\n",
       "      <td>1505</td>\n",
       "      <td>1793</td>\n",
       "      <td>2206</td>\n",
       "      <td>Schiller</td>\n",
       "    </tr>\n",
       "    <tr>\n",
       "      <th>52593</th>\n",
       "      <td>1505</td>\n",
       "      <td>1713</td>\n",
       "      <td>1919</td>\n",
       "      <td>Dave Gahan</td>\n",
       "    </tr>\n",
       "    <tr>\n",
       "      <th>6968</th>\n",
       "      <td>1505</td>\n",
       "      <td>193</td>\n",
       "      <td>1682</td>\n",
       "      <td>Tears for Fears</td>\n",
       "    </tr>\n",
       "    <tr>\n",
       "      <th>89235</th>\n",
       "      <td>1505</td>\n",
       "      <td>15094</td>\n",
       "      <td>1524</td>\n",
       "      <td>Nerdette</td>\n",
       "    </tr>\n",
       "    <tr>\n",
       "      <th>20694</th>\n",
       "      <td>1505</td>\n",
       "      <td>378</td>\n",
       "      <td>1390</td>\n",
       "      <td>Evanescence</td>\n",
       "    </tr>\n",
       "    <tr>\n",
       "      <th>84845</th>\n",
       "      <td>1505</td>\n",
       "      <td>11529</td>\n",
       "      <td>1290</td>\n",
       "      <td>Sync24</td>\n",
       "    </tr>\n",
       "    <tr>\n",
       "      <th>41183</th>\n",
       "      <td>1505</td>\n",
       "      <td>1014</td>\n",
       "      <td>1119</td>\n",
       "      <td>Erasure</td>\n",
       "    </tr>\n",
       "  </tbody>\n",
       "</table>\n",
       "</div>"
      ],
      "text/plain": [
       "       userID  artistID  scrobbles               name\n",
       "2242     1505        72      13790       Depeche Mode\n",
       "3844     1505       153       4964          De/Vision\n",
       "27148    1505       518       2603  Within Temptation\n",
       "53301    1505      1793       2206           Schiller\n",
       "52593    1505      1713       1919         Dave Gahan\n",
       "6968     1505       193       1682    Tears for Fears\n",
       "89235    1505     15094       1524           Nerdette\n",
       "20694    1505       378       1390        Evanescence\n",
       "84845    1505     11529       1290             Sync24\n",
       "41183    1505      1014       1119            Erasure"
      ]
     },
     "execution_count": 116,
     "metadata": {},
     "output_type": "execute_result"
    }
   ],
   "source": [
    "#user top 10 artists\n",
    "df_scrobbles[df_scrobbles['userID']==user].sort_values(by='scrobbles',ascending = False).head(10)  \n",
    "\n"
   ]
  },
  {
   "cell_type": "code",
   "execution_count": 117,
   "id": "3cea2be1",
   "metadata": {},
   "outputs": [
    {
     "data": {
      "text/html": [
       "<div>\n",
       "<style scoped>\n",
       "    .dataframe tbody tr th:only-of-type {\n",
       "        vertical-align: middle;\n",
       "    }\n",
       "\n",
       "    .dataframe tbody tr th {\n",
       "        vertical-align: top;\n",
       "    }\n",
       "\n",
       "    .dataframe thead th {\n",
       "        text-align: right;\n",
       "    }\n",
       "</style>\n",
       "<table border=\"1\" class=\"dataframe\">\n",
       "  <thead>\n",
       "    <tr style=\"text-align: right;\">\n",
       "      <th></th>\n",
       "      <th>userID</th>\n",
       "      <th>artistID</th>\n",
       "      <th>scrobbles</th>\n",
       "      <th>name</th>\n",
       "    </tr>\n",
       "  </thead>\n",
       "  <tbody>\n",
       "    <tr>\n",
       "      <th>2147</th>\n",
       "      <td>767</td>\n",
       "      <td>72</td>\n",
       "      <td>71852</td>\n",
       "      <td>Depeche Mode</td>\n",
       "    </tr>\n",
       "    <tr>\n",
       "      <th>42330</th>\n",
       "      <td>767</td>\n",
       "      <td>30</td>\n",
       "      <td>6316</td>\n",
       "      <td>And One</td>\n",
       "    </tr>\n",
       "    <tr>\n",
       "      <th>52578</th>\n",
       "      <td>767</td>\n",
       "      <td>1713</td>\n",
       "      <td>5741</td>\n",
       "      <td>Dave Gahan</td>\n",
       "    </tr>\n",
       "    <tr>\n",
       "      <th>6572</th>\n",
       "      <td>767</td>\n",
       "      <td>190</td>\n",
       "      <td>3257</td>\n",
       "      <td>Muse</td>\n",
       "    </tr>\n",
       "    <tr>\n",
       "      <th>5618</th>\n",
       "      <td>767</td>\n",
       "      <td>173</td>\n",
       "      <td>3144</td>\n",
       "      <td>Placebo</td>\n",
       "    </tr>\n",
       "    <tr>\n",
       "      <th>20618</th>\n",
       "      <td>767</td>\n",
       "      <td>378</td>\n",
       "      <td>1894</td>\n",
       "      <td>Evanescence</td>\n",
       "    </tr>\n",
       "    <tr>\n",
       "      <th>37427</th>\n",
       "      <td>767</td>\n",
       "      <td>880</td>\n",
       "      <td>1284</td>\n",
       "      <td>Nitzer Ebb</td>\n",
       "    </tr>\n",
       "    <tr>\n",
       "      <th>42503</th>\n",
       "      <td>767</td>\n",
       "      <td>1072</td>\n",
       "      <td>1274</td>\n",
       "      <td>Martin L. Gore</td>\n",
       "    </tr>\n",
       "    <tr>\n",
       "      <th>82399</th>\n",
       "      <td>767</td>\n",
       "      <td>9886</td>\n",
       "      <td>998</td>\n",
       "      <td>Raz, Dwa, Trzy</td>\n",
       "    </tr>\n",
       "    <tr>\n",
       "      <th>63863</th>\n",
       "      <td>767</td>\n",
       "      <td>3237</td>\n",
       "      <td>872</td>\n",
       "      <td>Hey</td>\n",
       "    </tr>\n",
       "  </tbody>\n",
       "</table>\n",
       "</div>"
      ],
      "text/plain": [
       "       userID  artistID  scrobbles            name\n",
       "2147      767        72      71852    Depeche Mode\n",
       "42330     767        30       6316         And One\n",
       "52578     767      1713       5741      Dave Gahan\n",
       "6572      767       190       3257            Muse\n",
       "5618      767       173       3144         Placebo\n",
       "20618     767       378       1894     Evanescence\n",
       "37427     767       880       1284      Nitzer Ebb\n",
       "42503     767      1072       1274  Martin L. Gore\n",
       "82399     767      9886        998  Raz, Dwa, Trzy\n",
       "63863     767      3237        872             Hey"
      ]
     },
     "execution_count": 117,
     "metadata": {},
     "output_type": "execute_result"
    }
   ],
   "source": [
    "#closest neighbor top 10 artist\n",
    "closest_neighbor = data_pivot.index[indices.flatten()[1]]\n",
    "df_scrobbles[df_scrobbles['userID']==closest_neighbor].sort_values(by='scrobbles',ascending = False).head(10)  \n"
   ]
  },
  {
   "cell_type": "code",
   "execution_count": 118,
   "id": "5a7d7d44",
   "metadata": {},
   "outputs": [
    {
     "data": {
      "text/html": [
       "<div>\n",
       "<style scoped>\n",
       "    .dataframe tbody tr th:only-of-type {\n",
       "        vertical-align: middle;\n",
       "    }\n",
       "\n",
       "    .dataframe tbody tr th {\n",
       "        vertical-align: top;\n",
       "    }\n",
       "\n",
       "    .dataframe thead th {\n",
       "        text-align: right;\n",
       "    }\n",
       "</style>\n",
       "<table border=\"1\" class=\"dataframe\">\n",
       "  <thead>\n",
       "    <tr style=\"text-align: right;\">\n",
       "      <th></th>\n",
       "      <th>userID</th>\n",
       "      <th>artistID</th>\n",
       "      <th>scrobbles</th>\n",
       "      <th>name</th>\n",
       "    </tr>\n",
       "  </thead>\n",
       "  <tbody>\n",
       "    <tr>\n",
       "      <th>2310</th>\n",
       "      <td>2080</td>\n",
       "      <td>72</td>\n",
       "      <td>80721</td>\n",
       "      <td>Depeche Mode</td>\n",
       "    </tr>\n",
       "    <tr>\n",
       "      <th>52602</th>\n",
       "      <td>2080</td>\n",
       "      <td>1713</td>\n",
       "      <td>6559</td>\n",
       "      <td>Dave Gahan</td>\n",
       "    </tr>\n",
       "    <tr>\n",
       "      <th>2531</th>\n",
       "      <td>2080</td>\n",
       "      <td>81</td>\n",
       "      <td>4869</td>\n",
       "      <td>Portishead</td>\n",
       "    </tr>\n",
       "    <tr>\n",
       "      <th>34685</th>\n",
       "      <td>2080</td>\n",
       "      <td>748</td>\n",
       "      <td>3384</td>\n",
       "      <td>Boards of Canada</td>\n",
       "    </tr>\n",
       "    <tr>\n",
       "      <th>208</th>\n",
       "      <td>2080</td>\n",
       "      <td>53</td>\n",
       "      <td>2087</td>\n",
       "      <td>Air</td>\n",
       "    </tr>\n",
       "    <tr>\n",
       "      <th>77997</th>\n",
       "      <td>2080</td>\n",
       "      <td>7470</td>\n",
       "      <td>1918</td>\n",
       "      <td>LFO</td>\n",
       "    </tr>\n",
       "    <tr>\n",
       "      <th>882</th>\n",
       "      <td>2080</td>\n",
       "      <td>59</td>\n",
       "      <td>1782</td>\n",
       "      <td>New Order</td>\n",
       "    </tr>\n",
       "    <tr>\n",
       "      <th>54428</th>\n",
       "      <td>2080</td>\n",
       "      <td>1893</td>\n",
       "      <td>1627</td>\n",
       "      <td>Yellow Magic Orchestra</td>\n",
       "    </tr>\n",
       "    <tr>\n",
       "      <th>74645</th>\n",
       "      <td>2080</td>\n",
       "      <td>6150</td>\n",
       "      <td>1313</td>\n",
       "      <td>Tangerine Dream</td>\n",
       "    </tr>\n",
       "    <tr>\n",
       "      <th>37435</th>\n",
       "      <td>2080</td>\n",
       "      <td>880</td>\n",
       "      <td>1226</td>\n",
       "      <td>Nitzer Ebb</td>\n",
       "    </tr>\n",
       "  </tbody>\n",
       "</table>\n",
       "</div>"
      ],
      "text/plain": [
       "       userID  artistID  scrobbles                    name\n",
       "2310     2080        72      80721            Depeche Mode\n",
       "52602    2080      1713       6559              Dave Gahan\n",
       "2531     2080        81       4869              Portishead\n",
       "34685    2080       748       3384        Boards of Canada\n",
       "208      2080        53       2087                     Air\n",
       "77997    2080      7470       1918                     LFO\n",
       "882      2080        59       1782               New Order\n",
       "54428    2080      1893       1627  Yellow Magic Orchestra\n",
       "74645    2080      6150       1313         Tangerine Dream\n",
       "37435    2080       880       1226              Nitzer Ebb"
      ]
     },
     "execution_count": 118,
     "metadata": {},
     "output_type": "execute_result"
    }
   ],
   "source": [
    "# 2nd closest neighbor top 10 artist\n",
    "closest_neighbor = data_pivot.index[indices.flatten()[2]]\n",
    "df_scrobbles[df_scrobbles['userID']==closest_neighbor].sort_values(by='scrobbles',ascending = False).head(10)  \n",
    "\n"
   ]
  },
  {
   "cell_type": "code",
   "execution_count": null,
   "id": "d002168f",
   "metadata": {},
   "outputs": [],
   "source": [
    "#Ok.... but how do we recommend an artist??\n",
    "\n"
   ]
  },
  {
   "cell_type": "code",
   "execution_count": null,
   "id": "903cdcb0",
   "metadata": {},
   "outputs": [],
   "source": [
    "#ok but what if I want the clusters and its info\n",
    "from sklearn.cluster import KMeans\n",
    "kmeans = KMeans(n_clusters=200, random_state=0).fit(data_sparse)\n",
    "kmeans.labels_"
   ]
  },
  {
   "cell_type": "code",
   "execution_count": null,
   "id": "4c5f8ffe",
   "metadata": {},
   "outputs": [],
   "source": [
    "#centroids\n",
    "len(kmeans.cluster_centers_)"
   ]
  },
  {
   "cell_type": "code",
   "execution_count": null,
   "id": "e9f6c357",
   "metadata": {},
   "outputs": [],
   "source": []
  },
  {
   "cell_type": "code",
   "execution_count": null,
   "id": "9303ddd3",
   "metadata": {},
   "outputs": [],
   "source": []
  }
 ],
 "metadata": {
  "kernelspec": {
   "display_name": "Python 3",
   "language": "python",
   "name": "python3"
  },
  "language_info": {
   "codemirror_mode": {
    "name": "ipython",
    "version": 3
   },
   "file_extension": ".py",
   "mimetype": "text/x-python",
   "name": "python",
   "nbconvert_exporter": "python",
   "pygments_lexer": "ipython3",
   "version": "3.8.8"
  }
 },
 "nbformat": 4,
 "nbformat_minor": 5
}
